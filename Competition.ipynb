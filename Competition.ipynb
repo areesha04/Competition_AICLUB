{
 "cells": [
  {
   "cell_type": "markdown",
   "metadata": {
    "id": "z15B1eHj2ZDA"
   },
   "source": [
    "\n",
    "### download csv file from link\n",
    "url = 'https://drive.google.com/file/d/1dNa74t9Yu7lzTqCm1R6jeL04A0-mxvz0/view?usp=sharing'"
   ]
  },
  {
   "cell_type": "code",
   "execution_count": 1,
   "metadata": {
    "colab": {
     "base_uri": "https://localhost:8080/"
    },
    "id": "3XAUbJ8iaxD9",
    "outputId": "c1882e85-c92b-4327-9ac9-99819187bc53"
   },
   "outputs": [
    {
     "name": "stdout",
     "output_type": "stream",
     "text": [
      "Drive already mounted at /content/drive; to attempt to forcibly remount, call drive.mount(\"/content/drive\", force_remount=True).\n"
     ]
    }
   ],
   "source": [
    "from google.colab import drive\n",
    "drive.mount(\"/content/drive\")"
   ]
  },
  {
   "cell_type": "code",
   "execution_count": 2,
   "metadata": {
    "colab": {
     "base_uri": "https://localhost:8080/",
     "height": 503
    },
    "id": "UkM6wJ0yf6oi",
    "outputId": "33f29b4e-0dda-41e1-cb79-64adca3d2bcb"
   },
   "outputs": [
    {
     "name": "stderr",
     "output_type": "stream",
     "text": [
      "/usr/local/lib/python3.7/dist-packages/IPython/core/interactiveshell.py:2718: DtypeWarning: Columns (20) have mixed types.Specify dtype option on import or set low_memory=False.\n",
      "  interactivity=interactivity, compiler=compiler, result=result)\n"
     ]
    },
    {
     "data": {
      "text/html": [
       "\n",
       "  <div id=\"df-1341414d-c15b-45fc-9fec-a7b8b1430c0d\">\n",
       "    <div class=\"colab-df-container\">\n",
       "      <div>\n",
       "<style scoped>\n",
       "    .dataframe tbody tr th:only-of-type {\n",
       "        vertical-align: middle;\n",
       "    }\n",
       "\n",
       "    .dataframe tbody tr th {\n",
       "        vertical-align: top;\n",
       "    }\n",
       "\n",
       "    .dataframe thead th {\n",
       "        text-align: right;\n",
       "    }\n",
       "</style>\n",
       "<table border=\"1\" class=\"dataframe\">\n",
       "  <thead>\n",
       "    <tr style=\"text-align: right;\">\n",
       "      <th></th>\n",
       "      <th>Unnamed: 0</th>\n",
       "      <th>id</th>\n",
       "      <th>member_id</th>\n",
       "      <th>loan_amnt</th>\n",
       "      <th>funded_amnt</th>\n",
       "      <th>funded_amnt_inv</th>\n",
       "      <th>term</th>\n",
       "      <th>int_rate</th>\n",
       "      <th>installment</th>\n",
       "      <th>grade</th>\n",
       "      <th>sub_grade</th>\n",
       "      <th>emp_title</th>\n",
       "      <th>emp_length</th>\n",
       "      <th>home_ownership</th>\n",
       "      <th>annual_inc</th>\n",
       "      <th>verification_status</th>\n",
       "      <th>issue_d</th>\n",
       "      <th>loan_status</th>\n",
       "      <th>pymnt_plan</th>\n",
       "      <th>url</th>\n",
       "      <th>desc</th>\n",
       "      <th>purpose</th>\n",
       "      <th>title</th>\n",
       "      <th>zip_code</th>\n",
       "      <th>addr_state</th>\n",
       "      <th>dti</th>\n",
       "      <th>delinq_2yrs</th>\n",
       "      <th>earliest_cr_line</th>\n",
       "      <th>inq_last_6mths</th>\n",
       "      <th>mths_since_last_delinq</th>\n",
       "      <th>mths_since_last_record</th>\n",
       "      <th>open_acc</th>\n",
       "      <th>pub_rec</th>\n",
       "      <th>revol_bal</th>\n",
       "      <th>revol_util</th>\n",
       "      <th>total_acc</th>\n",
       "      <th>initial_list_status</th>\n",
       "      <th>out_prncp</th>\n",
       "      <th>out_prncp_inv</th>\n",
       "      <th>total_pymnt</th>\n",
       "      <th>total_pymnt_inv</th>\n",
       "      <th>total_rec_prncp</th>\n",
       "      <th>total_rec_int</th>\n",
       "      <th>total_rec_late_fee</th>\n",
       "      <th>recoveries</th>\n",
       "      <th>collection_recovery_fee</th>\n",
       "      <th>last_pymnt_d</th>\n",
       "      <th>last_pymnt_amnt</th>\n",
       "      <th>next_pymnt_d</th>\n",
       "      <th>last_credit_pull_d</th>\n",
       "      <th>collections_12_mths_ex_med</th>\n",
       "      <th>mths_since_last_major_derog</th>\n",
       "      <th>policy_code</th>\n",
       "      <th>application_type</th>\n",
       "      <th>annual_inc_joint</th>\n",
       "      <th>dti_joint</th>\n",
       "      <th>verification_status_joint</th>\n",
       "      <th>acc_now_delinq</th>\n",
       "      <th>tot_coll_amt</th>\n",
       "      <th>tot_cur_bal</th>\n",
       "      <th>open_acc_6m</th>\n",
       "      <th>open_il_6m</th>\n",
       "      <th>open_il_12m</th>\n",
       "      <th>open_il_24m</th>\n",
       "      <th>mths_since_rcnt_il</th>\n",
       "      <th>total_bal_il</th>\n",
       "      <th>il_util</th>\n",
       "      <th>open_rv_12m</th>\n",
       "      <th>open_rv_24m</th>\n",
       "      <th>max_bal_bc</th>\n",
       "      <th>all_util</th>\n",
       "      <th>total_rev_hi_lim</th>\n",
       "      <th>inq_fi</th>\n",
       "      <th>total_cu_tl</th>\n",
       "      <th>inq_last_12m</th>\n",
       "    </tr>\n",
       "  </thead>\n",
       "  <tbody>\n",
       "    <tr>\n",
       "      <th>0</th>\n",
       "      <td>0</td>\n",
       "      <td>1077501</td>\n",
       "      <td>1296599</td>\n",
       "      <td>5000</td>\n",
       "      <td>5000</td>\n",
       "      <td>4975.0</td>\n",
       "      <td>36 months</td>\n",
       "      <td>10.65</td>\n",
       "      <td>162.87</td>\n",
       "      <td>B</td>\n",
       "      <td>B2</td>\n",
       "      <td>NaN</td>\n",
       "      <td>10+ years</td>\n",
       "      <td>RENT</td>\n",
       "      <td>24000.0</td>\n",
       "      <td>Verified</td>\n",
       "      <td>Dec-11</td>\n",
       "      <td>Fully Paid</td>\n",
       "      <td>n</td>\n",
       "      <td>https://www.lendingclub.com/browse/loanDetail....</td>\n",
       "      <td>Borrower added on 12/22/11 &gt; I need to upgra...</td>\n",
       "      <td>credit_card</td>\n",
       "      <td>Computer</td>\n",
       "      <td>860xx</td>\n",
       "      <td>AZ</td>\n",
       "      <td>27.65</td>\n",
       "      <td>0.0</td>\n",
       "      <td>Jan-85</td>\n",
       "      <td>1.0</td>\n",
       "      <td>NaN</td>\n",
       "      <td>NaN</td>\n",
       "      <td>3.0</td>\n",
       "      <td>0.0</td>\n",
       "      <td>13648</td>\n",
       "      <td>83.7</td>\n",
       "      <td>9.0</td>\n",
       "      <td>f</td>\n",
       "      <td>0.0</td>\n",
       "      <td>0.0</td>\n",
       "      <td>5861.071414</td>\n",
       "      <td>5831.78</td>\n",
       "      <td>5000.00</td>\n",
       "      <td>861.07</td>\n",
       "      <td>0.0</td>\n",
       "      <td>0.00</td>\n",
       "      <td>0.00</td>\n",
       "      <td>Jan-15</td>\n",
       "      <td>171.62</td>\n",
       "      <td>NaN</td>\n",
       "      <td>Jan-16</td>\n",
       "      <td>0.0</td>\n",
       "      <td>NaN</td>\n",
       "      <td>1</td>\n",
       "      <td>INDIVIDUAL</td>\n",
       "      <td>NaN</td>\n",
       "      <td>NaN</td>\n",
       "      <td>NaN</td>\n",
       "      <td>0.0</td>\n",
       "      <td>NaN</td>\n",
       "      <td>NaN</td>\n",
       "      <td>NaN</td>\n",
       "      <td>NaN</td>\n",
       "      <td>NaN</td>\n",
       "      <td>NaN</td>\n",
       "      <td>NaN</td>\n",
       "      <td>NaN</td>\n",
       "      <td>NaN</td>\n",
       "      <td>NaN</td>\n",
       "      <td>NaN</td>\n",
       "      <td>NaN</td>\n",
       "      <td>NaN</td>\n",
       "      <td>NaN</td>\n",
       "      <td>NaN</td>\n",
       "      <td>NaN</td>\n",
       "      <td>NaN</td>\n",
       "    </tr>\n",
       "    <tr>\n",
       "      <th>1</th>\n",
       "      <td>1</td>\n",
       "      <td>1077430</td>\n",
       "      <td>1314167</td>\n",
       "      <td>2500</td>\n",
       "      <td>2500</td>\n",
       "      <td>2500.0</td>\n",
       "      <td>60 months</td>\n",
       "      <td>15.27</td>\n",
       "      <td>59.83</td>\n",
       "      <td>C</td>\n",
       "      <td>C4</td>\n",
       "      <td>Ryder</td>\n",
       "      <td>&lt; 1 year</td>\n",
       "      <td>RENT</td>\n",
       "      <td>30000.0</td>\n",
       "      <td>Source Verified</td>\n",
       "      <td>Dec-11</td>\n",
       "      <td>Charged Off</td>\n",
       "      <td>n</td>\n",
       "      <td>https://www.lendingclub.com/browse/loanDetail....</td>\n",
       "      <td>Borrower added on 12/22/11 &gt; I plan to use t...</td>\n",
       "      <td>car</td>\n",
       "      <td>bike</td>\n",
       "      <td>309xx</td>\n",
       "      <td>GA</td>\n",
       "      <td>1.00</td>\n",
       "      <td>0.0</td>\n",
       "      <td>Apr-99</td>\n",
       "      <td>5.0</td>\n",
       "      <td>NaN</td>\n",
       "      <td>NaN</td>\n",
       "      <td>3.0</td>\n",
       "      <td>0.0</td>\n",
       "      <td>1687</td>\n",
       "      <td>9.4</td>\n",
       "      <td>4.0</td>\n",
       "      <td>f</td>\n",
       "      <td>0.0</td>\n",
       "      <td>0.0</td>\n",
       "      <td>1008.710000</td>\n",
       "      <td>1008.71</td>\n",
       "      <td>456.46</td>\n",
       "      <td>435.17</td>\n",
       "      <td>0.0</td>\n",
       "      <td>117.08</td>\n",
       "      <td>1.11</td>\n",
       "      <td>Apr-13</td>\n",
       "      <td>119.66</td>\n",
       "      <td>NaN</td>\n",
       "      <td>Sep-13</td>\n",
       "      <td>0.0</td>\n",
       "      <td>NaN</td>\n",
       "      <td>1</td>\n",
       "      <td>INDIVIDUAL</td>\n",
       "      <td>NaN</td>\n",
       "      <td>NaN</td>\n",
       "      <td>NaN</td>\n",
       "      <td>0.0</td>\n",
       "      <td>NaN</td>\n",
       "      <td>NaN</td>\n",
       "      <td>NaN</td>\n",
       "      <td>NaN</td>\n",
       "      <td>NaN</td>\n",
       "      <td>NaN</td>\n",
       "      <td>NaN</td>\n",
       "      <td>NaN</td>\n",
       "      <td>NaN</td>\n",
       "      <td>NaN</td>\n",
       "      <td>NaN</td>\n",
       "      <td>NaN</td>\n",
       "      <td>NaN</td>\n",
       "      <td>NaN</td>\n",
       "      <td>NaN</td>\n",
       "      <td>NaN</td>\n",
       "      <td>NaN</td>\n",
       "    </tr>\n",
       "    <tr>\n",
       "      <th>2</th>\n",
       "      <td>2</td>\n",
       "      <td>1077175</td>\n",
       "      <td>1313524</td>\n",
       "      <td>2400</td>\n",
       "      <td>2400</td>\n",
       "      <td>2400.0</td>\n",
       "      <td>36 months</td>\n",
       "      <td>15.96</td>\n",
       "      <td>84.33</td>\n",
       "      <td>C</td>\n",
       "      <td>C5</td>\n",
       "      <td>NaN</td>\n",
       "      <td>10+ years</td>\n",
       "      <td>RENT</td>\n",
       "      <td>12252.0</td>\n",
       "      <td>Not Verified</td>\n",
       "      <td>Dec-11</td>\n",
       "      <td>Fully Paid</td>\n",
       "      <td>n</td>\n",
       "      <td>https://www.lendingclub.com/browse/loanDetail....</td>\n",
       "      <td>NaN</td>\n",
       "      <td>small_business</td>\n",
       "      <td>real estate business</td>\n",
       "      <td>606xx</td>\n",
       "      <td>IL</td>\n",
       "      <td>8.72</td>\n",
       "      <td>0.0</td>\n",
       "      <td>Nov-01</td>\n",
       "      <td>2.0</td>\n",
       "      <td>NaN</td>\n",
       "      <td>NaN</td>\n",
       "      <td>2.0</td>\n",
       "      <td>0.0</td>\n",
       "      <td>2956</td>\n",
       "      <td>98.5</td>\n",
       "      <td>10.0</td>\n",
       "      <td>f</td>\n",
       "      <td>0.0</td>\n",
       "      <td>0.0</td>\n",
       "      <td>3003.653644</td>\n",
       "      <td>3003.65</td>\n",
       "      <td>2400.00</td>\n",
       "      <td>603.65</td>\n",
       "      <td>0.0</td>\n",
       "      <td>0.00</td>\n",
       "      <td>0.00</td>\n",
       "      <td>Jun-14</td>\n",
       "      <td>649.91</td>\n",
       "      <td>NaN</td>\n",
       "      <td>Jan-16</td>\n",
       "      <td>0.0</td>\n",
       "      <td>NaN</td>\n",
       "      <td>1</td>\n",
       "      <td>INDIVIDUAL</td>\n",
       "      <td>NaN</td>\n",
       "      <td>NaN</td>\n",
       "      <td>NaN</td>\n",
       "      <td>0.0</td>\n",
       "      <td>NaN</td>\n",
       "      <td>NaN</td>\n",
       "      <td>NaN</td>\n",
       "      <td>NaN</td>\n",
       "      <td>NaN</td>\n",
       "      <td>NaN</td>\n",
       "      <td>NaN</td>\n",
       "      <td>NaN</td>\n",
       "      <td>NaN</td>\n",
       "      <td>NaN</td>\n",
       "      <td>NaN</td>\n",
       "      <td>NaN</td>\n",
       "      <td>NaN</td>\n",
       "      <td>NaN</td>\n",
       "      <td>NaN</td>\n",
       "      <td>NaN</td>\n",
       "      <td>NaN</td>\n",
       "    </tr>\n",
       "  </tbody>\n",
       "</table>\n",
       "</div>\n",
       "      <button class=\"colab-df-convert\" onclick=\"convertToInteractive('df-1341414d-c15b-45fc-9fec-a7b8b1430c0d')\"\n",
       "              title=\"Convert this dataframe to an interactive table.\"\n",
       "              style=\"display:none;\">\n",
       "        \n",
       "  <svg xmlns=\"http://www.w3.org/2000/svg\" height=\"24px\"viewBox=\"0 0 24 24\"\n",
       "       width=\"24px\">\n",
       "    <path d=\"M0 0h24v24H0V0z\" fill=\"none\"/>\n",
       "    <path d=\"M18.56 5.44l.94 2.06.94-2.06 2.06-.94-2.06-.94-.94-2.06-.94 2.06-2.06.94zm-11 1L8.5 8.5l.94-2.06 2.06-.94-2.06-.94L8.5 2.5l-.94 2.06-2.06.94zm10 10l.94 2.06.94-2.06 2.06-.94-2.06-.94-.94-2.06-.94 2.06-2.06.94z\"/><path d=\"M17.41 7.96l-1.37-1.37c-.4-.4-.92-.59-1.43-.59-.52 0-1.04.2-1.43.59L10.3 9.45l-7.72 7.72c-.78.78-.78 2.05 0 2.83L4 21.41c.39.39.9.59 1.41.59.51 0 1.02-.2 1.41-.59l7.78-7.78 2.81-2.81c.8-.78.8-2.07 0-2.86zM5.41 20L4 18.59l7.72-7.72 1.47 1.35L5.41 20z\"/>\n",
       "  </svg>\n",
       "      </button>\n",
       "      \n",
       "  <style>\n",
       "    .colab-df-container {\n",
       "      display:flex;\n",
       "      flex-wrap:wrap;\n",
       "      gap: 12px;\n",
       "    }\n",
       "\n",
       "    .colab-df-convert {\n",
       "      background-color: #E8F0FE;\n",
       "      border: none;\n",
       "      border-radius: 50%;\n",
       "      cursor: pointer;\n",
       "      display: none;\n",
       "      fill: #1967D2;\n",
       "      height: 32px;\n",
       "      padding: 0 0 0 0;\n",
       "      width: 32px;\n",
       "    }\n",
       "\n",
       "    .colab-df-convert:hover {\n",
       "      background-color: #E2EBFA;\n",
       "      box-shadow: 0px 1px 2px rgba(60, 64, 67, 0.3), 0px 1px 3px 1px rgba(60, 64, 67, 0.15);\n",
       "      fill: #174EA6;\n",
       "    }\n",
       "\n",
       "    [theme=dark] .colab-df-convert {\n",
       "      background-color: #3B4455;\n",
       "      fill: #D2E3FC;\n",
       "    }\n",
       "\n",
       "    [theme=dark] .colab-df-convert:hover {\n",
       "      background-color: #434B5C;\n",
       "      box-shadow: 0px 1px 3px 1px rgba(0, 0, 0, 0.15);\n",
       "      filter: drop-shadow(0px 1px 2px rgba(0, 0, 0, 0.3));\n",
       "      fill: #FFFFFF;\n",
       "    }\n",
       "  </style>\n",
       "\n",
       "      <script>\n",
       "        const buttonEl =\n",
       "          document.querySelector('#df-1341414d-c15b-45fc-9fec-a7b8b1430c0d button.colab-df-convert');\n",
       "        buttonEl.style.display =\n",
       "          google.colab.kernel.accessAllowed ? 'block' : 'none';\n",
       "\n",
       "        async function convertToInteractive(key) {\n",
       "          const element = document.querySelector('#df-1341414d-c15b-45fc-9fec-a7b8b1430c0d');\n",
       "          const dataTable =\n",
       "            await google.colab.kernel.invokeFunction('convertToInteractive',\n",
       "                                                     [key], {});\n",
       "          if (!dataTable) return;\n",
       "\n",
       "          const docLinkHtml = 'Like what you see? Visit the ' +\n",
       "            '<a target=\"_blank\" href=https://colab.research.google.com/notebooks/data_table.ipynb>data table notebook</a>'\n",
       "            + ' to learn more about interactive tables.';\n",
       "          element.innerHTML = '';\n",
       "          dataTable['output_type'] = 'display_data';\n",
       "          await google.colab.output.renderOutput(dataTable, element);\n",
       "          const docLink = document.createElement('div');\n",
       "          docLink.innerHTML = docLinkHtml;\n",
       "          element.appendChild(docLink);\n",
       "        }\n",
       "      </script>\n",
       "    </div>\n",
       "  </div>\n",
       "  "
      ],
      "text/plain": [
       "   Unnamed: 0       id  member_id  ...  inq_fi  total_cu_tl  inq_last_12m\n",
       "0           0  1077501    1296599  ...     NaN          NaN           NaN\n",
       "1           1  1077430    1314167  ...     NaN          NaN           NaN\n",
       "2           2  1077175    1313524  ...     NaN          NaN           NaN\n",
       "\n",
       "[3 rows x 75 columns]"
      ]
     },
     "metadata": {},
     "output_type": "display_data"
    }
   ],
   "source": [
    "import pandas as pd\n",
    "p = \"/content/drive/MyDrive/Competition/data.csv\" # File location can vary\n",
    "df = pd.read_csv(p)\n",
    "display(df.head(3))"
   ]
  },
  {
   "cell_type": "code",
   "execution_count": 3,
   "metadata": {
    "colab": {
     "base_uri": "https://localhost:8080/",
     "height": 575
    },
    "id": "yHbg64z3tpuI",
    "outputId": "2db093d4-eec3-4de9-cff4-266b3aa90821"
   },
   "outputs": [
    {
     "name": "stdout",
     "output_type": "stream",
     "text": [
      "466285\n",
      "75\n",
      "\n",
      "466285\n",
      "75\n",
      "\n"
     ]
    },
    {
     "data": {
      "text/html": [
       "\n",
       "  <div id=\"df-334a7a51-5944-4379-8813-6e9cfc9dc023\">\n",
       "    <div class=\"colab-df-container\">\n",
       "      <div>\n",
       "<style scoped>\n",
       "    .dataframe tbody tr th:only-of-type {\n",
       "        vertical-align: middle;\n",
       "    }\n",
       "\n",
       "    .dataframe tbody tr th {\n",
       "        vertical-align: top;\n",
       "    }\n",
       "\n",
       "    .dataframe thead th {\n",
       "        text-align: right;\n",
       "    }\n",
       "</style>\n",
       "<table border=\"1\" class=\"dataframe\">\n",
       "  <thead>\n",
       "    <tr style=\"text-align: right;\">\n",
       "      <th></th>\n",
       "      <th>Unnamed: 0</th>\n",
       "      <th>id</th>\n",
       "      <th>member_id</th>\n",
       "      <th>loan_amnt</th>\n",
       "      <th>funded_amnt</th>\n",
       "      <th>funded_amnt_inv</th>\n",
       "      <th>term</th>\n",
       "      <th>int_rate</th>\n",
       "      <th>installment</th>\n",
       "      <th>grade</th>\n",
       "      <th>sub_grade</th>\n",
       "      <th>emp_title</th>\n",
       "      <th>emp_length</th>\n",
       "      <th>home_ownership</th>\n",
       "      <th>annual_inc</th>\n",
       "      <th>verification_status</th>\n",
       "      <th>issue_d</th>\n",
       "      <th>loan_status</th>\n",
       "      <th>pymnt_plan</th>\n",
       "      <th>url</th>\n",
       "      <th>desc</th>\n",
       "      <th>purpose</th>\n",
       "      <th>title</th>\n",
       "      <th>zip_code</th>\n",
       "      <th>addr_state</th>\n",
       "      <th>dti</th>\n",
       "      <th>delinq_2yrs</th>\n",
       "      <th>earliest_cr_line</th>\n",
       "      <th>inq_last_6mths</th>\n",
       "      <th>mths_since_last_delinq</th>\n",
       "      <th>mths_since_last_record</th>\n",
       "      <th>open_acc</th>\n",
       "      <th>pub_rec</th>\n",
       "      <th>revol_bal</th>\n",
       "      <th>revol_util</th>\n",
       "      <th>total_acc</th>\n",
       "      <th>initial_list_status</th>\n",
       "      <th>out_prncp</th>\n",
       "      <th>out_prncp_inv</th>\n",
       "      <th>total_pymnt</th>\n",
       "      <th>total_pymnt_inv</th>\n",
       "      <th>total_rec_prncp</th>\n",
       "      <th>total_rec_int</th>\n",
       "      <th>total_rec_late_fee</th>\n",
       "      <th>recoveries</th>\n",
       "      <th>collection_recovery_fee</th>\n",
       "      <th>last_pymnt_d</th>\n",
       "      <th>last_pymnt_amnt</th>\n",
       "      <th>next_pymnt_d</th>\n",
       "      <th>last_credit_pull_d</th>\n",
       "      <th>collections_12_mths_ex_med</th>\n",
       "      <th>mths_since_last_major_derog</th>\n",
       "      <th>policy_code</th>\n",
       "      <th>application_type</th>\n",
       "      <th>annual_inc_joint</th>\n",
       "      <th>dti_joint</th>\n",
       "      <th>verification_status_joint</th>\n",
       "      <th>acc_now_delinq</th>\n",
       "      <th>tot_coll_amt</th>\n",
       "      <th>tot_cur_bal</th>\n",
       "      <th>open_acc_6m</th>\n",
       "      <th>open_il_6m</th>\n",
       "      <th>open_il_12m</th>\n",
       "      <th>open_il_24m</th>\n",
       "      <th>mths_since_rcnt_il</th>\n",
       "      <th>total_bal_il</th>\n",
       "      <th>il_util</th>\n",
       "      <th>open_rv_12m</th>\n",
       "      <th>open_rv_24m</th>\n",
       "      <th>max_bal_bc</th>\n",
       "      <th>all_util</th>\n",
       "      <th>total_rev_hi_lim</th>\n",
       "      <th>inq_fi</th>\n",
       "      <th>total_cu_tl</th>\n",
       "      <th>inq_last_12m</th>\n",
       "    </tr>\n",
       "  </thead>\n",
       "  <tbody>\n",
       "    <tr>\n",
       "      <th>0</th>\n",
       "      <td>0</td>\n",
       "      <td>1077501</td>\n",
       "      <td>1296599</td>\n",
       "      <td>5000</td>\n",
       "      <td>5000</td>\n",
       "      <td>4975.0</td>\n",
       "      <td>36 months</td>\n",
       "      <td>10.65</td>\n",
       "      <td>162.87</td>\n",
       "      <td>B</td>\n",
       "      <td>B2</td>\n",
       "      <td>0</td>\n",
       "      <td>10+ years</td>\n",
       "      <td>RENT</td>\n",
       "      <td>24000.0</td>\n",
       "      <td>Verified</td>\n",
       "      <td>Dec-11</td>\n",
       "      <td>Fully Paid</td>\n",
       "      <td>n</td>\n",
       "      <td>https://www.lendingclub.com/browse/loanDetail....</td>\n",
       "      <td>Borrower added on 12/22/11 &gt; I need to upgra...</td>\n",
       "      <td>credit_card</td>\n",
       "      <td>Computer</td>\n",
       "      <td>860xx</td>\n",
       "      <td>AZ</td>\n",
       "      <td>27.65</td>\n",
       "      <td>0.0</td>\n",
       "      <td>Jan-85</td>\n",
       "      <td>1.0</td>\n",
       "      <td>0.0</td>\n",
       "      <td>0.0</td>\n",
       "      <td>3.0</td>\n",
       "      <td>0.0</td>\n",
       "      <td>13648</td>\n",
       "      <td>83.7</td>\n",
       "      <td>9.0</td>\n",
       "      <td>f</td>\n",
       "      <td>0.0</td>\n",
       "      <td>0.0</td>\n",
       "      <td>5861.071414</td>\n",
       "      <td>5831.78</td>\n",
       "      <td>5000.00</td>\n",
       "      <td>861.07</td>\n",
       "      <td>0.0</td>\n",
       "      <td>0.00</td>\n",
       "      <td>0.00</td>\n",
       "      <td>Jan-15</td>\n",
       "      <td>171.62</td>\n",
       "      <td>0</td>\n",
       "      <td>Jan-16</td>\n",
       "      <td>0.0</td>\n",
       "      <td>0.0</td>\n",
       "      <td>1</td>\n",
       "      <td>INDIVIDUAL</td>\n",
       "      <td>0.0</td>\n",
       "      <td>0.0</td>\n",
       "      <td>0.0</td>\n",
       "      <td>0.0</td>\n",
       "      <td>0.0</td>\n",
       "      <td>0.0</td>\n",
       "      <td>0.0</td>\n",
       "      <td>0.0</td>\n",
       "      <td>0.0</td>\n",
       "      <td>0.0</td>\n",
       "      <td>0.0</td>\n",
       "      <td>0.0</td>\n",
       "      <td>0.0</td>\n",
       "      <td>0.0</td>\n",
       "      <td>0.0</td>\n",
       "      <td>0.0</td>\n",
       "      <td>0.0</td>\n",
       "      <td>0.0</td>\n",
       "      <td>0.0</td>\n",
       "      <td>0.0</td>\n",
       "      <td>0.0</td>\n",
       "    </tr>\n",
       "    <tr>\n",
       "      <th>1</th>\n",
       "      <td>1</td>\n",
       "      <td>1077430</td>\n",
       "      <td>1314167</td>\n",
       "      <td>2500</td>\n",
       "      <td>2500</td>\n",
       "      <td>2500.0</td>\n",
       "      <td>60 months</td>\n",
       "      <td>15.27</td>\n",
       "      <td>59.83</td>\n",
       "      <td>C</td>\n",
       "      <td>C4</td>\n",
       "      <td>Ryder</td>\n",
       "      <td>&lt; 1 year</td>\n",
       "      <td>RENT</td>\n",
       "      <td>30000.0</td>\n",
       "      <td>Source Verified</td>\n",
       "      <td>Dec-11</td>\n",
       "      <td>Charged Off</td>\n",
       "      <td>n</td>\n",
       "      <td>https://www.lendingclub.com/browse/loanDetail....</td>\n",
       "      <td>Borrower added on 12/22/11 &gt; I plan to use t...</td>\n",
       "      <td>car</td>\n",
       "      <td>bike</td>\n",
       "      <td>309xx</td>\n",
       "      <td>GA</td>\n",
       "      <td>1.00</td>\n",
       "      <td>0.0</td>\n",
       "      <td>Apr-99</td>\n",
       "      <td>5.0</td>\n",
       "      <td>0.0</td>\n",
       "      <td>0.0</td>\n",
       "      <td>3.0</td>\n",
       "      <td>0.0</td>\n",
       "      <td>1687</td>\n",
       "      <td>9.4</td>\n",
       "      <td>4.0</td>\n",
       "      <td>f</td>\n",
       "      <td>0.0</td>\n",
       "      <td>0.0</td>\n",
       "      <td>1008.710000</td>\n",
       "      <td>1008.71</td>\n",
       "      <td>456.46</td>\n",
       "      <td>435.17</td>\n",
       "      <td>0.0</td>\n",
       "      <td>117.08</td>\n",
       "      <td>1.11</td>\n",
       "      <td>Apr-13</td>\n",
       "      <td>119.66</td>\n",
       "      <td>0</td>\n",
       "      <td>Sep-13</td>\n",
       "      <td>0.0</td>\n",
       "      <td>0.0</td>\n",
       "      <td>1</td>\n",
       "      <td>INDIVIDUAL</td>\n",
       "      <td>0.0</td>\n",
       "      <td>0.0</td>\n",
       "      <td>0.0</td>\n",
       "      <td>0.0</td>\n",
       "      <td>0.0</td>\n",
       "      <td>0.0</td>\n",
       "      <td>0.0</td>\n",
       "      <td>0.0</td>\n",
       "      <td>0.0</td>\n",
       "      <td>0.0</td>\n",
       "      <td>0.0</td>\n",
       "      <td>0.0</td>\n",
       "      <td>0.0</td>\n",
       "      <td>0.0</td>\n",
       "      <td>0.0</td>\n",
       "      <td>0.0</td>\n",
       "      <td>0.0</td>\n",
       "      <td>0.0</td>\n",
       "      <td>0.0</td>\n",
       "      <td>0.0</td>\n",
       "      <td>0.0</td>\n",
       "    </tr>\n",
       "    <tr>\n",
       "      <th>2</th>\n",
       "      <td>2</td>\n",
       "      <td>1077175</td>\n",
       "      <td>1313524</td>\n",
       "      <td>2400</td>\n",
       "      <td>2400</td>\n",
       "      <td>2400.0</td>\n",
       "      <td>36 months</td>\n",
       "      <td>15.96</td>\n",
       "      <td>84.33</td>\n",
       "      <td>C</td>\n",
       "      <td>C5</td>\n",
       "      <td>0</td>\n",
       "      <td>10+ years</td>\n",
       "      <td>RENT</td>\n",
       "      <td>12252.0</td>\n",
       "      <td>Not Verified</td>\n",
       "      <td>Dec-11</td>\n",
       "      <td>Fully Paid</td>\n",
       "      <td>n</td>\n",
       "      <td>https://www.lendingclub.com/browse/loanDetail....</td>\n",
       "      <td>0</td>\n",
       "      <td>small_business</td>\n",
       "      <td>real estate business</td>\n",
       "      <td>606xx</td>\n",
       "      <td>IL</td>\n",
       "      <td>8.72</td>\n",
       "      <td>0.0</td>\n",
       "      <td>Nov-01</td>\n",
       "      <td>2.0</td>\n",
       "      <td>0.0</td>\n",
       "      <td>0.0</td>\n",
       "      <td>2.0</td>\n",
       "      <td>0.0</td>\n",
       "      <td>2956</td>\n",
       "      <td>98.5</td>\n",
       "      <td>10.0</td>\n",
       "      <td>f</td>\n",
       "      <td>0.0</td>\n",
       "      <td>0.0</td>\n",
       "      <td>3003.653644</td>\n",
       "      <td>3003.65</td>\n",
       "      <td>2400.00</td>\n",
       "      <td>603.65</td>\n",
       "      <td>0.0</td>\n",
       "      <td>0.00</td>\n",
       "      <td>0.00</td>\n",
       "      <td>Jun-14</td>\n",
       "      <td>649.91</td>\n",
       "      <td>0</td>\n",
       "      <td>Jan-16</td>\n",
       "      <td>0.0</td>\n",
       "      <td>0.0</td>\n",
       "      <td>1</td>\n",
       "      <td>INDIVIDUAL</td>\n",
       "      <td>0.0</td>\n",
       "      <td>0.0</td>\n",
       "      <td>0.0</td>\n",
       "      <td>0.0</td>\n",
       "      <td>0.0</td>\n",
       "      <td>0.0</td>\n",
       "      <td>0.0</td>\n",
       "      <td>0.0</td>\n",
       "      <td>0.0</td>\n",
       "      <td>0.0</td>\n",
       "      <td>0.0</td>\n",
       "      <td>0.0</td>\n",
       "      <td>0.0</td>\n",
       "      <td>0.0</td>\n",
       "      <td>0.0</td>\n",
       "      <td>0.0</td>\n",
       "      <td>0.0</td>\n",
       "      <td>0.0</td>\n",
       "      <td>0.0</td>\n",
       "      <td>0.0</td>\n",
       "      <td>0.0</td>\n",
       "    </tr>\n",
       "  </tbody>\n",
       "</table>\n",
       "</div>\n",
       "      <button class=\"colab-df-convert\" onclick=\"convertToInteractive('df-334a7a51-5944-4379-8813-6e9cfc9dc023')\"\n",
       "              title=\"Convert this dataframe to an interactive table.\"\n",
       "              style=\"display:none;\">\n",
       "        \n",
       "  <svg xmlns=\"http://www.w3.org/2000/svg\" height=\"24px\"viewBox=\"0 0 24 24\"\n",
       "       width=\"24px\">\n",
       "    <path d=\"M0 0h24v24H0V0z\" fill=\"none\"/>\n",
       "    <path d=\"M18.56 5.44l.94 2.06.94-2.06 2.06-.94-2.06-.94-.94-2.06-.94 2.06-2.06.94zm-11 1L8.5 8.5l.94-2.06 2.06-.94-2.06-.94L8.5 2.5l-.94 2.06-2.06.94zm10 10l.94 2.06.94-2.06 2.06-.94-2.06-.94-.94-2.06-.94 2.06-2.06.94z\"/><path d=\"M17.41 7.96l-1.37-1.37c-.4-.4-.92-.59-1.43-.59-.52 0-1.04.2-1.43.59L10.3 9.45l-7.72 7.72c-.78.78-.78 2.05 0 2.83L4 21.41c.39.39.9.59 1.41.59.51 0 1.02-.2 1.41-.59l7.78-7.78 2.81-2.81c.8-.78.8-2.07 0-2.86zM5.41 20L4 18.59l7.72-7.72 1.47 1.35L5.41 20z\"/>\n",
       "  </svg>\n",
       "      </button>\n",
       "      \n",
       "  <style>\n",
       "    .colab-df-container {\n",
       "      display:flex;\n",
       "      flex-wrap:wrap;\n",
       "      gap: 12px;\n",
       "    }\n",
       "\n",
       "    .colab-df-convert {\n",
       "      background-color: #E8F0FE;\n",
       "      border: none;\n",
       "      border-radius: 50%;\n",
       "      cursor: pointer;\n",
       "      display: none;\n",
       "      fill: #1967D2;\n",
       "      height: 32px;\n",
       "      padding: 0 0 0 0;\n",
       "      width: 32px;\n",
       "    }\n",
       "\n",
       "    .colab-df-convert:hover {\n",
       "      background-color: #E2EBFA;\n",
       "      box-shadow: 0px 1px 2px rgba(60, 64, 67, 0.3), 0px 1px 3px 1px rgba(60, 64, 67, 0.15);\n",
       "      fill: #174EA6;\n",
       "    }\n",
       "\n",
       "    [theme=dark] .colab-df-convert {\n",
       "      background-color: #3B4455;\n",
       "      fill: #D2E3FC;\n",
       "    }\n",
       "\n",
       "    [theme=dark] .colab-df-convert:hover {\n",
       "      background-color: #434B5C;\n",
       "      box-shadow: 0px 1px 3px 1px rgba(0, 0, 0, 0.15);\n",
       "      filter: drop-shadow(0px 1px 2px rgba(0, 0, 0, 0.3));\n",
       "      fill: #FFFFFF;\n",
       "    }\n",
       "  </style>\n",
       "\n",
       "      <script>\n",
       "        const buttonEl =\n",
       "          document.querySelector('#df-334a7a51-5944-4379-8813-6e9cfc9dc023 button.colab-df-convert');\n",
       "        buttonEl.style.display =\n",
       "          google.colab.kernel.accessAllowed ? 'block' : 'none';\n",
       "\n",
       "        async function convertToInteractive(key) {\n",
       "          const element = document.querySelector('#df-334a7a51-5944-4379-8813-6e9cfc9dc023');\n",
       "          const dataTable =\n",
       "            await google.colab.kernel.invokeFunction('convertToInteractive',\n",
       "                                                     [key], {});\n",
       "          if (!dataTable) return;\n",
       "\n",
       "          const docLinkHtml = 'Like what you see? Visit the ' +\n",
       "            '<a target=\"_blank\" href=https://colab.research.google.com/notebooks/data_table.ipynb>data table notebook</a>'\n",
       "            + ' to learn more about interactive tables.';\n",
       "          element.innerHTML = '';\n",
       "          dataTable['output_type'] = 'display_data';\n",
       "          await google.colab.output.renderOutput(dataTable, element);\n",
       "          const docLink = document.createElement('div');\n",
       "          docLink.innerHTML = docLinkHtml;\n",
       "          element.appendChild(docLink);\n",
       "        }\n",
       "      </script>\n",
       "    </div>\n",
       "  </div>\n",
       "  "
      ],
      "text/plain": [
       "   Unnamed: 0       id  member_id  ...  inq_fi  total_cu_tl  inq_last_12m\n",
       "0           0  1077501    1296599  ...     0.0          0.0           0.0\n",
       "1           1  1077430    1314167  ...     0.0          0.0           0.0\n",
       "2           2  1077175    1313524  ...     0.0          0.0           0.0\n",
       "\n",
       "[3 rows x 75 columns]"
      ]
     },
     "metadata": {},
     "output_type": "display_data"
    }
   ],
   "source": [
    "print(len(df))\n",
    "print(len(df.columns))\n",
    "print()\n",
    "\n",
    "df = df.fillna(0)\n",
    "df = df.dropna(axis='rows')\n",
    "\n",
    "print(len(df))\n",
    "print(len(df.columns))\n",
    "print()\n",
    "display(df.head(3))"
   ]
  },
  {
   "cell_type": "code",
   "execution_count": 4,
   "metadata": {
    "colab": {
     "base_uri": "https://localhost:8080/"
    },
    "id": "cq3livyozrzs",
    "outputId": "7165c0a5-8a5e-47f5-ab60-a5e22f99fd9c"
   },
   "outputs": [
    {
     "data": {
      "text/plain": [
       "Index(['Unnamed: 0', 'id', 'member_id', 'loan_amnt', 'funded_amnt',\n",
       "       'funded_amnt_inv', 'term', 'int_rate', 'installment', 'grade',\n",
       "       'sub_grade', 'emp_title', 'emp_length', 'home_ownership', 'annual_inc',\n",
       "       'verification_status', 'issue_d', 'loan_status', 'pymnt_plan', 'url',\n",
       "       'desc', 'purpose', 'title', 'zip_code', 'addr_state', 'dti',\n",
       "       'delinq_2yrs', 'earliest_cr_line', 'inq_last_6mths',\n",
       "       'mths_since_last_delinq', 'mths_since_last_record', 'open_acc',\n",
       "       'pub_rec', 'revol_bal', 'revol_util', 'total_acc',\n",
       "       'initial_list_status', 'out_prncp', 'out_prncp_inv', 'total_pymnt',\n",
       "       'total_pymnt_inv', 'total_rec_prncp', 'total_rec_int',\n",
       "       'total_rec_late_fee', 'recoveries', 'collection_recovery_fee',\n",
       "       'last_pymnt_d', 'last_pymnt_amnt', 'next_pymnt_d', 'last_credit_pull_d',\n",
       "       'collections_12_mths_ex_med', 'mths_since_last_major_derog',\n",
       "       'policy_code', 'application_type', 'annual_inc_joint', 'dti_joint',\n",
       "       'verification_status_joint', 'acc_now_delinq', 'tot_coll_amt',\n",
       "       'tot_cur_bal', 'open_acc_6m', 'open_il_6m', 'open_il_12m',\n",
       "       'open_il_24m', 'mths_since_rcnt_il', 'total_bal_il', 'il_util',\n",
       "       'open_rv_12m', 'open_rv_24m', 'max_bal_bc', 'all_util',\n",
       "       'total_rev_hi_lim', 'inq_fi', 'total_cu_tl', 'inq_last_12m'],\n",
       "      dtype='object')"
      ]
     },
     "execution_count": 4,
     "metadata": {},
     "output_type": "execute_result"
    }
   ],
   "source": [
    "df.columns"
   ]
  },
  {
   "cell_type": "code",
   "execution_count": 5,
   "metadata": {
    "colab": {
     "base_uri": "https://localhost:8080/"
    },
    "id": "9nmOFDeFzr2j",
    "outputId": "38f0cc0f-0c2e-4ef4-c73a-095d0f0af4a4"
   },
   "outputs": [
    {
     "data": {
      "text/plain": [
       "Current                                                224226\n",
       "Fully Paid                                             184739\n",
       "Charged Off                                             42475\n",
       "Late (31-120 days)                                       6900\n",
       "In Grace Period                                          3146\n",
       "Does not meet the credit policy. Status:Fully Paid       1988\n",
       "Late (16-30 days)                                        1218\n",
       "Default                                                   832\n",
       "Does not meet the credit policy. Status:Charged Off       761\n",
       "Name: loan_status, dtype: int64"
      ]
     },
     "execution_count": 5,
     "metadata": {},
     "output_type": "execute_result"
    }
   ],
   "source": [
    "df[\"loan_status\"].value_counts()"
   ]
  },
  {
   "cell_type": "code",
   "execution_count": 6,
   "metadata": {
    "id": "r9Drm4Vszr8P"
   },
   "outputs": [],
   "source": [
    "default = [\"Default\",\"Charged Off\",\"Late (31-120 days\",\"Late (16-30 days)\",\"Late (31-120 days)\",\"Does not meet the credit policy. Status:Charged Off\"]\n",
    "un_default = [\"Current\", \"Fully Paid\" ,\"In Grace Period\",\"Does not meet the credit policy. Status:Fully Paid\"]"
   ]
  },
  {
   "cell_type": "code",
   "execution_count": 7,
   "metadata": {
    "id": "G48wSY73zr-2"
   },
   "outputs": [],
   "source": [
    "df[\"loan_status\"] = df[\"loan_status\"].replace(default, '0')\n",
    "df[\"loan_status\"] = df[\"loan_status\"].replace(un_default, '1')"
   ]
  },
  {
   "cell_type": "code",
   "execution_count": 8,
   "metadata": {
    "colab": {
     "base_uri": "https://localhost:8080/"
    },
    "id": "hADWowwL0vJB",
    "outputId": "c1182984-f4e1-4bf7-9d72-1f1311770f3b"
   },
   "outputs": [
    {
     "data": {
      "text/plain": [
       "1    414099\n",
       "0     52186\n",
       "Name: loan_status, dtype: int64"
      ]
     },
     "execution_count": 8,
     "metadata": {},
     "output_type": "execute_result"
    }
   ],
   "source": [
    "df[\"loan_status\"].value_counts()  # Labels # but still imbalance"
   ]
  },
  {
   "cell_type": "code",
   "execution_count": 9,
   "metadata": {
    "colab": {
     "base_uri": "https://localhost:8080/",
     "height": 1000
    },
    "id": "jCMQTFek32Yg",
    "outputId": "501b3d3e-cf0d-42d2-cf71-5184a9345a0e"
   },
   "outputs": [
    {
     "name": "stdout",
     "output_type": "stream",
     "text": [
      "Column :  Unnamed: 0\n"
     ]
    },
    {
     "data": {
      "text/plain": [
       "2047      1\n",
       "117907    1\n",
       "433273    1\n",
       "427130    1\n",
       "429179    1\n",
       "         ..\n",
       "47938     1\n",
       "45891     1\n",
       "35652     1\n",
       "33605     1\n",
       "0         1\n",
       "Name: Unnamed: 0, Length: 466285, dtype: int64"
      ]
     },
     "metadata": {},
     "output_type": "display_data"
    },
    {
     "name": "stdout",
     "output_type": "stream",
     "text": [
      "#######################\n",
      "Column :  id\n"
     ]
    },
    {
     "data": {
      "text/plain": [
       "4196351     1\n",
       "516177      1\n",
       "7628832     1\n",
       "1335329     1\n",
       "28604450    1\n",
       "           ..\n",
       "8356519     1\n",
       "7338664     1\n",
       "7336617     1\n",
       "12575403    1\n",
       "6291456     1\n",
       "Name: id, Length: 466285, dtype: int64"
      ]
     },
     "metadata": {},
     "output_type": "display_data"
    },
    {
     "name": "stdout",
     "output_type": "stream",
     "text": [
      "#######################\n",
      "Column :  member_id\n"
     ]
    },
    {
     "data": {
      "text/plain": [
       "26216447    1\n",
       "38760771    1\n",
       "16582924    1\n",
       "19726605    1\n",
       "14288263    1\n",
       "           ..\n",
       "28270268    1\n",
       "9389759     1\n",
       "833217      1\n",
       "39232691    1\n",
       "10341534    1\n",
       "Name: member_id, Length: 466285, dtype: int64"
      ]
     },
     "metadata": {},
     "output_type": "display_data"
    },
    {
     "name": "stdout",
     "output_type": "stream",
     "text": [
      "#######################\n",
      "Column :  loan_amnt\n"
     ]
    },
    {
     "data": {
      "text/plain": [
       "10000    33023\n",
       "12000    25519\n",
       "15000    23486\n",
       "20000    22759\n",
       "35000    16596\n",
       "         ...  \n",
       "33675        1\n",
       "32150        1\n",
       "30050        1\n",
       "28825        1\n",
       "33775        1\n",
       "Name: loan_amnt, Length: 1352, dtype: int64"
      ]
     },
     "metadata": {},
     "output_type": "display_data"
    },
    {
     "name": "stdout",
     "output_type": "stream",
     "text": [
      "#######################\n",
      "Column :  funded_amnt\n"
     ]
    },
    {
     "data": {
      "text/plain": [
       "10000    32930\n",
       "12000    25426\n",
       "15000    23370\n",
       "20000    22571\n",
       "35000    16458\n",
       "         ...  \n",
       "31875        1\n",
       "34150        1\n",
       "750          1\n",
       "33175        1\n",
       "33775        1\n",
       "Name: funded_amnt, Length: 1354, dtype: int64"
      ]
     },
     "metadata": {},
     "output_type": "display_data"
    },
    {
     "name": "stdout",
     "output_type": "stream",
     "text": [
      "#######################\n",
      "Column :  funded_amnt_inv\n"
     ]
    },
    {
     "data": {
      "text/plain": [
       "10000.000000    28683\n",
       "12000.000000    21732\n",
       "15000.000000    19473\n",
       "20000.000000    18070\n",
       "8000.000000     13232\n",
       "                ...  \n",
       "13516.238680        1\n",
       "4789.655060         1\n",
       "3358.250000         1\n",
       "544.128017          1\n",
       "20961.174340        1\n",
       "Name: funded_amnt_inv, Length: 9854, dtype: int64"
      ]
     },
     "metadata": {},
     "output_type": "display_data"
    },
    {
     "name": "stdout",
     "output_type": "stream",
     "text": [
      "#######################\n",
      "Column :  term\n"
     ]
    },
    {
     "data": {
      "text/plain": [
       " 36 months    337953\n",
       " 60 months    128332\n",
       "Name: term, dtype: int64"
      ]
     },
     "metadata": {},
     "output_type": "display_data"
    },
    {
     "name": "stdout",
     "output_type": "stream",
     "text": [
      "#######################\n",
      "Column :  int_rate\n"
     ]
    },
    {
     "data": {
      "text/plain": [
       "12.99    15846\n",
       "10.99    14837\n",
       "15.61    13074\n",
       "8.90     11424\n",
       "16.29    10587\n",
       "         ...  \n",
       "17.78        1\n",
       "16.83        1\n",
       "17.41        1\n",
       "24.59        1\n",
       "24.40        1\n",
       "Name: int_rate, Length: 506, dtype: int64"
      ]
     },
     "metadata": {},
     "output_type": "display_data"
    },
    {
     "name": "stdout",
     "output_type": "stream",
     "text": [
      "#######################\n",
      "Column :  installment\n"
     ]
    },
    {
     "data": {
      "text/plain": [
       "327.34    1246\n",
       "336.90    1191\n",
       "332.10     978\n",
       "491.01     881\n",
       "392.81     855\n",
       "          ... \n",
       "822.82       1\n",
       "429.40       1\n",
       "536.95       1\n",
       "817.10       1\n",
       "32.00        1\n",
       "Name: installment, Length: 55622, dtype: int64"
      ]
     },
     "metadata": {},
     "output_type": "display_data"
    },
    {
     "name": "stdout",
     "output_type": "stream",
     "text": [
      "#######################\n",
      "Column :  grade\n"
     ]
    },
    {
     "data": {
      "text/plain": [
       "B    136929\n",
       "C    125293\n",
       "D     76888\n",
       "A     74867\n",
       "E     35757\n",
       "F     13229\n",
       "G      3322\n",
       "Name: grade, dtype: int64"
      ]
     },
     "metadata": {},
     "output_type": "display_data"
    },
    {
     "name": "stdout",
     "output_type": "stream",
     "text": [
      "#######################\n",
      "Column :  sub_grade\n"
     ]
    },
    {
     "data": {
      "text/plain": [
       "B3    31686\n",
       "B4    30505\n",
       "C1    26953\n",
       "C2    26740\n",
       "B2    26610\n",
       "C3    25317\n",
       "B5    25252\n",
       "C4    24105\n",
       "B1    22876\n",
       "C5    22178\n",
       "A5    21757\n",
       "D1    19261\n",
       "A4    19045\n",
       "D2    17046\n",
       "D3    14916\n",
       "D4    14099\n",
       "A3    12568\n",
       "D5    11566\n",
       "A2    10956\n",
       "A1    10541\n",
       "E1     9033\n",
       "E2     8669\n",
       "E3     6976\n",
       "E4     5992\n",
       "E5     5087\n",
       "F1     3940\n",
       "F2     3001\n",
       "F3     2708\n",
       "F4     2067\n",
       "F5     1513\n",
       "G1     1109\n",
       "G2      823\n",
       "G3      583\n",
       "G4      422\n",
       "G5      385\n",
       "Name: sub_grade, dtype: int64"
      ]
     },
     "metadata": {},
     "output_type": "display_data"
    },
    {
     "name": "stdout",
     "output_type": "stream",
     "text": [
      "#######################\n",
      "Column :  emp_title\n"
     ]
    },
    {
     "data": {
      "text/plain": [
       "0                                       27588\n",
       "Teacher                                  5399\n",
       "Manager                                  4438\n",
       "Registered Nurse                         2316\n",
       "RN                                       2204\n",
       "                                        ...  \n",
       "DIRECT CARE WORKER                          1\n",
       "Supervisor of Development Operations        1\n",
       "Roseville Joint Union HS District           1\n",
       "vice president/loan officer                 1\n",
       "cuban crafters cigars                       1\n",
       "Name: emp_title, Length: 205476, dtype: int64"
      ]
     },
     "metadata": {},
     "output_type": "display_data"
    },
    {
     "name": "stdout",
     "output_type": "stream",
     "text": [
      "#######################\n",
      "Column :  emp_length\n"
     ]
    },
    {
     "data": {
      "text/plain": [
       "10+ years    150049\n",
       "2 years       41373\n",
       "3 years       36596\n",
       "< 1 year      36265\n",
       "5 years       30774\n",
       "1 year        29622\n",
       "4 years       28023\n",
       "7 years       26180\n",
       "6 years       26112\n",
       "8 years       22395\n",
       "0             21008\n",
       "9 years       17888\n",
       "Name: emp_length, dtype: int64"
      ]
     },
     "metadata": {},
     "output_type": "display_data"
    },
    {
     "name": "stdout",
     "output_type": "stream",
     "text": [
      "#######################\n",
      "Column :  home_ownership\n"
     ]
    },
    {
     "data": {
      "text/plain": [
       "MORTGAGE    235875\n",
       "RENT        188473\n",
       "OWN          41704\n",
       "OTHER          182\n",
       "NONE            50\n",
       "ANY              1\n",
       "Name: home_ownership, dtype: int64"
      ]
     },
     "metadata": {},
     "output_type": "display_data"
    },
    {
     "name": "stdout",
     "output_type": "stream",
     "text": [
      "#######################\n",
      "Column :  annual_inc\n"
     ]
    },
    {
     "data": {
      "text/plain": [
       "60000.00     17980\n",
       "50000.00     15949\n",
       "65000.00     13211\n",
       "40000.00     12864\n",
       "70000.00     12436\n",
       "             ...  \n",
       "36947.35         1\n",
       "47842.00         1\n",
       "59652.00         1\n",
       "95687.00         1\n",
       "159800.00        1\n",
       "Name: annual_inc, Length: 31902, dtype: int64"
      ]
     },
     "metadata": {},
     "output_type": "display_data"
    },
    {
     "name": "stdout",
     "output_type": "stream",
     "text": [
      "#######################\n",
      "Column :  verification_status\n"
     ]
    },
    {
     "data": {
      "text/plain": [
       "Verified           168055\n",
       "Source Verified    149993\n",
       "Not Verified       148237\n",
       "Name: verification_status, dtype: int64"
      ]
     },
     "metadata": {},
     "output_type": "display_data"
    },
    {
     "name": "stdout",
     "output_type": "stream",
     "text": [
      "#######################\n",
      "Column :  issue_d\n"
     ]
    },
    {
     "data": {
      "text/plain": [
       "Oct-14    38782\n",
       "Jul-14    29306\n",
       "Nov-14    25054\n",
       "May-14    19099\n",
       "Apr-14    19071\n",
       "          ...  \n",
       "Aug-07       74\n",
       "Jul-07       63\n",
       "Sep-08       57\n",
       "Sep-07       53\n",
       "Jun-07       24\n",
       "Name: issue_d, Length: 91, dtype: int64"
      ]
     },
     "metadata": {},
     "output_type": "display_data"
    },
    {
     "name": "stdout",
     "output_type": "stream",
     "text": [
      "#######################\n",
      "Column :  loan_status\n"
     ]
    },
    {
     "data": {
      "text/plain": [
       "1    414099\n",
       "0     52186\n",
       "Name: loan_status, dtype: int64"
      ]
     },
     "metadata": {},
     "output_type": "display_data"
    },
    {
     "name": "stdout",
     "output_type": "stream",
     "text": [
      "#######################\n",
      "Column :  pymnt_plan\n"
     ]
    },
    {
     "data": {
      "text/plain": [
       "n    466276\n",
       "y         9\n",
       "Name: pymnt_plan, dtype: int64"
      ]
     },
     "metadata": {},
     "output_type": "display_data"
    },
    {
     "name": "stdout",
     "output_type": "stream",
     "text": [
      "#######################\n",
      "Column :  url\n"
     ]
    },
    {
     "data": {
      "text/plain": [
       "https://www.lendingclub.com/browse/loanDetail.action?loan_id=22312429    1\n",
       "https://www.lendingclub.com/browse/loanDetail.action?loan_id=24776131    1\n",
       "https://www.lendingclub.com/browse/loanDetail.action?loan_id=1375774     1\n",
       "https://www.lendingclub.com/browse/loanDetail.action?loan_id=5686152     1\n",
       "https://www.lendingclub.com/browse/loanDetail.action?loan_id=15490231    1\n",
       "                                                                        ..\n",
       "https://www.lendingclub.com/browse/loanDetail.action?loan_id=1110575     1\n",
       "https://www.lendingclub.com/browse/loanDetail.action?loan_id=34492887    1\n",
       "https://www.lendingclub.com/browse/loanDetail.action?loan_id=33111257    1\n",
       "https://www.lendingclub.com/browse/loanDetail.action?loan_id=1456045     1\n",
       "https://www.lendingclub.com/browse/loanDetail.action?loan_id=6616401     1\n",
       "Name: url, Length: 466285, dtype: int64"
      ]
     },
     "metadata": {},
     "output_type": "display_data"
    },
    {
     "name": "stdout",
     "output_type": "stream",
     "text": [
      "#######################\n",
      "Column :  desc\n"
     ]
    },
    {
     "data": {
      "text/plain": [
       "0                                                                                                                                                                                                                                                                                                                              340302\n",
       "                                                                                                                                                                                                                                                                                                                                  234\n",
       "Debt Consolidation                                                                                                                                                                                                                                                                                                                 13\n",
       "  Borrower added on 03/17/14 > Debt consolidation<br>                                                                                                                                                                                                                                                                              11\n",
       "  Borrower added on 03/10/14 > Debt consolidation<br>                                                                                                                                                                                                                                                                              10\n",
       "                                                                                                                                                                                                                                                                                                                                ...  \n",
       "  Borrower added on 03/27/10 > Pay off bills with higher interest rates. Consolidate payment. Eliminate debt.<br/>                                                                                                                                                                                                                  1\n",
       "  Borrower added on 05/19/13 > i want to payoff some of my credit cards debt.<br>                                                                                                                                                                                                                                                   1\n",
       "  Borrower added on 02/04/14 > I've been paying down debt for a few years at high interest rates. This loan is a lower rate than all of them.<br><br>  Borrower added on 02/05/14 > Thank you to everyone who has invested in me. You will not regret it!<br>                                                                       1\n",
       "  Borrower added on 02/19/14 > Hello, this loan is for debt consolidation, primarily credit card debt. I am an existing LC member with a perfect payment history. I would like to use this loan to continue on the path of paying down debt. I am well on my way to being debt free in 5 years, other than my mortgage.<br>         1\n",
       "  Borrower added on 05/03/12 > Credit card debt.<br><br> Borrower added on 05/03/12 > I have a good job and work for the federal government.  I do have a lot of debt but I've never missed a payment and I always pay over the minimum.  I plan to put this all to credit card debt and close the cards.<br>                       1\n",
       "Name: desc, Length: 124437, dtype: int64"
      ]
     },
     "metadata": {},
     "output_type": "display_data"
    },
    {
     "name": "stdout",
     "output_type": "stream",
     "text": [
      "#######################\n",
      "Column :  purpose\n"
     ]
    },
    {
     "data": {
      "text/plain": [
       "debt_consolidation    274195\n",
       "credit_card           104157\n",
       "home_improvement       26537\n",
       "other                  23690\n",
       "major_purchase          9828\n",
       "small_business          7013\n",
       "car                     5397\n",
       "medical                 4602\n",
       "moving                  2994\n",
       "vacation                2487\n",
       "wedding                 2343\n",
       "house                   2269\n",
       "educational              422\n",
       "renewable_energy         351\n",
       "Name: purpose, dtype: int64"
      ]
     },
     "metadata": {},
     "output_type": "display_data"
    },
    {
     "name": "stdout",
     "output_type": "stream",
     "text": [
      "#######################\n",
      "Column :  title\n"
     ]
    },
    {
     "data": {
      "text/plain": [
       "Debt consolidation                        164075\n",
       "Credit card refinancing                    62275\n",
       "Debt Consolidation                         15760\n",
       "Home improvement                           14849\n",
       "Other                                      12713\n",
       "                                           ...  \n",
       "Electric Vehicle                               1\n",
       "Debt Consol/Moving                             1\n",
       "Debt consolidation after home purchase         1\n",
       "2010 Loan 1                                    1\n",
       "Professional wants to lower mo. pmts           1\n",
       "Name: title, Length: 63100, dtype: int64"
      ]
     },
     "metadata": {},
     "output_type": "display_data"
    },
    {
     "name": "stdout",
     "output_type": "stream",
     "text": [
      "#######################\n",
      "Column :  zip_code\n"
     ]
    },
    {
     "data": {
      "text/plain": [
       "945xx    5304\n",
       "112xx    5102\n",
       "750xx    5013\n",
       "606xx    4696\n",
       "100xx    4391\n",
       "         ... \n",
       "682xx       1\n",
       "938xx       1\n",
       "861xx       1\n",
       "510xx       1\n",
       "909xx       1\n",
       "Name: zip_code, Length: 888, dtype: int64"
      ]
     },
     "metadata": {},
     "output_type": "display_data"
    },
    {
     "name": "stdout",
     "output_type": "stream",
     "text": [
      "#######################\n",
      "Column :  addr_state\n"
     ]
    },
    {
     "data": {
      "text/plain": [
       "CA    71450\n",
       "NY    40242\n",
       "TX    36439\n",
       "FL    31637\n",
       "IL    18612\n",
       "NJ    18061\n",
       "PA    16424\n",
       "OH    15237\n",
       "GA    14975\n",
       "VA    14222\n",
       "NC    12682\n",
       "MI    11549\n",
       "MA    11072\n",
       "MD    10974\n",
       "AZ    10712\n",
       "WA    10517\n",
       "CO     9739\n",
       "MN     8158\n",
       "MO     7508\n",
       "CT     7204\n",
       "IN     6525\n",
       "NV     6519\n",
       "TN     5984\n",
       "OR     5949\n",
       "WI     5911\n",
       "AL     5853\n",
       "SC     5583\n",
       "LA     5489\n",
       "KY     4438\n",
       "KS     4190\n",
       "OK     4117\n",
       "AR     3488\n",
       "UT     3428\n",
       "NM     2588\n",
       "HI     2487\n",
       "WV     2412\n",
       "NH     2232\n",
       "RI     2050\n",
       "DC     1426\n",
       "MT     1396\n",
       "DE     1272\n",
       "AK     1251\n",
       "MS     1226\n",
       "WY     1128\n",
       "SD      980\n",
       "VT      905\n",
       "IA       14\n",
       "NE       14\n",
       "ID       12\n",
       "ME        4\n",
       "Name: addr_state, dtype: int64"
      ]
     },
     "metadata": {},
     "output_type": "display_data"
    },
    {
     "name": "stdout",
     "output_type": "stream",
     "text": [
      "#######################\n",
      "Column :  dti\n"
     ]
    },
    {
     "data": {
      "text/plain": [
       "14.40    410\n",
       "19.20    381\n",
       "12.00    369\n",
       "16.80    368\n",
       "18.00    365\n",
       "        ... \n",
       "37.61      2\n",
       "38.95      1\n",
       "39.14      1\n",
       "39.94      1\n",
       "35.54      1\n",
       "Name: dti, Length: 3997, dtype: int64"
      ]
     },
     "metadata": {},
     "output_type": "display_data"
    },
    {
     "name": "stdout",
     "output_type": "stream",
     "text": [
      "#######################\n",
      "Column :  delinq_2yrs\n"
     ]
    },
    {
     "data": {
      "text/plain": [
       "0.0     382983\n",
       "1.0      56224\n",
       "2.0      16310\n",
       "3.0       5684\n",
       "4.0       2378\n",
       "5.0       1236\n",
       "6.0        629\n",
       "7.0        346\n",
       "8.0        177\n",
       "9.0        111\n",
       "10.0        65\n",
       "11.0        41\n",
       "12.0        38\n",
       "13.0        25\n",
       "14.0         8\n",
       "15.0         7\n",
       "18.0         6\n",
       "16.0         5\n",
       "19.0         3\n",
       "17.0         3\n",
       "21.0         2\n",
       "22.0         2\n",
       "29.0         1\n",
       "24.0         1\n",
       "Name: delinq_2yrs, dtype: int64"
      ]
     },
     "metadata": {},
     "output_type": "display_data"
    },
    {
     "name": "stdout",
     "output_type": "stream",
     "text": [
      "#######################\n",
      "Column :  earliest_cr_line\n"
     ]
    },
    {
     "data": {
      "text/plain": [
       "Oct-00    3674\n",
       "Aug-00    3597\n",
       "Aug-01    3455\n",
       "Oct-99    3406\n",
       "Oct-01    3329\n",
       "          ... \n",
       "Aug-46       1\n",
       "May-50       1\n",
       "Oct-57       1\n",
       "Jan-46       1\n",
       "Nov-53       1\n",
       "Name: earliest_cr_line, Length: 665, dtype: int64"
      ]
     },
     "metadata": {},
     "output_type": "display_data"
    },
    {
     "name": "stdout",
     "output_type": "stream",
     "text": [
      "#######################\n",
      "Column :  inq_last_6mths\n"
     ]
    },
    {
     "data": {
      "text/plain": [
       "0.0     241527\n",
       "1.0     130148\n",
       "2.0      57825\n",
       "3.0      25126\n",
       "4.0       7241\n",
       "5.0       2768\n",
       "6.0       1188\n",
       "7.0        195\n",
       "8.0        122\n",
       "9.0         50\n",
       "10.0        24\n",
       "12.0        15\n",
       "11.0        15\n",
       "15.0         9\n",
       "14.0         6\n",
       "13.0         6\n",
       "18.0         4\n",
       "16.0         3\n",
       "19.0         2\n",
       "17.0         2\n",
       "24.0         2\n",
       "28.0         1\n",
       "31.0         1\n",
       "32.0         1\n",
       "25.0         1\n",
       "33.0         1\n",
       "20.0         1\n",
       "27.0         1\n",
       "Name: inq_last_6mths, dtype: int64"
      ]
     },
     "metadata": {},
     "output_type": "display_data"
    },
    {
     "name": "stdout",
     "output_type": "stream",
     "text": [
      "#######################\n",
      "Column :  mths_since_last_delinq\n"
     ]
    },
    {
     "data": {
      "text/plain": [
       "0.0      251574\n",
       "9.0        4358\n",
       "8.0        4272\n",
       "13.0       4260\n",
       "12.0       4193\n",
       "          ...  \n",
       "124.0         1\n",
       "143.0         1\n",
       "109.0         1\n",
       "111.0         1\n",
       "127.0         1\n",
       "Name: mths_since_last_delinq, Length: 145, dtype: int64"
      ]
     },
     "metadata": {},
     "output_type": "display_data"
    },
    {
     "name": "stdout",
     "output_type": "stream",
     "text": [
      "#######################\n",
      "Column :  mths_since_last_record\n"
     ]
    },
    {
     "data": {
      "text/plain": [
       "0.0      404925\n",
       "109.0      1098\n",
       "108.0       999\n",
       "106.0       968\n",
       "104.0       953\n",
       "          ...  \n",
       "1.0          28\n",
       "2.0          24\n",
       "121.0         2\n",
       "120.0         2\n",
       "129.0         1\n",
       "Name: mths_since_last_record, Length: 123, dtype: int64"
      ]
     },
     "metadata": {},
     "output_type": "display_data"
    },
    {
     "name": "stdout",
     "output_type": "stream",
     "text": [
      "#######################\n",
      "Column :  open_acc\n"
     ]
    },
    {
     "data": {
      "text/plain": [
       "9.0     44019\n",
       "10.0    42512\n",
       "8.0     41893\n",
       "11.0    39112\n",
       "7.0     37602\n",
       "        ...  \n",
       "55.0        2\n",
       "84.0        1\n",
       "75.0        1\n",
       "62.0        1\n",
       "61.0        1\n",
       "Name: open_acc, Length: 62, dtype: int64"
      ]
     },
     "metadata": {},
     "output_type": "display_data"
    },
    {
     "name": "stdout",
     "output_type": "stream",
     "text": [
      "#######################\n",
      "Column :  pub_rec\n"
     ]
    },
    {
     "data": {
      "text/plain": [
       "0.0     404922\n",
       "1.0      53051\n",
       "2.0       5624\n",
       "3.0       1611\n",
       "4.0        520\n",
       "5.0        276\n",
       "6.0        136\n",
       "7.0         62\n",
       "8.0         29\n",
       "9.0         16\n",
       "10.0        13\n",
       "11.0         8\n",
       "12.0         2\n",
       "18.0         2\n",
       "13.0         2\n",
       "17.0         1\n",
       "16.0         1\n",
       "40.0         1\n",
       "21.0         1\n",
       "49.0         1\n",
       "19.0         1\n",
       "54.0         1\n",
       "14.0         1\n",
       "34.0         1\n",
       "15.0         1\n",
       "63.0         1\n",
       "Name: pub_rec, dtype: int64"
      ]
     },
     "metadata": {},
     "output_type": "display_data"
    },
    {
     "name": "stdout",
     "output_type": "stream",
     "text": [
      "#######################\n",
      "Column :  revol_bal\n"
     ]
    },
    {
     "data": {
      "text/plain": [
       "0        2269\n",
       "6052       40\n",
       "8696       39\n",
       "5365       39\n",
       "6223       39\n",
       "         ... \n",
       "45384       1\n",
       "47433       1\n",
       "41290       1\n",
       "64930       1\n",
       "50897       1\n",
       "Name: revol_bal, Length: 58142, dtype: int64"
      ]
     },
     "metadata": {},
     "output_type": "display_data"
    },
    {
     "name": "stdout",
     "output_type": "stream",
     "text": [
      "#######################\n",
      "Column :  revol_util\n"
     ]
    },
    {
     "data": {
      "text/plain": [
       "0.00      2624\n",
       "58.00      864\n",
       "53.00      850\n",
       "59.00      845\n",
       "61.00      832\n",
       "          ... \n",
       "24.89        1\n",
       "115.30       1\n",
       "118.00       1\n",
       "8.58         1\n",
       "10.08        1\n",
       "Name: revol_util, Length: 1269, dtype: int64"
      ]
     },
     "metadata": {},
     "output_type": "display_data"
    },
    {
     "name": "stdout",
     "output_type": "stream",
     "text": [
      "#######################\n",
      "Column :  total_acc\n"
     ]
    },
    {
     "data": {
      "text/plain": [
       "21.0     17087\n",
       "20.0     17073\n",
       "22.0     17028\n",
       "23.0     16719\n",
       "19.0     16709\n",
       "         ...  \n",
       "156.0        1\n",
       "150.0        1\n",
       "96.0         1\n",
       "124.0        1\n",
       "117.0        1\n",
       "Name: total_acc, Length: 113, dtype: int64"
      ]
     },
     "metadata": {},
     "output_type": "display_data"
    },
    {
     "name": "stdout",
     "output_type": "stream",
     "text": [
      "#######################\n",
      "Column :  initial_list_status\n"
     ]
    },
    {
     "data": {
      "text/plain": [
       "f    303005\n",
       "w    163280\n",
       "Name: initial_list_status, dtype: int64"
      ]
     },
     "metadata": {},
     "output_type": "display_data"
    },
    {
     "name": "stdout",
     "output_type": "stream",
     "text": [
      "#######################\n",
      "Column :  out_prncp\n"
     ]
    },
    {
     "data": {
      "text/plain": [
       "0.00        229999\n",
       "5684.61         80\n",
       "6563.61         79\n",
       "5617.88         78\n",
       "6110.65         76\n",
       "             ...  \n",
       "4974.85          1\n",
       "9050.59          1\n",
       "9418.01          1\n",
       "3878.29          1\n",
       "19152.20         1\n",
       "Name: out_prncp, Length: 135665, dtype: int64"
      ]
     },
     "metadata": {},
     "output_type": "display_data"
    },
    {
     "name": "stdout",
     "output_type": "stream",
     "text": [
      "#######################\n",
      "Column :  out_prncp_inv\n"
     ]
    },
    {
     "data": {
      "text/plain": [
       "0.00        229999\n",
       "6563.61         78\n",
       "5684.61         77\n",
       "5617.88         76\n",
       "6110.65         75\n",
       "             ...  \n",
       "13520.60         1\n",
       "13042.97         1\n",
       "5691.79          1\n",
       "463.42           1\n",
       "20657.59         1\n",
       "Name: out_prncp_inv, Length: 141189, dtype: int64"
      ]
     },
     "metadata": {},
     "output_type": "display_data"
    },
    {
     "name": "stdout",
     "output_type": "stream",
     "text": [
      "#######################\n",
      "Column :  total_pymnt\n"
     ]
    },
    {
     "data": {
      "text/plain": [
       "6743.73000     117\n",
       "0.00000         87\n",
       "5564.78000      78\n",
       "5619.69000      75\n",
       "5497.46000      75\n",
       "              ... \n",
       "34391.30000      1\n",
       "38958.99309      1\n",
       "40469.58582      1\n",
       "15056.02000      1\n",
       "2088.21000       1\n",
       "Name: total_pymnt, Length: 351609, dtype: int64"
      ]
     },
     "metadata": {},
     "output_type": "display_data"
    },
    {
     "name": "stdout",
     "output_type": "stream",
     "text": [
      "#######################\n",
      "Column :  total_pymnt_inv\n"
     ]
    },
    {
     "data": {
      "text/plain": [
       "0.00        365\n",
       "6743.73     113\n",
       "5564.78      77\n",
       "5419.43      73\n",
       "5497.46      72\n",
       "           ... \n",
       "8107.72       1\n",
       "26248.46      1\n",
       "2634.97       1\n",
       "28703.80      1\n",
       "19130.85      1\n",
       "Name: total_pymnt_inv, Length: 347659, dtype: int64"
      ]
     },
     "metadata": {},
     "output_type": "display_data"
    },
    {
     "name": "stdout",
     "output_type": "stream",
     "text": [
      "#######################\n",
      "Column :  total_rec_prncp\n"
     ]
    },
    {
     "data": {
      "text/plain": [
       "10000.00    13267\n",
       "12000.00    10469\n",
       "15000.00     8552\n",
       "20000.00     7673\n",
       "8000.00      6522\n",
       "            ...  \n",
       "14009.61        1\n",
       "10491.04        1\n",
       "8023.80         1\n",
       "2002.05         1\n",
       "1754.91         1\n",
       "Name: total_rec_prncp, Length: 172713, dtype: int64"
      ]
     },
     "metadata": {},
     "output_type": "display_data"
    },
    {
     "name": "stdout",
     "output_type": "stream",
     "text": [
      "#######################\n",
      "Column :  total_rec_int\n"
     ]
    },
    {
     "data": {
      "text/plain": [
       "0.00       379\n",
       "1249.39     78\n",
       "1329.13     75\n",
       "1037.31     74\n",
       "1350.99     72\n",
       "          ... \n",
       "1092.51      1\n",
       "4263.65      1\n",
       "1506.35      1\n",
       "2896.96      1\n",
       "1930.72      1\n",
       "Name: total_rec_int, Length: 270249, dtype: int64"
      ]
     },
     "metadata": {},
     "output_type": "display_data"
    },
    {
     "name": "stdout",
     "output_type": "stream",
     "text": [
      "#######################\n",
      "Column :  total_rec_late_fee\n"
     ]
    },
    {
     "data": {
      "text/plain": [
       "0.000000     455607\n",
       "15.000000      2223\n",
       "30.000000       285\n",
       "45.000000        50\n",
       "16.840000        15\n",
       "              ...  \n",
       "35.210000         1\n",
       "53.720000         1\n",
       "37.751380         1\n",
       "38.242755         1\n",
       "51.295505         1\n",
       "Name: total_rec_late_fee, Length: 5808, dtype: int64"
      ]
     },
     "metadata": {},
     "output_type": "display_data"
    },
    {
     "name": "stdout",
     "output_type": "stream",
     "text": [
      "#######################\n",
      "Column :  recoveries\n"
     ]
    },
    {
     "data": {
      "text/plain": [
       "0.00       441914\n",
       "11.70           9\n",
       "200.00          9\n",
       "10.00           9\n",
       "14.28           9\n",
       "            ...  \n",
       "3439.42         1\n",
       "1429.99         1\n",
       "212.00          1\n",
       "20.00           1\n",
       "4772.70         1\n",
       "Name: recoveries, Length: 22773, dtype: int64"
      ]
     },
     "metadata": {},
     "output_type": "display_data"
    },
    {
     "name": "stdout",
     "output_type": "stream",
     "text": [
      "#######################\n",
      "Column :  collection_recovery_fee\n"
     ]
    },
    {
     "data": {
      "text/plain": [
       "0.0000     443079\n",
       "2.0000         18\n",
       "1.8000         13\n",
       "1.8800         12\n",
       "1.5500         12\n",
       "            ...  \n",
       "10.9352         1\n",
       "16.3336         1\n",
       "31.8816         1\n",
       "8.7480          1\n",
       "18.6000         1\n",
       "Name: collection_recovery_fee, Length: 20275, dtype: int64"
      ]
     },
     "metadata": {},
     "output_type": "display_data"
    },
    {
     "name": "stdout",
     "output_type": "stream",
     "text": [
      "#######################\n",
      "Column :  last_pymnt_d\n"
     ]
    },
    {
     "data": {
      "text/plain": [
       "Jan-16    179620\n",
       "Dec-15     62000\n",
       "Jul-15     11703\n",
       "Oct-15     11248\n",
       "Sep-15     10204\n",
       "           ...  \n",
       "Jun-08        20\n",
       "Mar-08        18\n",
       "Jan-08        11\n",
       "Feb-08         8\n",
       "Dec-07         2\n",
       "Name: last_pymnt_d, Length: 99, dtype: int64"
      ]
     },
     "metadata": {},
     "output_type": "display_data"
    },
    {
     "name": "stdout",
     "output_type": "stream",
     "text": [
      "#######################\n",
      "Column :  last_pymnt_amnt\n"
     ]
    },
    {
     "data": {
      "text/plain": [
       "327.34      860\n",
       "336.90      828\n",
       "332.10      625\n",
       "491.01      579\n",
       "392.81      567\n",
       "           ... \n",
       "2429.69       1\n",
       "14443.90      1\n",
       "32281.12      1\n",
       "13357.22      1\n",
       "11314.68      1\n",
       "Name: last_pymnt_amnt, Length: 198194, dtype: int64"
      ]
     },
     "metadata": {},
     "output_type": "display_data"
    },
    {
     "name": "stdout",
     "output_type": "stream",
     "text": [
      "#######################\n",
      "Column :  next_pymnt_d\n"
     ]
    },
    {
     "data": {
      "text/plain": [
       "0         227214\n",
       "Feb-16    208393\n",
       "Jan-16     27922\n",
       "Mar-11       107\n",
       "Apr-11       101\n",
       "           ...  \n",
       "Feb-08         2\n",
       "Aug-14         2\n",
       "Dec-07         1\n",
       "May-08         1\n",
       "Mar-15         1\n",
       "Name: next_pymnt_d, Length: 101, dtype: int64"
      ]
     },
     "metadata": {},
     "output_type": "display_data"
    },
    {
     "name": "stdout",
     "output_type": "stream",
     "text": [
      "#######################\n",
      "Column :  last_credit_pull_d\n"
     ]
    },
    {
     "data": {
      "text/plain": [
       "Jan-16    327699\n",
       "Dec-15     13992\n",
       "Nov-15      8384\n",
       "Sep-15      8051\n",
       "Oct-15      7957\n",
       "           ...  \n",
       "Dec-07         3\n",
       "Jul-07         1\n",
       "May-08         1\n",
       "Jun-08         1\n",
       "Jul-08         1\n",
       "Name: last_credit_pull_d, Length: 104, dtype: int64"
      ]
     },
     "metadata": {},
     "output_type": "display_data"
    },
    {
     "name": "stdout",
     "output_type": "stream",
     "text": [
      "#######################\n",
      "Column :  collections_12_mths_ex_med\n"
     ]
    },
    {
     "data": {
      "text/plain": [
       "0.0     462371\n",
       "1.0       3665\n",
       "2.0        219\n",
       "3.0         19\n",
       "4.0          7\n",
       "6.0          1\n",
       "5.0          1\n",
       "16.0         1\n",
       "20.0         1\n",
       "Name: collections_12_mths_ex_med, dtype: int64"
      ]
     },
     "metadata": {},
     "output_type": "display_data"
    },
    {
     "name": "stdout",
     "output_type": "stream",
     "text": [
      "#######################\n",
      "Column :  mths_since_last_major_derog\n"
     ]
    },
    {
     "data": {
      "text/plain": [
       "0.0      367390\n",
       "45.0       1672\n",
       "46.0       1670\n",
       "42.0       1656\n",
       "48.0       1637\n",
       "          ...  \n",
       "169.0         1\n",
       "165.0         1\n",
       "156.0         1\n",
       "159.0         1\n",
       "188.0         1\n",
       "Name: mths_since_last_major_derog, Length: 162, dtype: int64"
      ]
     },
     "metadata": {},
     "output_type": "display_data"
    },
    {
     "name": "stdout",
     "output_type": "stream",
     "text": [
      "#######################\n",
      "Column :  policy_code\n"
     ]
    },
    {
     "data": {
      "text/plain": [
       "1    466285\n",
       "Name: policy_code, dtype: int64"
      ]
     },
     "metadata": {},
     "output_type": "display_data"
    },
    {
     "name": "stdout",
     "output_type": "stream",
     "text": [
      "#######################\n",
      "Column :  application_type\n"
     ]
    },
    {
     "data": {
      "text/plain": [
       "INDIVIDUAL    466285\n",
       "Name: application_type, dtype: int64"
      ]
     },
     "metadata": {},
     "output_type": "display_data"
    },
    {
     "name": "stdout",
     "output_type": "stream",
     "text": [
      "#######################\n",
      "Column :  annual_inc_joint\n"
     ]
    },
    {
     "data": {
      "text/plain": [
       "0.0    466285\n",
       "Name: annual_inc_joint, dtype: int64"
      ]
     },
     "metadata": {},
     "output_type": "display_data"
    },
    {
     "name": "stdout",
     "output_type": "stream",
     "text": [
      "#######################\n",
      "Column :  dti_joint\n"
     ]
    },
    {
     "data": {
      "text/plain": [
       "0.0    466285\n",
       "Name: dti_joint, dtype: int64"
      ]
     },
     "metadata": {},
     "output_type": "display_data"
    },
    {
     "name": "stdout",
     "output_type": "stream",
     "text": [
      "#######################\n",
      "Column :  verification_status_joint\n"
     ]
    },
    {
     "data": {
      "text/plain": [
       "0.0    466285\n",
       "Name: verification_status_joint, dtype: int64"
      ]
     },
     "metadata": {},
     "output_type": "display_data"
    },
    {
     "name": "stdout",
     "output_type": "stream",
     "text": [
      "#######################\n",
      "Column :  acc_now_delinq\n"
     ]
    },
    {
     "data": {
      "text/plain": [
       "0.0    464553\n",
       "1.0      1623\n",
       "2.0        92\n",
       "3.0        11\n",
       "4.0         4\n",
       "5.0         2\n",
       "Name: acc_now_delinq, dtype: int64"
      ]
     },
     "metadata": {},
     "output_type": "display_data"
    },
    {
     "name": "stdout",
     "output_type": "stream",
     "text": [
      "#######################\n",
      "Column :  tot_coll_amt\n"
     ]
    },
    {
     "data": {
      "text/plain": [
       "0.0        416535\n",
       "50.0          837\n",
       "100.0         650\n",
       "75.0          515\n",
       "200.0         309\n",
       "            ...  \n",
       "1872.0          1\n",
       "15386.0         1\n",
       "2931.0          1\n",
       "23447.0         1\n",
       "11167.0         1\n",
       "Name: tot_coll_amt, Length: 6321, dtype: int64"
      ]
     },
     "metadata": {},
     "output_type": "display_data"
    },
    {
     "name": "stdout",
     "output_type": "stream",
     "text": [
      "#######################\n",
      "Column :  tot_cur_bal\n"
     ]
    },
    {
     "data": {
      "text/plain": [
       "0.0         70354\n",
       "23254.0        15\n",
       "14186.0        15\n",
       "28674.0        14\n",
       "30491.0        14\n",
       "            ...  \n",
       "361098.0        1\n",
       "201541.0        1\n",
       "201539.0        1\n",
       "806141.0        1\n",
       "307568.0        1\n",
       "Name: tot_cur_bal, Length: 220690, dtype: int64"
      ]
     },
     "metadata": {},
     "output_type": "display_data"
    },
    {
     "name": "stdout",
     "output_type": "stream",
     "text": [
      "#######################\n",
      "Column :  open_acc_6m\n"
     ]
    },
    {
     "data": {
      "text/plain": [
       "0.0    466285\n",
       "Name: open_acc_6m, dtype: int64"
      ]
     },
     "metadata": {},
     "output_type": "display_data"
    },
    {
     "name": "stdout",
     "output_type": "stream",
     "text": [
      "#######################\n",
      "Column :  open_il_6m\n"
     ]
    },
    {
     "data": {
      "text/plain": [
       "0.0    466285\n",
       "Name: open_il_6m, dtype: int64"
      ]
     },
     "metadata": {},
     "output_type": "display_data"
    },
    {
     "name": "stdout",
     "output_type": "stream",
     "text": [
      "#######################\n",
      "Column :  open_il_12m\n"
     ]
    },
    {
     "data": {
      "text/plain": [
       "0.0    466285\n",
       "Name: open_il_12m, dtype: int64"
      ]
     },
     "metadata": {},
     "output_type": "display_data"
    },
    {
     "name": "stdout",
     "output_type": "stream",
     "text": [
      "#######################\n",
      "Column :  open_il_24m\n"
     ]
    },
    {
     "data": {
      "text/plain": [
       "0.0    466285\n",
       "Name: open_il_24m, dtype: int64"
      ]
     },
     "metadata": {},
     "output_type": "display_data"
    },
    {
     "name": "stdout",
     "output_type": "stream",
     "text": [
      "#######################\n",
      "Column :  mths_since_rcnt_il\n"
     ]
    },
    {
     "data": {
      "text/plain": [
       "0.0    466285\n",
       "Name: mths_since_rcnt_il, dtype: int64"
      ]
     },
     "metadata": {},
     "output_type": "display_data"
    },
    {
     "name": "stdout",
     "output_type": "stream",
     "text": [
      "#######################\n",
      "Column :  total_bal_il\n"
     ]
    },
    {
     "data": {
      "text/plain": [
       "0.0    466285\n",
       "Name: total_bal_il, dtype: int64"
      ]
     },
     "metadata": {},
     "output_type": "display_data"
    },
    {
     "name": "stdout",
     "output_type": "stream",
     "text": [
      "#######################\n",
      "Column :  il_util\n"
     ]
    },
    {
     "data": {
      "text/plain": [
       "0.0    466285\n",
       "Name: il_util, dtype: int64"
      ]
     },
     "metadata": {},
     "output_type": "display_data"
    },
    {
     "name": "stdout",
     "output_type": "stream",
     "text": [
      "#######################\n",
      "Column :  open_rv_12m\n"
     ]
    },
    {
     "data": {
      "text/plain": [
       "0.0    466285\n",
       "Name: open_rv_12m, dtype: int64"
      ]
     },
     "metadata": {},
     "output_type": "display_data"
    },
    {
     "name": "stdout",
     "output_type": "stream",
     "text": [
      "#######################\n",
      "Column :  open_rv_24m\n"
     ]
    },
    {
     "data": {
      "text/plain": [
       "0.0    466285\n",
       "Name: open_rv_24m, dtype: int64"
      ]
     },
     "metadata": {},
     "output_type": "display_data"
    },
    {
     "name": "stdout",
     "output_type": "stream",
     "text": [
      "#######################\n",
      "Column :  max_bal_bc\n"
     ]
    },
    {
     "data": {
      "text/plain": [
       "0.0    466285\n",
       "Name: max_bal_bc, dtype: int64"
      ]
     },
     "metadata": {},
     "output_type": "display_data"
    },
    {
     "name": "stdout",
     "output_type": "stream",
     "text": [
      "#######################\n",
      "Column :  all_util\n"
     ]
    },
    {
     "data": {
      "text/plain": [
       "0.0    466285\n",
       "Name: all_util, dtype: int64"
      ]
     },
     "metadata": {},
     "output_type": "display_data"
    },
    {
     "name": "stdout",
     "output_type": "stream",
     "text": [
      "#######################\n",
      "Column :  total_rev_hi_lim\n"
     ]
    },
    {
     "data": {
      "text/plain": [
       "0.0         70431\n",
       "15000.0      1392\n",
       "13500.0      1324\n",
       "10000.0      1316\n",
       "12000.0      1301\n",
       "            ...  \n",
       "69950.0         1\n",
       "24388.0         1\n",
       "39125.0         1\n",
       "195100.0        1\n",
       "17375.0         1\n",
       "Name: total_rev_hi_lim, Length: 14612, dtype: int64"
      ]
     },
     "metadata": {},
     "output_type": "display_data"
    },
    {
     "name": "stdout",
     "output_type": "stream",
     "text": [
      "#######################\n",
      "Column :  inq_fi\n"
     ]
    },
    {
     "data": {
      "text/plain": [
       "0.0    466285\n",
       "Name: inq_fi, dtype: int64"
      ]
     },
     "metadata": {},
     "output_type": "display_data"
    },
    {
     "name": "stdout",
     "output_type": "stream",
     "text": [
      "#######################\n",
      "Column :  total_cu_tl\n"
     ]
    },
    {
     "data": {
      "text/plain": [
       "0.0    466285\n",
       "Name: total_cu_tl, dtype: int64"
      ]
     },
     "metadata": {},
     "output_type": "display_data"
    },
    {
     "name": "stdout",
     "output_type": "stream",
     "text": [
      "#######################\n",
      "Column :  inq_last_12m\n"
     ]
    },
    {
     "data": {
      "text/plain": [
       "0.0    466285\n",
       "Name: inq_last_12m, dtype: int64"
      ]
     },
     "metadata": {},
     "output_type": "display_data"
    },
    {
     "name": "stdout",
     "output_type": "stream",
     "text": [
      "#######################\n"
     ]
    }
   ],
   "source": [
    "columns = df.columns\n",
    "for i in columns:\n",
    "  print(\"Column : \",i)\n",
    "  display(df[i].value_counts())\n",
    "  print(\"#######################\")"
   ]
  },
  {
   "cell_type": "code",
   "execution_count": 10,
   "metadata": {
    "id": "N4uQ375y0vLW"
   },
   "outputs": [],
   "source": [
    "dropping = [\"Unnamed: 0\",\"id\",\"member_id\",\"issue_d\",\"url\",\"desc\",\"all_util\",\"max_bal_bc\",\"open_rv_24m\",\"open_rv_12m\",\"il_util\",\"total_bal_il\",\"mths_since_rcnt_il\",\"open_il_24m\",\"open_il_12m\",\"open_il_6m\",\"open_acc_6m\",\"verification_status_joint\",\"dti_joint\",\"annual_inc_joint\",\"application_type\",\"policy_code\"]"
   ]
  },
  {
   "cell_type": "code",
   "execution_count": 11,
   "metadata": {
    "colab": {
     "base_uri": "https://localhost:8080/",
     "height": 53
    },
    "id": "N8cNc2Gq3ri6",
    "outputId": "7781fa6b-ae50-46b9-deb2-0afafcd37616"
   },
   "outputs": [
    {
     "data": {
      "application/vnd.google.colaboratory.intrinsic+json": {
       "type": "string"
      },
      "text/plain": [
       "'emp_title\\nterm\\nemp_length\\nhome_ownership\\nverification_status\\npymnt_plan\\npurpose\\ntitle\\nzip_code\\naddr_state\\ninitial_list_status\\nearliest_cr_line\\ntotal_pymnt'"
      ]
     },
     "execution_count": 11,
     "metadata": {},
     "output_type": "execute_result"
    }
   ],
   "source": [
    "# need to be fix\n",
    "\"\"\"emp_title\n",
    "term\n",
    "emp_length\n",
    "home_ownership\n",
    "verification_status\n",
    "pymnt_plan\n",
    "purpose\n",
    "title\n",
    "zip_code\n",
    "addr_state\n",
    "initial_list_status\n",
    "earliest_cr_line\n",
    "total_pymnt\"\"\""
   ]
  },
  {
   "cell_type": "code",
   "execution_count": 12,
   "metadata": {
    "colab": {
     "base_uri": "https://localhost:8080/",
     "height": 277
    },
    "id": "XMxcvEWf3rlZ",
    "outputId": "db55f0a4-ad1a-4bbb-cdc0-c4468768d1b7"
   },
   "outputs": [
    {
     "data": {
      "text/html": [
       "\n",
       "  <div id=\"df-d651847b-04cd-4846-9d84-63a49cdc62db\">\n",
       "    <div class=\"colab-df-container\">\n",
       "      <div>\n",
       "<style scoped>\n",
       "    .dataframe tbody tr th:only-of-type {\n",
       "        vertical-align: middle;\n",
       "    }\n",
       "\n",
       "    .dataframe tbody tr th {\n",
       "        vertical-align: top;\n",
       "    }\n",
       "\n",
       "    .dataframe thead th {\n",
       "        text-align: right;\n",
       "    }\n",
       "</style>\n",
       "<table border=\"1\" class=\"dataframe\">\n",
       "  <thead>\n",
       "    <tr style=\"text-align: right;\">\n",
       "      <th></th>\n",
       "      <th>loan_amnt</th>\n",
       "      <th>funded_amnt</th>\n",
       "      <th>funded_amnt_inv</th>\n",
       "      <th>term</th>\n",
       "      <th>int_rate</th>\n",
       "      <th>installment</th>\n",
       "      <th>grade</th>\n",
       "      <th>sub_grade</th>\n",
       "      <th>emp_title</th>\n",
       "      <th>emp_length</th>\n",
       "      <th>home_ownership</th>\n",
       "      <th>annual_inc</th>\n",
       "      <th>verification_status</th>\n",
       "      <th>loan_status</th>\n",
       "      <th>pymnt_plan</th>\n",
       "      <th>purpose</th>\n",
       "      <th>title</th>\n",
       "      <th>zip_code</th>\n",
       "      <th>addr_state</th>\n",
       "      <th>dti</th>\n",
       "      <th>delinq_2yrs</th>\n",
       "      <th>earliest_cr_line</th>\n",
       "      <th>inq_last_6mths</th>\n",
       "      <th>mths_since_last_delinq</th>\n",
       "      <th>mths_since_last_record</th>\n",
       "      <th>open_acc</th>\n",
       "      <th>pub_rec</th>\n",
       "      <th>revol_bal</th>\n",
       "      <th>revol_util</th>\n",
       "      <th>total_acc</th>\n",
       "      <th>initial_list_status</th>\n",
       "      <th>out_prncp</th>\n",
       "      <th>out_prncp_inv</th>\n",
       "      <th>total_pymnt</th>\n",
       "      <th>total_pymnt_inv</th>\n",
       "      <th>total_rec_prncp</th>\n",
       "      <th>total_rec_int</th>\n",
       "      <th>total_rec_late_fee</th>\n",
       "      <th>recoveries</th>\n",
       "      <th>collection_recovery_fee</th>\n",
       "      <th>last_pymnt_d</th>\n",
       "      <th>last_pymnt_amnt</th>\n",
       "      <th>next_pymnt_d</th>\n",
       "      <th>last_credit_pull_d</th>\n",
       "      <th>collections_12_mths_ex_med</th>\n",
       "      <th>mths_since_last_major_derog</th>\n",
       "      <th>acc_now_delinq</th>\n",
       "      <th>tot_coll_amt</th>\n",
       "      <th>tot_cur_bal</th>\n",
       "      <th>total_rev_hi_lim</th>\n",
       "      <th>inq_fi</th>\n",
       "      <th>total_cu_tl</th>\n",
       "      <th>inq_last_12m</th>\n",
       "    </tr>\n",
       "  </thead>\n",
       "  <tbody>\n",
       "    <tr>\n",
       "      <th>0</th>\n",
       "      <td>5000</td>\n",
       "      <td>5000</td>\n",
       "      <td>4975.0</td>\n",
       "      <td>36 months</td>\n",
       "      <td>10.65</td>\n",
       "      <td>162.87</td>\n",
       "      <td>B</td>\n",
       "      <td>B2</td>\n",
       "      <td>0</td>\n",
       "      <td>10+ years</td>\n",
       "      <td>RENT</td>\n",
       "      <td>24000.0</td>\n",
       "      <td>Verified</td>\n",
       "      <td>1</td>\n",
       "      <td>n</td>\n",
       "      <td>credit_card</td>\n",
       "      <td>Computer</td>\n",
       "      <td>860xx</td>\n",
       "      <td>AZ</td>\n",
       "      <td>27.65</td>\n",
       "      <td>0.0</td>\n",
       "      <td>Jan-85</td>\n",
       "      <td>1.0</td>\n",
       "      <td>0.0</td>\n",
       "      <td>0.0</td>\n",
       "      <td>3.0</td>\n",
       "      <td>0.0</td>\n",
       "      <td>13648</td>\n",
       "      <td>83.7</td>\n",
       "      <td>9.0</td>\n",
       "      <td>f</td>\n",
       "      <td>0.0</td>\n",
       "      <td>0.0</td>\n",
       "      <td>5861.071414</td>\n",
       "      <td>5831.78</td>\n",
       "      <td>5000.00</td>\n",
       "      <td>861.07</td>\n",
       "      <td>0.0</td>\n",
       "      <td>0.00</td>\n",
       "      <td>0.00</td>\n",
       "      <td>Jan-15</td>\n",
       "      <td>171.62</td>\n",
       "      <td>0</td>\n",
       "      <td>Jan-16</td>\n",
       "      <td>0.0</td>\n",
       "      <td>0.0</td>\n",
       "      <td>0.0</td>\n",
       "      <td>0.0</td>\n",
       "      <td>0.0</td>\n",
       "      <td>0.0</td>\n",
       "      <td>0.0</td>\n",
       "      <td>0.0</td>\n",
       "      <td>0.0</td>\n",
       "    </tr>\n",
       "    <tr>\n",
       "      <th>1</th>\n",
       "      <td>2500</td>\n",
       "      <td>2500</td>\n",
       "      <td>2500.0</td>\n",
       "      <td>60 months</td>\n",
       "      <td>15.27</td>\n",
       "      <td>59.83</td>\n",
       "      <td>C</td>\n",
       "      <td>C4</td>\n",
       "      <td>Ryder</td>\n",
       "      <td>&lt; 1 year</td>\n",
       "      <td>RENT</td>\n",
       "      <td>30000.0</td>\n",
       "      <td>Source Verified</td>\n",
       "      <td>0</td>\n",
       "      <td>n</td>\n",
       "      <td>car</td>\n",
       "      <td>bike</td>\n",
       "      <td>309xx</td>\n",
       "      <td>GA</td>\n",
       "      <td>1.00</td>\n",
       "      <td>0.0</td>\n",
       "      <td>Apr-99</td>\n",
       "      <td>5.0</td>\n",
       "      <td>0.0</td>\n",
       "      <td>0.0</td>\n",
       "      <td>3.0</td>\n",
       "      <td>0.0</td>\n",
       "      <td>1687</td>\n",
       "      <td>9.4</td>\n",
       "      <td>4.0</td>\n",
       "      <td>f</td>\n",
       "      <td>0.0</td>\n",
       "      <td>0.0</td>\n",
       "      <td>1008.710000</td>\n",
       "      <td>1008.71</td>\n",
       "      <td>456.46</td>\n",
       "      <td>435.17</td>\n",
       "      <td>0.0</td>\n",
       "      <td>117.08</td>\n",
       "      <td>1.11</td>\n",
       "      <td>Apr-13</td>\n",
       "      <td>119.66</td>\n",
       "      <td>0</td>\n",
       "      <td>Sep-13</td>\n",
       "      <td>0.0</td>\n",
       "      <td>0.0</td>\n",
       "      <td>0.0</td>\n",
       "      <td>0.0</td>\n",
       "      <td>0.0</td>\n",
       "      <td>0.0</td>\n",
       "      <td>0.0</td>\n",
       "      <td>0.0</td>\n",
       "      <td>0.0</td>\n",
       "    </tr>\n",
       "    <tr>\n",
       "      <th>2</th>\n",
       "      <td>2400</td>\n",
       "      <td>2400</td>\n",
       "      <td>2400.0</td>\n",
       "      <td>36 months</td>\n",
       "      <td>15.96</td>\n",
       "      <td>84.33</td>\n",
       "      <td>C</td>\n",
       "      <td>C5</td>\n",
       "      <td>0</td>\n",
       "      <td>10+ years</td>\n",
       "      <td>RENT</td>\n",
       "      <td>12252.0</td>\n",
       "      <td>Not Verified</td>\n",
       "      <td>1</td>\n",
       "      <td>n</td>\n",
       "      <td>small_business</td>\n",
       "      <td>real estate business</td>\n",
       "      <td>606xx</td>\n",
       "      <td>IL</td>\n",
       "      <td>8.72</td>\n",
       "      <td>0.0</td>\n",
       "      <td>Nov-01</td>\n",
       "      <td>2.0</td>\n",
       "      <td>0.0</td>\n",
       "      <td>0.0</td>\n",
       "      <td>2.0</td>\n",
       "      <td>0.0</td>\n",
       "      <td>2956</td>\n",
       "      <td>98.5</td>\n",
       "      <td>10.0</td>\n",
       "      <td>f</td>\n",
       "      <td>0.0</td>\n",
       "      <td>0.0</td>\n",
       "      <td>3003.653644</td>\n",
       "      <td>3003.65</td>\n",
       "      <td>2400.00</td>\n",
       "      <td>603.65</td>\n",
       "      <td>0.0</td>\n",
       "      <td>0.00</td>\n",
       "      <td>0.00</td>\n",
       "      <td>Jun-14</td>\n",
       "      <td>649.91</td>\n",
       "      <td>0</td>\n",
       "      <td>Jan-16</td>\n",
       "      <td>0.0</td>\n",
       "      <td>0.0</td>\n",
       "      <td>0.0</td>\n",
       "      <td>0.0</td>\n",
       "      <td>0.0</td>\n",
       "      <td>0.0</td>\n",
       "      <td>0.0</td>\n",
       "      <td>0.0</td>\n",
       "      <td>0.0</td>\n",
       "    </tr>\n",
       "  </tbody>\n",
       "</table>\n",
       "</div>\n",
       "      <button class=\"colab-df-convert\" onclick=\"convertToInteractive('df-d651847b-04cd-4846-9d84-63a49cdc62db')\"\n",
       "              title=\"Convert this dataframe to an interactive table.\"\n",
       "              style=\"display:none;\">\n",
       "        \n",
       "  <svg xmlns=\"http://www.w3.org/2000/svg\" height=\"24px\"viewBox=\"0 0 24 24\"\n",
       "       width=\"24px\">\n",
       "    <path d=\"M0 0h24v24H0V0z\" fill=\"none\"/>\n",
       "    <path d=\"M18.56 5.44l.94 2.06.94-2.06 2.06-.94-2.06-.94-.94-2.06-.94 2.06-2.06.94zm-11 1L8.5 8.5l.94-2.06 2.06-.94-2.06-.94L8.5 2.5l-.94 2.06-2.06.94zm10 10l.94 2.06.94-2.06 2.06-.94-2.06-.94-.94-2.06-.94 2.06-2.06.94z\"/><path d=\"M17.41 7.96l-1.37-1.37c-.4-.4-.92-.59-1.43-.59-.52 0-1.04.2-1.43.59L10.3 9.45l-7.72 7.72c-.78.78-.78 2.05 0 2.83L4 21.41c.39.39.9.59 1.41.59.51 0 1.02-.2 1.41-.59l7.78-7.78 2.81-2.81c.8-.78.8-2.07 0-2.86zM5.41 20L4 18.59l7.72-7.72 1.47 1.35L5.41 20z\"/>\n",
       "  </svg>\n",
       "      </button>\n",
       "      \n",
       "  <style>\n",
       "    .colab-df-container {\n",
       "      display:flex;\n",
       "      flex-wrap:wrap;\n",
       "      gap: 12px;\n",
       "    }\n",
       "\n",
       "    .colab-df-convert {\n",
       "      background-color: #E8F0FE;\n",
       "      border: none;\n",
       "      border-radius: 50%;\n",
       "      cursor: pointer;\n",
       "      display: none;\n",
       "      fill: #1967D2;\n",
       "      height: 32px;\n",
       "      padding: 0 0 0 0;\n",
       "      width: 32px;\n",
       "    }\n",
       "\n",
       "    .colab-df-convert:hover {\n",
       "      background-color: #E2EBFA;\n",
       "      box-shadow: 0px 1px 2px rgba(60, 64, 67, 0.3), 0px 1px 3px 1px rgba(60, 64, 67, 0.15);\n",
       "      fill: #174EA6;\n",
       "    }\n",
       "\n",
       "    [theme=dark] .colab-df-convert {\n",
       "      background-color: #3B4455;\n",
       "      fill: #D2E3FC;\n",
       "    }\n",
       "\n",
       "    [theme=dark] .colab-df-convert:hover {\n",
       "      background-color: #434B5C;\n",
       "      box-shadow: 0px 1px 3px 1px rgba(0, 0, 0, 0.15);\n",
       "      filter: drop-shadow(0px 1px 2px rgba(0, 0, 0, 0.3));\n",
       "      fill: #FFFFFF;\n",
       "    }\n",
       "  </style>\n",
       "\n",
       "      <script>\n",
       "        const buttonEl =\n",
       "          document.querySelector('#df-d651847b-04cd-4846-9d84-63a49cdc62db button.colab-df-convert');\n",
       "        buttonEl.style.display =\n",
       "          google.colab.kernel.accessAllowed ? 'block' : 'none';\n",
       "\n",
       "        async function convertToInteractive(key) {\n",
       "          const element = document.querySelector('#df-d651847b-04cd-4846-9d84-63a49cdc62db');\n",
       "          const dataTable =\n",
       "            await google.colab.kernel.invokeFunction('convertToInteractive',\n",
       "                                                     [key], {});\n",
       "          if (!dataTable) return;\n",
       "\n",
       "          const docLinkHtml = 'Like what you see? Visit the ' +\n",
       "            '<a target=\"_blank\" href=https://colab.research.google.com/notebooks/data_table.ipynb>data table notebook</a>'\n",
       "            + ' to learn more about interactive tables.';\n",
       "          element.innerHTML = '';\n",
       "          dataTable['output_type'] = 'display_data';\n",
       "          await google.colab.output.renderOutput(dataTable, element);\n",
       "          const docLink = document.createElement('div');\n",
       "          docLink.innerHTML = docLinkHtml;\n",
       "          element.appendChild(docLink);\n",
       "        }\n",
       "      </script>\n",
       "    </div>\n",
       "  </div>\n",
       "  "
      ],
      "text/plain": [
       "   loan_amnt  funded_amnt  funded_amnt_inv  ... inq_fi  total_cu_tl  inq_last_12m\n",
       "0       5000         5000           4975.0  ...    0.0          0.0           0.0\n",
       "1       2500         2500           2500.0  ...    0.0          0.0           0.0\n",
       "2       2400         2400           2400.0  ...    0.0          0.0           0.0\n",
       "\n",
       "[3 rows x 53 columns]"
      ]
     },
     "metadata": {},
     "output_type": "display_data"
    }
   ],
   "source": [
    "df = df.drop(dropping, 1)\n",
    "display(df.head(3))"
   ]
  },
  {
   "cell_type": "code",
   "execution_count": 13,
   "metadata": {
    "id": "CY8PeIBJyh1H"
   },
   "outputs": [],
   "source": [
    "fix_columns = [\"emp_title\",\"term\",\"emp_length\",\"home_ownership\",\"verification_status\",\"pymnt_plan\",\"purpose\",\"title\",\"zip_code\",\"addr_state\",\"initial_list_status\",\"earliest_cr_line\",\"total_pymnt\"]"
   ]
  },
  {
   "cell_type": "code",
   "execution_count": 14,
   "metadata": {
    "colab": {
     "base_uri": "https://localhost:8080/",
     "height": 1000
    },
    "id": "sbkmYKjtoGIQ",
    "outputId": "c3bce97d-cb7a-4183-cf73-e71ed8c0e925"
   },
   "outputs": [
    {
     "name": "stdout",
     "output_type": "stream",
     "text": [
      "Column :  emp_title\n"
     ]
    },
    {
     "data": {
      "text/plain": [
       "0                                       27588\n",
       "Teacher                                  5399\n",
       "Manager                                  4438\n",
       "Registered Nurse                         2316\n",
       "RN                                       2204\n",
       "                                        ...  \n",
       "DIRECT CARE WORKER                          1\n",
       "Supervisor of Development Operations        1\n",
       "Roseville Joint Union HS District           1\n",
       "vice president/loan officer                 1\n",
       "cuban crafters cigars                       1\n",
       "Name: emp_title, Length: 205476, dtype: int64"
      ]
     },
     "metadata": {},
     "output_type": "display_data"
    },
    {
     "name": "stdout",
     "output_type": "stream",
     "text": [
      "#######################\n",
      "Column :  term\n"
     ]
    },
    {
     "data": {
      "text/plain": [
       " 36 months    337953\n",
       " 60 months    128332\n",
       "Name: term, dtype: int64"
      ]
     },
     "metadata": {},
     "output_type": "display_data"
    },
    {
     "name": "stdout",
     "output_type": "stream",
     "text": [
      "#######################\n",
      "Column :  emp_length\n"
     ]
    },
    {
     "data": {
      "text/plain": [
       "10+ years    150049\n",
       "2 years       41373\n",
       "3 years       36596\n",
       "< 1 year      36265\n",
       "5 years       30774\n",
       "1 year        29622\n",
       "4 years       28023\n",
       "7 years       26180\n",
       "6 years       26112\n",
       "8 years       22395\n",
       "0             21008\n",
       "9 years       17888\n",
       "Name: emp_length, dtype: int64"
      ]
     },
     "metadata": {},
     "output_type": "display_data"
    },
    {
     "name": "stdout",
     "output_type": "stream",
     "text": [
      "#######################\n",
      "Column :  home_ownership\n"
     ]
    },
    {
     "data": {
      "text/plain": [
       "MORTGAGE    235875\n",
       "RENT        188473\n",
       "OWN          41704\n",
       "OTHER          182\n",
       "NONE            50\n",
       "ANY              1\n",
       "Name: home_ownership, dtype: int64"
      ]
     },
     "metadata": {},
     "output_type": "display_data"
    },
    {
     "name": "stdout",
     "output_type": "stream",
     "text": [
      "#######################\n",
      "Column :  verification_status\n"
     ]
    },
    {
     "data": {
      "text/plain": [
       "Verified           168055\n",
       "Source Verified    149993\n",
       "Not Verified       148237\n",
       "Name: verification_status, dtype: int64"
      ]
     },
     "metadata": {},
     "output_type": "display_data"
    },
    {
     "name": "stdout",
     "output_type": "stream",
     "text": [
      "#######################\n",
      "Column :  pymnt_plan\n"
     ]
    },
    {
     "data": {
      "text/plain": [
       "n    466276\n",
       "y         9\n",
       "Name: pymnt_plan, dtype: int64"
      ]
     },
     "metadata": {},
     "output_type": "display_data"
    },
    {
     "name": "stdout",
     "output_type": "stream",
     "text": [
      "#######################\n",
      "Column :  purpose\n"
     ]
    },
    {
     "data": {
      "text/plain": [
       "debt_consolidation    274195\n",
       "credit_card           104157\n",
       "home_improvement       26537\n",
       "other                  23690\n",
       "major_purchase          9828\n",
       "small_business          7013\n",
       "car                     5397\n",
       "medical                 4602\n",
       "moving                  2994\n",
       "vacation                2487\n",
       "wedding                 2343\n",
       "house                   2269\n",
       "educational              422\n",
       "renewable_energy         351\n",
       "Name: purpose, dtype: int64"
      ]
     },
     "metadata": {},
     "output_type": "display_data"
    },
    {
     "name": "stdout",
     "output_type": "stream",
     "text": [
      "#######################\n",
      "Column :  title\n"
     ]
    },
    {
     "data": {
      "text/plain": [
       "Debt consolidation                        164075\n",
       "Credit card refinancing                    62275\n",
       "Debt Consolidation                         15760\n",
       "Home improvement                           14849\n",
       "Other                                      12713\n",
       "                                           ...  \n",
       "Electric Vehicle                               1\n",
       "Debt Consol/Moving                             1\n",
       "Debt consolidation after home purchase         1\n",
       "2010 Loan 1                                    1\n",
       "Professional wants to lower mo. pmts           1\n",
       "Name: title, Length: 63100, dtype: int64"
      ]
     },
     "metadata": {},
     "output_type": "display_data"
    },
    {
     "name": "stdout",
     "output_type": "stream",
     "text": [
      "#######################\n",
      "Column :  zip_code\n"
     ]
    },
    {
     "data": {
      "text/plain": [
       "945xx    5304\n",
       "112xx    5102\n",
       "750xx    5013\n",
       "606xx    4696\n",
       "100xx    4391\n",
       "         ... \n",
       "682xx       1\n",
       "938xx       1\n",
       "861xx       1\n",
       "510xx       1\n",
       "909xx       1\n",
       "Name: zip_code, Length: 888, dtype: int64"
      ]
     },
     "metadata": {},
     "output_type": "display_data"
    },
    {
     "name": "stdout",
     "output_type": "stream",
     "text": [
      "#######################\n",
      "Column :  addr_state\n"
     ]
    },
    {
     "data": {
      "text/plain": [
       "CA    71450\n",
       "NY    40242\n",
       "TX    36439\n",
       "FL    31637\n",
       "IL    18612\n",
       "NJ    18061\n",
       "PA    16424\n",
       "OH    15237\n",
       "GA    14975\n",
       "VA    14222\n",
       "NC    12682\n",
       "MI    11549\n",
       "MA    11072\n",
       "MD    10974\n",
       "AZ    10712\n",
       "WA    10517\n",
       "CO     9739\n",
       "MN     8158\n",
       "MO     7508\n",
       "CT     7204\n",
       "IN     6525\n",
       "NV     6519\n",
       "TN     5984\n",
       "OR     5949\n",
       "WI     5911\n",
       "AL     5853\n",
       "SC     5583\n",
       "LA     5489\n",
       "KY     4438\n",
       "KS     4190\n",
       "OK     4117\n",
       "AR     3488\n",
       "UT     3428\n",
       "NM     2588\n",
       "HI     2487\n",
       "WV     2412\n",
       "NH     2232\n",
       "RI     2050\n",
       "DC     1426\n",
       "MT     1396\n",
       "DE     1272\n",
       "AK     1251\n",
       "MS     1226\n",
       "WY     1128\n",
       "SD      980\n",
       "VT      905\n",
       "IA       14\n",
       "NE       14\n",
       "ID       12\n",
       "ME        4\n",
       "Name: addr_state, dtype: int64"
      ]
     },
     "metadata": {},
     "output_type": "display_data"
    },
    {
     "name": "stdout",
     "output_type": "stream",
     "text": [
      "#######################\n",
      "Column :  initial_list_status\n"
     ]
    },
    {
     "data": {
      "text/plain": [
       "f    303005\n",
       "w    163280\n",
       "Name: initial_list_status, dtype: int64"
      ]
     },
     "metadata": {},
     "output_type": "display_data"
    },
    {
     "name": "stdout",
     "output_type": "stream",
     "text": [
      "#######################\n",
      "Column :  earliest_cr_line\n"
     ]
    },
    {
     "data": {
      "text/plain": [
       "Oct-00    3674\n",
       "Aug-00    3597\n",
       "Aug-01    3455\n",
       "Oct-99    3406\n",
       "Oct-01    3329\n",
       "          ... \n",
       "Aug-46       1\n",
       "May-50       1\n",
       "Oct-57       1\n",
       "Jan-46       1\n",
       "Nov-53       1\n",
       "Name: earliest_cr_line, Length: 665, dtype: int64"
      ]
     },
     "metadata": {},
     "output_type": "display_data"
    },
    {
     "name": "stdout",
     "output_type": "stream",
     "text": [
      "#######################\n",
      "Column :  total_pymnt\n"
     ]
    },
    {
     "data": {
      "text/plain": [
       "6743.73000     117\n",
       "0.00000         87\n",
       "5564.78000      78\n",
       "5619.69000      75\n",
       "5497.46000      75\n",
       "              ... \n",
       "34391.30000      1\n",
       "38958.99309      1\n",
       "40469.58582      1\n",
       "15056.02000      1\n",
       "2088.21000       1\n",
       "Name: total_pymnt, Length: 351609, dtype: int64"
      ]
     },
     "metadata": {},
     "output_type": "display_data"
    },
    {
     "name": "stdout",
     "output_type": "stream",
     "text": [
      "#######################\n"
     ]
    }
   ],
   "source": [
    "for i in fix_columns:\n",
    "  print(\"Column : \",i)\n",
    "  display(df[i].value_counts())\n",
    "  print(\"#######################\")"
   ]
  },
  {
   "cell_type": "code",
   "execution_count": 15,
   "metadata": {
    "id": "CsCn7_uo0c5r"
   },
   "outputs": [],
   "source": [
    "# data consisted of string and int\n",
    "df[\"emp_title\"] = df[\"emp_title\"].replace(0, 'E')"
   ]
  },
  {
   "cell_type": "code",
   "execution_count": 16,
   "metadata": {
    "colab": {
     "base_uri": "https://localhost:8080/"
    },
    "id": "ANGW7SJ7qNKC",
    "outputId": "383494b4-5308-4601-92b8-53ab63890972"
   },
   "outputs": [
    {
     "name": "stdout",
     "output_type": "stream",
     "text": [
      "50966     27588\n",
      "155553     5399\n",
      "94532      4438\n",
      "128183     2316\n",
      "125478     2204\n",
      "          ...  \n",
      "123807        1\n",
      "125854        1\n",
      "127901        1\n",
      "129948        1\n",
      "0             1\n",
      "Name: emp_title, Length: 205476, dtype: int64\n"
     ]
    }
   ],
   "source": [
    "from sklearn import preprocessing\n",
    "le = preprocessing.LabelEncoder()\n",
    "labels = le.fit_transform(df[\"emp_title\"])\n",
    "df[\"emp_title\"] = labels\n",
    "print(df[\"emp_title\"].value_counts())"
   ]
  },
  {
   "cell_type": "code",
   "execution_count": 17,
   "metadata": {
    "colab": {
     "base_uri": "https://localhost:8080/"
    },
    "id": "WE9op65tqNMz",
    "outputId": "e69556ca-627d-4daf-c26d-cef431f06b42"
   },
   "outputs": [
    {
     "name": "stdout",
     "output_type": "stream",
     "text": [
      "36    337953\n",
      "60    128332\n",
      "Name: term, dtype: int64\n"
     ]
    }
   ],
   "source": [
    "df[\"term\"] = df[\"term\"].replace(\" 36 months\", 36)\n",
    "df[\"term\"] = df[\"term\"].replace(\" 60 months\", 60)\n",
    "print(df[\"term\"].value_counts())"
   ]
  },
  {
   "cell_type": "code",
   "execution_count": 18,
   "metadata": {
    "colab": {
     "base_uri": "https://localhost:8080/"
    },
    "id": "ymTuOS4vqmsS",
    "outputId": "08f7b429-3040-4ef0-80db-79cf1996638f"
   },
   "outputs": [
    {
     "data": {
      "text/plain": [
       "array(['10+ years', '< 1 year', '1 year', '3 years', '8 years', '9 years',\n",
       "       '4 years', '5 years', '6 years', '2 years', '7 years', 0],\n",
       "      dtype=object)"
      ]
     },
     "execution_count": 18,
     "metadata": {},
     "output_type": "execute_result"
    }
   ],
   "source": [
    "df[\"emp_length\"].unique()"
   ]
  },
  {
   "cell_type": "code",
   "execution_count": 19,
   "metadata": {
    "colab": {
     "base_uri": "https://localhost:8080/"
    },
    "id": "iyXLHbXQrEWH",
    "outputId": "4073db0e-d265-48b1-84ef-a00b1df2f6ae"
   },
   "outputs": [
    {
     "name": "stdout",
     "output_type": "stream",
     "text": [
      "10.0    150049\n",
      "2.0      41373\n",
      "3.0      36596\n",
      "0.9      36265\n",
      "5.0      30774\n",
      "1.0      29622\n",
      "4.0      28023\n",
      "7.0      26180\n",
      "6.0      26112\n",
      "8.0      22395\n",
      "0.0      21008\n",
      "9.0      17888\n",
      "Name: emp_length, dtype: int64\n"
     ]
    }
   ],
   "source": [
    "df[\"emp_length\"] = df[\"emp_length\"].replace(\"10+ years\", 10)\n",
    "df[\"emp_length\"] = df[\"emp_length\"].replace(\"< 1 year\", 0.9)\n",
    "df[\"emp_length\"] = df[\"emp_length\"].replace(\"1 year\", 1)\n",
    "df[\"emp_length\"] = df[\"emp_length\"].replace(\"3 years\", 3)\n",
    "df[\"emp_length\"] = df[\"emp_length\"].replace(\"8 years\", 8)\n",
    "df[\"emp_length\"] = df[\"emp_length\"].replace(\"9 years\", 9)\n",
    "df[\"emp_length\"] = df[\"emp_length\"].replace(\"4 years\", 4)\n",
    "df[\"emp_length\"] = df[\"emp_length\"].replace(\"5 years\", 5)\n",
    "df[\"emp_length\"] = df[\"emp_length\"].replace(\"6 years\", 6)\n",
    "df[\"emp_length\"] = df[\"emp_length\"].replace(\"2 years\", 2)\n",
    "df[\"emp_length\"] = df[\"emp_length\"].replace(\"7 years\", 7)\n",
    "print(df[\"emp_length\"].value_counts())"
   ]
  },
  {
   "cell_type": "code",
   "execution_count": 20,
   "metadata": {
    "colab": {
     "base_uri": "https://localhost:8080/"
    },
    "id": "n1kcRaXMsQWy",
    "outputId": "fcd79b0c-8075-4fee-d839-155151561438"
   },
   "outputs": [
    {
     "name": "stdout",
     "output_type": "stream",
     "text": [
      "1    235875\n",
      "5    188473\n",
      "4     41704\n",
      "3       182\n",
      "2        50\n",
      "0         1\n",
      "Name: home_ownership, dtype: int64\n"
     ]
    }
   ],
   "source": [
    "#print(df[\"home_ownership\"].value_counts())\n",
    "\n",
    "#from sklearn import preprocessing\n",
    "#le = preprocessing.LabelEncoder()\n",
    "labels = le.fit_transform(df[\"home_ownership\"])\n",
    "df[\"home_ownership\"] = labels\n",
    "print(df[\"home_ownership\"].value_counts())"
   ]
  },
  {
   "cell_type": "code",
   "execution_count": 21,
   "metadata": {
    "colab": {
     "base_uri": "https://localhost:8080/"
    },
    "id": "CsjfltPlti74",
    "outputId": "1178180f-655e-45f6-fc42-717989d73021"
   },
   "outputs": [
    {
     "name": "stdout",
     "output_type": "stream",
     "text": [
      "2    168055\n",
      "1    149993\n",
      "0    148237\n",
      "Name: verification_status, dtype: int64\n"
     ]
    }
   ],
   "source": [
    "#print(df[\"verification_status\"].value_counts())\n",
    "\n",
    "#from sklearn import preprocessing\n",
    "#le = preprocessing.LabelEncoder()\n",
    "labels = le.fit_transform(df[\"verification_status\"])\n",
    "df[\"verification_status\"] = labels\n",
    "print(df[\"verification_status\"].value_counts())"
   ]
  },
  {
   "cell_type": "code",
   "execution_count": 22,
   "metadata": {
    "colab": {
     "base_uri": "https://localhost:8080/"
    },
    "id": "Bwv6MMLst7OE",
    "outputId": "f2a840b5-909e-4753-8f19-b3032bfef5df"
   },
   "outputs": [
    {
     "name": "stdout",
     "output_type": "stream",
     "text": [
      "['n' 'y']\n",
      "[0 1]\n"
     ]
    }
   ],
   "source": [
    "print(df[\"pymnt_plan\"].unique())\n",
    "df[\"pymnt_plan\"] = df[\"pymnt_plan\"].replace(\"n\", 0)\n",
    "df[\"pymnt_plan\"] = df[\"pymnt_plan\"].replace(\"y\", 1)\n",
    "print(df[\"pymnt_plan\"].unique())"
   ]
  },
  {
   "cell_type": "code",
   "execution_count": 23,
   "metadata": {
    "colab": {
     "base_uri": "https://localhost:8080/"
    },
    "id": "9xbtq4CDuEAW",
    "outputId": "976ef83f-dd58-49af-8bb2-f2fddf8457fc"
   },
   "outputs": [
    {
     "name": "stdout",
     "output_type": "stream",
     "text": [
      "2     274195\n",
      "1     104157\n",
      "4      26537\n",
      "9      23690\n",
      "6       9828\n",
      "11      7013\n",
      "0       5397\n",
      "7       4602\n",
      "8       2994\n",
      "12      2487\n",
      "13      2343\n",
      "5       2269\n",
      "3        422\n",
      "10       351\n",
      "Name: purpose, dtype: int64\n"
     ]
    }
   ],
   "source": [
    "#print(df[\"purpose\"].value_counts())\n",
    "\n",
    "#from sklearn import preprocessing\n",
    "#le = preprocessing.LabelEncoder()\n",
    "labels = le.fit_transform(df[\"purpose\"])\n",
    "df[\"purpose\"] = labels\n",
    "print(df[\"purpose\"].value_counts())"
   ]
  },
  {
   "cell_type": "code",
   "execution_count": 24,
   "metadata": {
    "colab": {
     "base_uri": "https://localhost:8080/"
    },
    "id": "D-SrwDNry_uZ",
    "outputId": "3266f85c-5dba-4e0e-8d58-fa105b4d1125"
   },
   "outputs": [
    {
     "name": "stdout",
     "output_type": "stream",
     "text": [
      "Debt consolidation                        164075\n",
      "Credit card refinancing                    62275\n",
      "Debt Consolidation                         15760\n",
      "Home improvement                           14849\n",
      "Other                                      12713\n",
      "                                           ...  \n",
      "Electric Vehicle                               1\n",
      "Debt Consol/Moving                             1\n",
      "Debt consolidation after home purchase         1\n",
      "2010 Loan 1                                    1\n",
      "Professional wants to lower mo. pmts           1\n",
      "Name: title, Length: 63100, dtype: int64\n"
     ]
    }
   ],
   "source": [
    "print(df[\"title\"].value_counts())"
   ]
  },
  {
   "cell_type": "code",
   "execution_count": 25,
   "metadata": {
    "id": "ywhSIL61y_xQ"
   },
   "outputs": [],
   "source": [
    "#for i in df[\"title\"]:\n",
    "#  if type(i) == int:\n",
    "#    print(i)"
   ]
  },
  {
   "cell_type": "code",
   "execution_count": 26,
   "metadata": {
    "id": "ficVHoCR2iD8"
   },
   "outputs": [],
   "source": [
    "# data consisted of string and int\n",
    "df[\"title\"] = df[\"title\"].replace(0, 'a')\n",
    "\n",
    "labels = le.fit_transform(df[\"title\"])\n",
    "df[\"title\"] = labels\n",
    "#print(df[\"title\"].value_counts())"
   ]
  },
  {
   "cell_type": "code",
   "execution_count": 27,
   "metadata": {
    "colab": {
     "base_uri": "https://localhost:8080/"
    },
    "id": "2c81l_yC2Fst",
    "outputId": "9f4719c7-c883-4c42-ba4e-804fe9791da6"
   },
   "outputs": [
    {
     "name": "stdout",
     "output_type": "stream",
     "text": [
      "309xx\n",
      "309\n"
     ]
    }
   ],
   "source": [
    "# removing xx\n",
    "print(df['zip_code'][1])\n",
    "df['zip_code'] = df['zip_code'].str.replace(r'xx', '')\n",
    "print(df['zip_code'][1])"
   ]
  },
  {
   "cell_type": "code",
   "execution_count": 28,
   "metadata": {
    "id": "QO7alp_n2F0M"
   },
   "outputs": [],
   "source": [
    "labels = le.fit_transform(df[\"addr_state\"])\n",
    "df[\"addr_state\"] = labels\n",
    "#print(df[\"addr_state\"].value_counts())"
   ]
  },
  {
   "cell_type": "code",
   "execution_count": 29,
   "metadata": {
    "colab": {
     "base_uri": "https://localhost:8080/"
    },
    "id": "DdokD5iOu8xW",
    "outputId": "fdc0ffe6-6bc3-4ac1-c249-15afd40ebc52"
   },
   "outputs": [
    {
     "name": "stdout",
     "output_type": "stream",
     "text": [
      "f    303005\n",
      "w    163280\n",
      "Name: initial_list_status, dtype: int64\n",
      "0    303005\n",
      "1    163280\n",
      "Name: initial_list_status, dtype: int64\n"
     ]
    }
   ],
   "source": [
    "print(df[\"initial_list_status\"].value_counts())\n",
    "df[\"initial_list_status\"] = df[\"initial_list_status\"].replace(\"f\", 0)\n",
    "df[\"initial_list_status\"] = df[\"initial_list_status\"].replace(\"w\", 1)\n",
    "print(df[\"initial_list_status\"].value_counts())"
   ]
  },
  {
   "cell_type": "code",
   "execution_count": 30,
   "metadata": {
    "colab": {
     "base_uri": "https://localhost:8080/"
    },
    "id": "xChNlSrXvZHP",
    "outputId": "b7d55d9a-957d-4eb5-a1fc-26ac2f1721bc"
   },
   "outputs": [
    {
     "name": "stdout",
     "output_type": "stream",
     "text": [
      "['Jan' 'Apr' 'Nov' 'Feb' 'Jul' 'Sep' 'Oct' 'May' 'Aug' 'Jun' 'Dec' 'Mar'\n",
      " '0']\n"
     ]
    }
   ],
   "source": [
    "#print(df[\"earliest_cr_line\"].unique())\n",
    "df['earliest_cr_line'] = df['earliest_cr_line'].map(lambda x: str(x)[:3])\n",
    "df[\"earliest_cr_line\"] = df[\"earliest_cr_line\"].replace(0, 'E')\n",
    "print(df[\"earliest_cr_line\"].unique())"
   ]
  },
  {
   "cell_type": "code",
   "execution_count": 31,
   "metadata": {
    "colab": {
     "base_uri": "https://localhost:8080/"
    },
    "id": "rYzlBilquv3x",
    "outputId": "b0760459-232c-4aa0-8934-19813222dea1"
   },
   "outputs": [
    {
     "name": "stdout",
     "output_type": "stream",
     "text": [
      "1008.71\n",
      "1008.7\n"
     ]
    }
   ],
   "source": [
    "print(df[\"total_pymnt\"][1])\n",
    "df[\"total_pymnt\"] = round(df[\"total_pymnt\"], 1)\n",
    "print(df[\"total_pymnt\"][1])"
   ]
  },
  {
   "cell_type": "code",
   "execution_count": 32,
   "metadata": {
    "colab": {
     "base_uri": "https://localhost:8080/"
    },
    "id": "tOeLqv35_Uyq",
    "outputId": "604322d0-9be2-4ed1-cd01-fca1370bd1cc"
   },
   "outputs": [
    {
     "name": "stdout",
     "output_type": "stream",
     "text": [
      "2500.0\n",
      "2500.0\n"
     ]
    }
   ],
   "source": [
    "print(df[\"funded_amnt_inv\"][1])\n",
    "df[\"funded_amnt_inv\"] = round(df[\"funded_amnt_inv\"], 1)\n",
    "print(df[\"funded_amnt_inv\"][1])"
   ]
  },
  {
   "cell_type": "code",
   "execution_count": 33,
   "metadata": {
    "colab": {
     "base_uri": "https://localhost:8080/"
    },
    "id": "9nBINTZd_qBC",
    "outputId": "3dbb5756-7073-409c-e727-7f34abc0241f"
   },
   "outputs": [
    {
     "name": "stdout",
     "output_type": "stream",
     "text": [
      "1    136929\n",
      "2    125293\n",
      "3     76888\n",
      "0     74867\n",
      "4     35757\n",
      "5     13229\n",
      "6      3322\n",
      "Name: grade, dtype: int64\n"
     ]
    }
   ],
   "source": [
    "labels = le.fit_transform(df[\"grade\"])\n",
    "df[\"grade\"] = labels\n",
    "print(df[\"grade\"].value_counts())"
   ]
  },
  {
   "cell_type": "code",
   "execution_count": 34,
   "metadata": {
    "id": "5RjM_gtU_8LT"
   },
   "outputs": [],
   "source": [
    "labels = le.fit_transform(df[\"sub_grade\"])\n",
    "df[\"sub_grade\"] = labels\n",
    "#print(df[\"sub_grade\"].value_counts())"
   ]
  },
  {
   "cell_type": "code",
   "execution_count": 35,
   "metadata": {
    "colab": {
     "base_uri": "https://localhost:8080/"
    },
    "id": "jLFwPgG0AKVA",
    "outputId": "f542586e-2dde-4583-feb7-8d40f789671a"
   },
   "outputs": [
    {
     "name": "stdout",
     "output_type": "stream",
     "text": [
      "11    45592\n",
      "12    44184\n",
      "2     43486\n",
      "10    42115\n",
      "3     40063\n",
      "6     37266\n",
      "8     36975\n",
      "5     36657\n",
      "9     35877\n",
      "7     35768\n",
      "1     34212\n",
      "4     34061\n",
      "0        29\n",
      "Name: earliest_cr_line, dtype: int64\n"
     ]
    }
   ],
   "source": [
    "labels = le.fit_transform(df[\"earliest_cr_line\"])\n",
    "df[\"earliest_cr_line\"] = labels\n",
    "print(df[\"earliest_cr_line\"].value_counts())"
   ]
  },
  {
   "cell_type": "code",
   "execution_count": 36,
   "metadata": {
    "colab": {
     "base_uri": "https://localhost:8080/"
    },
    "id": "ihOGya6dAbRo",
    "outputId": "e308c353-cd67-4c3b-ed12-99a6df3bacaa"
   },
   "outputs": [
    {
     "name": "stdout",
     "output_type": "stream",
     "text": [
      "['Jan' 'Apr' 'Jun' 'Nov' 'Sep' 'Jul' 'Oct' 'May' 'Feb' 'Aug' '0' 'Dec'\n",
      " 'Mar']\n"
     ]
    }
   ],
   "source": [
    "df['last_pymnt_d'] = df['last_pymnt_d'].map(lambda x: str(x)[:3])\n",
    "df[\"last_pymnt_d\"] = df[\"last_pymnt_d\"].replace(0, 'E')\n",
    "print(df[\"last_pymnt_d\"].unique())"
   ]
  },
  {
   "cell_type": "code",
   "execution_count": 37,
   "metadata": {
    "colab": {
     "base_uri": "https://localhost:8080/"
    },
    "id": "512mINsdAbgo",
    "outputId": "015c9b82-e304-4ccd-ae83-f2cb38076cd8"
   },
   "outputs": [
    {
     "name": "stdout",
     "output_type": "stream",
     "text": [
      "5     194421\n",
      "3      74567\n",
      "11     23938\n",
      "6      22182\n",
      "12     20956\n",
      "2      20667\n",
      "10     20239\n",
      "7      19221\n",
      "8      18540\n",
      "9      18076\n",
      "1      17907\n",
      "4      15195\n",
      "0        376\n",
      "Name: last_pymnt_d, dtype: int64\n"
     ]
    }
   ],
   "source": [
    "labels = le.fit_transform(df[\"last_pymnt_d\"])\n",
    "df[\"last_pymnt_d\"] = labels\n",
    "print(df[\"last_pymnt_d\"].value_counts())"
   ]
  },
  {
   "cell_type": "code",
   "execution_count": 38,
   "metadata": {
    "colab": {
     "base_uri": "https://localhost:8080/"
    },
    "id": "3NyD6fQsA_D4",
    "outputId": "5cad7473-f0f5-4412-fce8-03cdc7720ae1"
   },
   "outputs": [
    {
     "name": "stdout",
     "output_type": "stream",
     "text": [
      "['0' 'Feb' 'Jan' 'Sep' 'May' 'Jun' 'Mar' 'Apr' 'Aug' 'Nov' 'Oct' 'Jul'\n",
      " 'Dec']\n",
      "\n",
      "0     227214\n",
      "4     208602\n",
      "5      28134\n",
      "3        286\n",
      "8        284\n",
      "11       251\n",
      "1        248\n",
      "9        234\n",
      "10       228\n",
      "2        217\n",
      "12       205\n",
      "7        198\n",
      "6        184\n",
      "Name: next_pymnt_d, dtype: int64\n"
     ]
    }
   ],
   "source": [
    "df['next_pymnt_d'] = df['next_pymnt_d'].map(lambda x: str(x)[:3])\n",
    "df[\"next_pymnt_d\"] = df[\"next_pymnt_d\"].replace(0, 'E')\n",
    "print(df[\"next_pymnt_d\"].unique())\n",
    "print()\n",
    "labels = le.fit_transform(df[\"next_pymnt_d\"])\n",
    "df[\"next_pymnt_d\"] = labels\n",
    "print(df[\"next_pymnt_d\"].value_counts())"
   ]
  },
  {
   "cell_type": "code",
   "execution_count": 39,
   "metadata": {
    "colab": {
     "base_uri": "https://localhost:8080/"
    },
    "id": "I3V_8KBoA_Mv",
    "outputId": "8649e6fe-99c4-4eb8-f409-0aaeaef6b19a"
   },
   "outputs": [
    {
     "name": "stdout",
     "output_type": "stream",
     "text": [
      "['Jan' 'Sep' 'Dec' 'Aug' 'Mar' 'Nov' 'Apr' 'May' 'Jul' 'Oct' 'Jun' 'Feb'\n",
      " '0']\n",
      "\n",
      "5     335246\n",
      "3      20172\n",
      "10     13950\n",
      "11     13465\n",
      "12     12940\n",
      "6      11877\n",
      "2      11382\n",
      "7       9987\n",
      "8       9557\n",
      "1       9374\n",
      "9       9344\n",
      "4       8949\n",
      "0         42\n",
      "Name: last_credit_pull_d, dtype: int64\n"
     ]
    }
   ],
   "source": [
    "df['last_credit_pull_d'] = df['last_credit_pull_d'].map(lambda x: str(x)[:3])\n",
    "df[\"last_credit_pull_d\"] = df[\"last_credit_pull_d\"].replace(0, 'E')\n",
    "print(df[\"last_credit_pull_d\"].unique())\n",
    "print()\n",
    "labels = le.fit_transform(df[\"last_credit_pull_d\"])\n",
    "df[\"last_credit_pull_d\"] = labels\n",
    "print(df[\"last_credit_pull_d\"].value_counts())"
   ]
  },
  {
   "cell_type": "code",
   "execution_count": 40,
   "metadata": {
    "id": "NCCN1bHqCIkG"
   },
   "outputs": [],
   "source": [
    "dropp = [\"inq_fi\",\"total_cu_tl\",\"inq_last_12m\"]\n",
    "df = df.drop(dropp, 1)\n",
    "#display(df.head(3))"
   ]
  },
  {
   "cell_type": "code",
   "execution_count": 41,
   "metadata": {
    "id": "liVzegDgu6-z"
   },
   "outputs": [],
   "source": [
    "############# preprocessing done ############"
   ]
  },
  {
   "cell_type": "code",
   "execution_count": 42,
   "metadata": {
    "colab": {
     "base_uri": "https://localhost:8080/",
     "height": 1000
    },
    "id": "9aWM_KNS-M_2",
    "outputId": "fef3d17f-16eb-41c0-fd48-1c2dc052de7b"
   },
   "outputs": [
    {
     "name": "stdout",
     "output_type": "stream",
     "text": [
      "Column :  loan_amnt\n"
     ]
    },
    {
     "data": {
      "text/plain": [
       "10000    33023\n",
       "12000    25519\n",
       "15000    23486\n",
       "20000    22759\n",
       "35000    16596\n",
       "         ...  \n",
       "33675        1\n",
       "32150        1\n",
       "30050        1\n",
       "28825        1\n",
       "33775        1\n",
       "Name: loan_amnt, Length: 1352, dtype: int64"
      ]
     },
     "metadata": {},
     "output_type": "display_data"
    },
    {
     "name": "stdout",
     "output_type": "stream",
     "text": [
      "#######################\n",
      "Column :  funded_amnt\n"
     ]
    },
    {
     "data": {
      "text/plain": [
       "10000    32930\n",
       "12000    25426\n",
       "15000    23370\n",
       "20000    22571\n",
       "35000    16458\n",
       "         ...  \n",
       "31875        1\n",
       "34150        1\n",
       "750          1\n",
       "33175        1\n",
       "33775        1\n",
       "Name: funded_amnt, Length: 1354, dtype: int64"
      ]
     },
     "metadata": {},
     "output_type": "display_data"
    },
    {
     "name": "stdout",
     "output_type": "stream",
     "text": [
      "#######################\n",
      "Column :  funded_amnt_inv\n"
     ]
    },
    {
     "data": {
      "text/plain": [
       "10000.0    28684\n",
       "12000.0    21732\n",
       "15000.0    19475\n",
       "20000.0    18070\n",
       "8000.0     13233\n",
       "           ...  \n",
       "19832.9        1\n",
       "2057.4         1\n",
       "1825.2         1\n",
       "9917.2         1\n",
       "14993.2        1\n",
       "Name: funded_amnt_inv, Length: 9031, dtype: int64"
      ]
     },
     "metadata": {},
     "output_type": "display_data"
    },
    {
     "name": "stdout",
     "output_type": "stream",
     "text": [
      "#######################\n",
      "Column :  term\n"
     ]
    },
    {
     "data": {
      "text/plain": [
       "36    337953\n",
       "60    128332\n",
       "Name: term, dtype: int64"
      ]
     },
     "metadata": {},
     "output_type": "display_data"
    },
    {
     "name": "stdout",
     "output_type": "stream",
     "text": [
      "#######################\n",
      "Column :  int_rate\n"
     ]
    },
    {
     "data": {
      "text/plain": [
       "12.99    15846\n",
       "10.99    14837\n",
       "15.61    13074\n",
       "8.90     11424\n",
       "16.29    10587\n",
       "         ...  \n",
       "17.78        1\n",
       "16.83        1\n",
       "17.41        1\n",
       "24.59        1\n",
       "24.40        1\n",
       "Name: int_rate, Length: 506, dtype: int64"
      ]
     },
     "metadata": {},
     "output_type": "display_data"
    },
    {
     "name": "stdout",
     "output_type": "stream",
     "text": [
      "#######################\n",
      "Column :  installment\n"
     ]
    },
    {
     "data": {
      "text/plain": [
       "327.34    1246\n",
       "336.90    1191\n",
       "332.10     978\n",
       "491.01     881\n",
       "392.81     855\n",
       "          ... \n",
       "822.82       1\n",
       "429.40       1\n",
       "536.95       1\n",
       "817.10       1\n",
       "32.00        1\n",
       "Name: installment, Length: 55622, dtype: int64"
      ]
     },
     "metadata": {},
     "output_type": "display_data"
    },
    {
     "name": "stdout",
     "output_type": "stream",
     "text": [
      "#######################\n",
      "Column :  grade\n"
     ]
    },
    {
     "data": {
      "text/plain": [
       "1    136929\n",
       "2    125293\n",
       "3     76888\n",
       "0     74867\n",
       "4     35757\n",
       "5     13229\n",
       "6      3322\n",
       "Name: grade, dtype: int64"
      ]
     },
     "metadata": {},
     "output_type": "display_data"
    },
    {
     "name": "stdout",
     "output_type": "stream",
     "text": [
      "#######################\n",
      "Column :  sub_grade\n"
     ]
    },
    {
     "data": {
      "text/plain": [
       "7     31686\n",
       "8     30505\n",
       "10    26953\n",
       "11    26740\n",
       "6     26610\n",
       "12    25317\n",
       "9     25252\n",
       "13    24105\n",
       "5     22876\n",
       "14    22178\n",
       "4     21757\n",
       "15    19261\n",
       "3     19045\n",
       "16    17046\n",
       "17    14916\n",
       "18    14099\n",
       "2     12568\n",
       "19    11566\n",
       "1     10956\n",
       "0     10541\n",
       "20     9033\n",
       "21     8669\n",
       "22     6976\n",
       "23     5992\n",
       "24     5087\n",
       "25     3940\n",
       "26     3001\n",
       "27     2708\n",
       "28     2067\n",
       "29     1513\n",
       "30     1109\n",
       "31      823\n",
       "32      583\n",
       "33      422\n",
       "34      385\n",
       "Name: sub_grade, dtype: int64"
      ]
     },
     "metadata": {},
     "output_type": "display_data"
    },
    {
     "name": "stdout",
     "output_type": "stream",
     "text": [
      "#######################\n",
      "Column :  emp_title\n"
     ]
    },
    {
     "data": {
      "text/plain": [
       "50966     27588\n",
       "155553     5399\n",
       "94532      4438\n",
       "128183     2316\n",
       "125478     2204\n",
       "          ...  \n",
       "123807        1\n",
       "125854        1\n",
       "127901        1\n",
       "129948        1\n",
       "0             1\n",
       "Name: emp_title, Length: 205476, dtype: int64"
      ]
     },
     "metadata": {},
     "output_type": "display_data"
    },
    {
     "name": "stdout",
     "output_type": "stream",
     "text": [
      "#######################\n",
      "Column :  emp_length\n"
     ]
    },
    {
     "data": {
      "text/plain": [
       "10.0    150049\n",
       "2.0      41373\n",
       "3.0      36596\n",
       "0.9      36265\n",
       "5.0      30774\n",
       "1.0      29622\n",
       "4.0      28023\n",
       "7.0      26180\n",
       "6.0      26112\n",
       "8.0      22395\n",
       "0.0      21008\n",
       "9.0      17888\n",
       "Name: emp_length, dtype: int64"
      ]
     },
     "metadata": {},
     "output_type": "display_data"
    },
    {
     "name": "stdout",
     "output_type": "stream",
     "text": [
      "#######################\n",
      "Column :  home_ownership\n"
     ]
    },
    {
     "data": {
      "text/plain": [
       "1    235875\n",
       "5    188473\n",
       "4     41704\n",
       "3       182\n",
       "2        50\n",
       "0         1\n",
       "Name: home_ownership, dtype: int64"
      ]
     },
     "metadata": {},
     "output_type": "display_data"
    },
    {
     "name": "stdout",
     "output_type": "stream",
     "text": [
      "#######################\n",
      "Column :  annual_inc\n"
     ]
    },
    {
     "data": {
      "text/plain": [
       "60000.00     17980\n",
       "50000.00     15949\n",
       "65000.00     13211\n",
       "40000.00     12864\n",
       "70000.00     12436\n",
       "             ...  \n",
       "36947.35         1\n",
       "47842.00         1\n",
       "59652.00         1\n",
       "95687.00         1\n",
       "159800.00        1\n",
       "Name: annual_inc, Length: 31902, dtype: int64"
      ]
     },
     "metadata": {},
     "output_type": "display_data"
    },
    {
     "name": "stdout",
     "output_type": "stream",
     "text": [
      "#######################\n",
      "Column :  verification_status\n"
     ]
    },
    {
     "data": {
      "text/plain": [
       "2    168055\n",
       "1    149993\n",
       "0    148237\n",
       "Name: verification_status, dtype: int64"
      ]
     },
     "metadata": {},
     "output_type": "display_data"
    },
    {
     "name": "stdout",
     "output_type": "stream",
     "text": [
      "#######################\n",
      "Column :  loan_status\n"
     ]
    },
    {
     "data": {
      "text/plain": [
       "1    414099\n",
       "0     52186\n",
       "Name: loan_status, dtype: int64"
      ]
     },
     "metadata": {},
     "output_type": "display_data"
    },
    {
     "name": "stdout",
     "output_type": "stream",
     "text": [
      "#######################\n",
      "Column :  pymnt_plan\n"
     ]
    },
    {
     "data": {
      "text/plain": [
       "0    466276\n",
       "1         9\n",
       "Name: pymnt_plan, dtype: int64"
      ]
     },
     "metadata": {},
     "output_type": "display_data"
    },
    {
     "name": "stdout",
     "output_type": "stream",
     "text": [
      "#######################\n",
      "Column :  purpose\n"
     ]
    },
    {
     "data": {
      "text/plain": [
       "2     274195\n",
       "1     104157\n",
       "4      26537\n",
       "9      23690\n",
       "6       9828\n",
       "11      7013\n",
       "0       5397\n",
       "7       4602\n",
       "8       2994\n",
       "12      2487\n",
       "13      2343\n",
       "5       2269\n",
       "3        422\n",
       "10       351\n",
       "Name: purpose, dtype: int64"
      ]
     },
     "metadata": {},
     "output_type": "display_data"
    },
    {
     "name": "stdout",
     "output_type": "stream",
     "text": [
      "#######################\n",
      "Column :  title\n"
     ]
    },
    {
     "data": {
      "text/plain": [
       "16589    164075\n",
       "13085     62275\n",
       "14821     15760\n",
       "25634     14849\n",
       "35775     12713\n",
       "          ...  \n",
       "50107         1\n",
       "54201         1\n",
       "56248         1\n",
       "41911         1\n",
       "3454          1\n",
       "Name: title, Length: 63100, dtype: int64"
      ]
     },
     "metadata": {},
     "output_type": "display_data"
    },
    {
     "name": "stdout",
     "output_type": "stream",
     "text": [
      "#######################\n",
      "Column :  zip_code\n"
     ]
    },
    {
     "data": {
      "text/plain": [
       "945    5304\n",
       "112    5102\n",
       "750    5013\n",
       "606    4696\n",
       "100    4391\n",
       "       ... \n",
       "008       1\n",
       "516       1\n",
       "909       1\n",
       "049       1\n",
       "582       1\n",
       "Name: zip_code, Length: 888, dtype: int64"
      ]
     },
     "metadata": {},
     "output_type": "display_data"
    },
    {
     "name": "stdout",
     "output_type": "stream",
     "text": [
      "#######################\n",
      "Column :  addr_state\n"
     ]
    },
    {
     "data": {
      "text/plain": [
       "4     71450\n",
       "33    40242\n",
       "42    36439\n",
       "9     31637\n",
       "14    18612\n",
       "30    18061\n",
       "37    16424\n",
       "34    15237\n",
       "10    14975\n",
       "44    14222\n",
       "27    12682\n",
       "22    11549\n",
       "19    11072\n",
       "20    10974\n",
       "3     10712\n",
       "46    10517\n",
       "5      9739\n",
       "23     8158\n",
       "24     7508\n",
       "6      7204\n",
       "15     6525\n",
       "32     6519\n",
       "41     5984\n",
       "36     5949\n",
       "47     5911\n",
       "1      5853\n",
       "39     5583\n",
       "18     5489\n",
       "17     4438\n",
       "16     4190\n",
       "35     4117\n",
       "2      3488\n",
       "43     3428\n",
       "31     2588\n",
       "11     2487\n",
       "48     2412\n",
       "29     2232\n",
       "38     2050\n",
       "7      1426\n",
       "26     1396\n",
       "8      1272\n",
       "0      1251\n",
       "25     1226\n",
       "49     1128\n",
       "40      980\n",
       "45      905\n",
       "12       14\n",
       "28       14\n",
       "13       12\n",
       "21        4\n",
       "Name: addr_state, dtype: int64"
      ]
     },
     "metadata": {},
     "output_type": "display_data"
    },
    {
     "name": "stdout",
     "output_type": "stream",
     "text": [
      "#######################\n",
      "Column :  dti\n"
     ]
    },
    {
     "data": {
      "text/plain": [
       "14.40    410\n",
       "19.20    381\n",
       "12.00    369\n",
       "16.80    368\n",
       "18.00    365\n",
       "        ... \n",
       "37.61      2\n",
       "38.95      1\n",
       "39.14      1\n",
       "39.94      1\n",
       "35.54      1\n",
       "Name: dti, Length: 3997, dtype: int64"
      ]
     },
     "metadata": {},
     "output_type": "display_data"
    },
    {
     "name": "stdout",
     "output_type": "stream",
     "text": [
      "#######################\n",
      "Column :  delinq_2yrs\n"
     ]
    },
    {
     "data": {
      "text/plain": [
       "0.0     382983\n",
       "1.0      56224\n",
       "2.0      16310\n",
       "3.0       5684\n",
       "4.0       2378\n",
       "5.0       1236\n",
       "6.0        629\n",
       "7.0        346\n",
       "8.0        177\n",
       "9.0        111\n",
       "10.0        65\n",
       "11.0        41\n",
       "12.0        38\n",
       "13.0        25\n",
       "14.0         8\n",
       "15.0         7\n",
       "18.0         6\n",
       "16.0         5\n",
       "19.0         3\n",
       "17.0         3\n",
       "21.0         2\n",
       "22.0         2\n",
       "29.0         1\n",
       "24.0         1\n",
       "Name: delinq_2yrs, dtype: int64"
      ]
     },
     "metadata": {},
     "output_type": "display_data"
    },
    {
     "name": "stdout",
     "output_type": "stream",
     "text": [
      "#######################\n",
      "Column :  earliest_cr_line\n"
     ]
    },
    {
     "data": {
      "text/plain": [
       "11    45592\n",
       "12    44184\n",
       "2     43486\n",
       "10    42115\n",
       "3     40063\n",
       "6     37266\n",
       "8     36975\n",
       "5     36657\n",
       "9     35877\n",
       "7     35768\n",
       "1     34212\n",
       "4     34061\n",
       "0        29\n",
       "Name: earliest_cr_line, dtype: int64"
      ]
     },
     "metadata": {},
     "output_type": "display_data"
    },
    {
     "name": "stdout",
     "output_type": "stream",
     "text": [
      "#######################\n",
      "Column :  inq_last_6mths\n"
     ]
    },
    {
     "data": {
      "text/plain": [
       "0.0     241527\n",
       "1.0     130148\n",
       "2.0      57825\n",
       "3.0      25126\n",
       "4.0       7241\n",
       "5.0       2768\n",
       "6.0       1188\n",
       "7.0        195\n",
       "8.0        122\n",
       "9.0         50\n",
       "10.0        24\n",
       "12.0        15\n",
       "11.0        15\n",
       "15.0         9\n",
       "14.0         6\n",
       "13.0         6\n",
       "18.0         4\n",
       "16.0         3\n",
       "19.0         2\n",
       "17.0         2\n",
       "24.0         2\n",
       "28.0         1\n",
       "31.0         1\n",
       "32.0         1\n",
       "25.0         1\n",
       "33.0         1\n",
       "20.0         1\n",
       "27.0         1\n",
       "Name: inq_last_6mths, dtype: int64"
      ]
     },
     "metadata": {},
     "output_type": "display_data"
    },
    {
     "name": "stdout",
     "output_type": "stream",
     "text": [
      "#######################\n",
      "Column :  mths_since_last_delinq\n"
     ]
    },
    {
     "data": {
      "text/plain": [
       "0.0      251574\n",
       "9.0        4358\n",
       "8.0        4272\n",
       "13.0       4260\n",
       "12.0       4193\n",
       "          ...  \n",
       "124.0         1\n",
       "143.0         1\n",
       "109.0         1\n",
       "111.0         1\n",
       "127.0         1\n",
       "Name: mths_since_last_delinq, Length: 145, dtype: int64"
      ]
     },
     "metadata": {},
     "output_type": "display_data"
    },
    {
     "name": "stdout",
     "output_type": "stream",
     "text": [
      "#######################\n",
      "Column :  mths_since_last_record\n"
     ]
    },
    {
     "data": {
      "text/plain": [
       "0.0      404925\n",
       "109.0      1098\n",
       "108.0       999\n",
       "106.0       968\n",
       "104.0       953\n",
       "          ...  \n",
       "1.0          28\n",
       "2.0          24\n",
       "121.0         2\n",
       "120.0         2\n",
       "129.0         1\n",
       "Name: mths_since_last_record, Length: 123, dtype: int64"
      ]
     },
     "metadata": {},
     "output_type": "display_data"
    },
    {
     "name": "stdout",
     "output_type": "stream",
     "text": [
      "#######################\n",
      "Column :  open_acc\n"
     ]
    },
    {
     "data": {
      "text/plain": [
       "9.0     44019\n",
       "10.0    42512\n",
       "8.0     41893\n",
       "11.0    39112\n",
       "7.0     37602\n",
       "        ...  \n",
       "55.0        2\n",
       "84.0        1\n",
       "75.0        1\n",
       "62.0        1\n",
       "61.0        1\n",
       "Name: open_acc, Length: 62, dtype: int64"
      ]
     },
     "metadata": {},
     "output_type": "display_data"
    },
    {
     "name": "stdout",
     "output_type": "stream",
     "text": [
      "#######################\n",
      "Column :  pub_rec\n"
     ]
    },
    {
     "data": {
      "text/plain": [
       "0.0     404922\n",
       "1.0      53051\n",
       "2.0       5624\n",
       "3.0       1611\n",
       "4.0        520\n",
       "5.0        276\n",
       "6.0        136\n",
       "7.0         62\n",
       "8.0         29\n",
       "9.0         16\n",
       "10.0        13\n",
       "11.0         8\n",
       "12.0         2\n",
       "18.0         2\n",
       "13.0         2\n",
       "17.0         1\n",
       "16.0         1\n",
       "40.0         1\n",
       "21.0         1\n",
       "49.0         1\n",
       "19.0         1\n",
       "54.0         1\n",
       "14.0         1\n",
       "34.0         1\n",
       "15.0         1\n",
       "63.0         1\n",
       "Name: pub_rec, dtype: int64"
      ]
     },
     "metadata": {},
     "output_type": "display_data"
    },
    {
     "name": "stdout",
     "output_type": "stream",
     "text": [
      "#######################\n",
      "Column :  revol_bal\n"
     ]
    },
    {
     "data": {
      "text/plain": [
       "0        2269\n",
       "6052       40\n",
       "8696       39\n",
       "5365       39\n",
       "6223       39\n",
       "         ... \n",
       "45384       1\n",
       "47433       1\n",
       "41290       1\n",
       "64930       1\n",
       "50897       1\n",
       "Name: revol_bal, Length: 58142, dtype: int64"
      ]
     },
     "metadata": {},
     "output_type": "display_data"
    },
    {
     "name": "stdout",
     "output_type": "stream",
     "text": [
      "#######################\n",
      "Column :  revol_util\n"
     ]
    },
    {
     "data": {
      "text/plain": [
       "0.00      2624\n",
       "58.00      864\n",
       "53.00      850\n",
       "59.00      845\n",
       "61.00      832\n",
       "          ... \n",
       "24.89        1\n",
       "115.30       1\n",
       "118.00       1\n",
       "8.58         1\n",
       "10.08        1\n",
       "Name: revol_util, Length: 1269, dtype: int64"
      ]
     },
     "metadata": {},
     "output_type": "display_data"
    },
    {
     "name": "stdout",
     "output_type": "stream",
     "text": [
      "#######################\n",
      "Column :  total_acc\n"
     ]
    },
    {
     "data": {
      "text/plain": [
       "21.0     17087\n",
       "20.0     17073\n",
       "22.0     17028\n",
       "23.0     16719\n",
       "19.0     16709\n",
       "         ...  \n",
       "156.0        1\n",
       "150.0        1\n",
       "96.0         1\n",
       "124.0        1\n",
       "117.0        1\n",
       "Name: total_acc, Length: 113, dtype: int64"
      ]
     },
     "metadata": {},
     "output_type": "display_data"
    },
    {
     "name": "stdout",
     "output_type": "stream",
     "text": [
      "#######################\n",
      "Column :  initial_list_status\n"
     ]
    },
    {
     "data": {
      "text/plain": [
       "0    303005\n",
       "1    163280\n",
       "Name: initial_list_status, dtype: int64"
      ]
     },
     "metadata": {},
     "output_type": "display_data"
    },
    {
     "name": "stdout",
     "output_type": "stream",
     "text": [
      "#######################\n",
      "Column :  out_prncp\n"
     ]
    },
    {
     "data": {
      "text/plain": [
       "0.00        229999\n",
       "5684.61         80\n",
       "6563.61         79\n",
       "5617.88         78\n",
       "6110.65         76\n",
       "             ...  \n",
       "4974.85          1\n",
       "9050.59          1\n",
       "9418.01          1\n",
       "3878.29          1\n",
       "19152.20         1\n",
       "Name: out_prncp, Length: 135665, dtype: int64"
      ]
     },
     "metadata": {},
     "output_type": "display_data"
    },
    {
     "name": "stdout",
     "output_type": "stream",
     "text": [
      "#######################\n",
      "Column :  out_prncp_inv\n"
     ]
    },
    {
     "data": {
      "text/plain": [
       "0.00        229999\n",
       "6563.61         78\n",
       "5684.61         77\n",
       "5617.88         76\n",
       "6110.65         75\n",
       "             ...  \n",
       "13520.60         1\n",
       "13042.97         1\n",
       "5691.79          1\n",
       "463.42           1\n",
       "20657.59         1\n",
       "Name: out_prncp_inv, Length: 141189, dtype: int64"
      ]
     },
     "metadata": {},
     "output_type": "display_data"
    },
    {
     "name": "stdout",
     "output_type": "stream",
     "text": [
      "#######################\n",
      "Column :  total_pymnt\n"
     ]
    },
    {
     "data": {
      "text/plain": [
       "6743.7     121\n",
       "5564.8      94\n",
       "5174.1      93\n",
       "0.0         87\n",
       "6020.8      86\n",
       "          ... \n",
       "38110.2      1\n",
       "19088.9      1\n",
       "15406.6      1\n",
       "15101.1      1\n",
       "11836.0      1\n",
       "Name: total_pymnt, Length: 198509, dtype: int64"
      ]
     },
     "metadata": {},
     "output_type": "display_data"
    },
    {
     "name": "stdout",
     "output_type": "stream",
     "text": [
      "#######################\n",
      "Column :  total_pymnt_inv\n"
     ]
    },
    {
     "data": {
      "text/plain": [
       "0.00        365\n",
       "6743.73     113\n",
       "5564.78      77\n",
       "5419.43      73\n",
       "5497.46      72\n",
       "           ... \n",
       "8107.72       1\n",
       "26248.46      1\n",
       "2634.97       1\n",
       "28703.80      1\n",
       "19130.85      1\n",
       "Name: total_pymnt_inv, Length: 347659, dtype: int64"
      ]
     },
     "metadata": {},
     "output_type": "display_data"
    },
    {
     "name": "stdout",
     "output_type": "stream",
     "text": [
      "#######################\n",
      "Column :  total_rec_prncp\n"
     ]
    },
    {
     "data": {
      "text/plain": [
       "10000.00    13267\n",
       "12000.00    10469\n",
       "15000.00     8552\n",
       "20000.00     7673\n",
       "8000.00      6522\n",
       "            ...  \n",
       "14009.61        1\n",
       "10491.04        1\n",
       "8023.80         1\n",
       "2002.05         1\n",
       "1754.91         1\n",
       "Name: total_rec_prncp, Length: 172713, dtype: int64"
      ]
     },
     "metadata": {},
     "output_type": "display_data"
    },
    {
     "name": "stdout",
     "output_type": "stream",
     "text": [
      "#######################\n",
      "Column :  total_rec_int\n"
     ]
    },
    {
     "data": {
      "text/plain": [
       "0.00       379\n",
       "1249.39     78\n",
       "1329.13     75\n",
       "1037.31     74\n",
       "1350.99     72\n",
       "          ... \n",
       "1092.51      1\n",
       "4263.65      1\n",
       "1506.35      1\n",
       "2896.96      1\n",
       "1930.72      1\n",
       "Name: total_rec_int, Length: 270249, dtype: int64"
      ]
     },
     "metadata": {},
     "output_type": "display_data"
    },
    {
     "name": "stdout",
     "output_type": "stream",
     "text": [
      "#######################\n",
      "Column :  total_rec_late_fee\n"
     ]
    },
    {
     "data": {
      "text/plain": [
       "0.000000     455607\n",
       "15.000000      2223\n",
       "30.000000       285\n",
       "45.000000        50\n",
       "16.840000        15\n",
       "              ...  \n",
       "35.210000         1\n",
       "53.720000         1\n",
       "37.751380         1\n",
       "38.242755         1\n",
       "51.295505         1\n",
       "Name: total_rec_late_fee, Length: 5808, dtype: int64"
      ]
     },
     "metadata": {},
     "output_type": "display_data"
    },
    {
     "name": "stdout",
     "output_type": "stream",
     "text": [
      "#######################\n",
      "Column :  recoveries\n"
     ]
    },
    {
     "data": {
      "text/plain": [
       "0.00       441914\n",
       "11.70           9\n",
       "200.00          9\n",
       "10.00           9\n",
       "14.28           9\n",
       "            ...  \n",
       "3439.42         1\n",
       "1429.99         1\n",
       "212.00          1\n",
       "20.00           1\n",
       "4772.70         1\n",
       "Name: recoveries, Length: 22773, dtype: int64"
      ]
     },
     "metadata": {},
     "output_type": "display_data"
    },
    {
     "name": "stdout",
     "output_type": "stream",
     "text": [
      "#######################\n",
      "Column :  collection_recovery_fee\n"
     ]
    },
    {
     "data": {
      "text/plain": [
       "0.0000     443079\n",
       "2.0000         18\n",
       "1.8000         13\n",
       "1.8800         12\n",
       "1.5500         12\n",
       "            ...  \n",
       "10.9352         1\n",
       "16.3336         1\n",
       "31.8816         1\n",
       "8.7480          1\n",
       "18.6000         1\n",
       "Name: collection_recovery_fee, Length: 20275, dtype: int64"
      ]
     },
     "metadata": {},
     "output_type": "display_data"
    },
    {
     "name": "stdout",
     "output_type": "stream",
     "text": [
      "#######################\n",
      "Column :  last_pymnt_d\n"
     ]
    },
    {
     "data": {
      "text/plain": [
       "5     194421\n",
       "3      74567\n",
       "11     23938\n",
       "6      22182\n",
       "12     20956\n",
       "2      20667\n",
       "10     20239\n",
       "7      19221\n",
       "8      18540\n",
       "9      18076\n",
       "1      17907\n",
       "4      15195\n",
       "0        376\n",
       "Name: last_pymnt_d, dtype: int64"
      ]
     },
     "metadata": {},
     "output_type": "display_data"
    },
    {
     "name": "stdout",
     "output_type": "stream",
     "text": [
      "#######################\n",
      "Column :  last_pymnt_amnt\n"
     ]
    },
    {
     "data": {
      "text/plain": [
       "327.34      860\n",
       "336.90      828\n",
       "332.10      625\n",
       "491.01      579\n",
       "392.81      567\n",
       "           ... \n",
       "2429.69       1\n",
       "14443.90      1\n",
       "32281.12      1\n",
       "13357.22      1\n",
       "11314.68      1\n",
       "Name: last_pymnt_amnt, Length: 198194, dtype: int64"
      ]
     },
     "metadata": {},
     "output_type": "display_data"
    },
    {
     "name": "stdout",
     "output_type": "stream",
     "text": [
      "#######################\n",
      "Column :  next_pymnt_d\n"
     ]
    },
    {
     "data": {
      "text/plain": [
       "0     227214\n",
       "4     208602\n",
       "5      28134\n",
       "3        286\n",
       "8        284\n",
       "11       251\n",
       "1        248\n",
       "9        234\n",
       "10       228\n",
       "2        217\n",
       "12       205\n",
       "7        198\n",
       "6        184\n",
       "Name: next_pymnt_d, dtype: int64"
      ]
     },
     "metadata": {},
     "output_type": "display_data"
    },
    {
     "name": "stdout",
     "output_type": "stream",
     "text": [
      "#######################\n",
      "Column :  last_credit_pull_d\n"
     ]
    },
    {
     "data": {
      "text/plain": [
       "5     335246\n",
       "3      20172\n",
       "10     13950\n",
       "11     13465\n",
       "12     12940\n",
       "6      11877\n",
       "2      11382\n",
       "7       9987\n",
       "8       9557\n",
       "1       9374\n",
       "9       9344\n",
       "4       8949\n",
       "0         42\n",
       "Name: last_credit_pull_d, dtype: int64"
      ]
     },
     "metadata": {},
     "output_type": "display_data"
    },
    {
     "name": "stdout",
     "output_type": "stream",
     "text": [
      "#######################\n",
      "Column :  collections_12_mths_ex_med\n"
     ]
    },
    {
     "data": {
      "text/plain": [
       "0.0     462371\n",
       "1.0       3665\n",
       "2.0        219\n",
       "3.0         19\n",
       "4.0          7\n",
       "6.0          1\n",
       "5.0          1\n",
       "16.0         1\n",
       "20.0         1\n",
       "Name: collections_12_mths_ex_med, dtype: int64"
      ]
     },
     "metadata": {},
     "output_type": "display_data"
    },
    {
     "name": "stdout",
     "output_type": "stream",
     "text": [
      "#######################\n",
      "Column :  mths_since_last_major_derog\n"
     ]
    },
    {
     "data": {
      "text/plain": [
       "0.0      367390\n",
       "45.0       1672\n",
       "46.0       1670\n",
       "42.0       1656\n",
       "48.0       1637\n",
       "          ...  \n",
       "169.0         1\n",
       "165.0         1\n",
       "156.0         1\n",
       "159.0         1\n",
       "188.0         1\n",
       "Name: mths_since_last_major_derog, Length: 162, dtype: int64"
      ]
     },
     "metadata": {},
     "output_type": "display_data"
    },
    {
     "name": "stdout",
     "output_type": "stream",
     "text": [
      "#######################\n",
      "Column :  acc_now_delinq\n"
     ]
    },
    {
     "data": {
      "text/plain": [
       "0.0    464553\n",
       "1.0      1623\n",
       "2.0        92\n",
       "3.0        11\n",
       "4.0         4\n",
       "5.0         2\n",
       "Name: acc_now_delinq, dtype: int64"
      ]
     },
     "metadata": {},
     "output_type": "display_data"
    },
    {
     "name": "stdout",
     "output_type": "stream",
     "text": [
      "#######################\n",
      "Column :  tot_coll_amt\n"
     ]
    },
    {
     "data": {
      "text/plain": [
       "0.0        416535\n",
       "50.0          837\n",
       "100.0         650\n",
       "75.0          515\n",
       "200.0         309\n",
       "            ...  \n",
       "1872.0          1\n",
       "15386.0         1\n",
       "2931.0          1\n",
       "23447.0         1\n",
       "11167.0         1\n",
       "Name: tot_coll_amt, Length: 6321, dtype: int64"
      ]
     },
     "metadata": {},
     "output_type": "display_data"
    },
    {
     "name": "stdout",
     "output_type": "stream",
     "text": [
      "#######################\n",
      "Column :  tot_cur_bal\n"
     ]
    },
    {
     "data": {
      "text/plain": [
       "0.0         70354\n",
       "23254.0        15\n",
       "14186.0        15\n",
       "28674.0        14\n",
       "30491.0        14\n",
       "            ...  \n",
       "361098.0        1\n",
       "201541.0        1\n",
       "201539.0        1\n",
       "806141.0        1\n",
       "307568.0        1\n",
       "Name: tot_cur_bal, Length: 220690, dtype: int64"
      ]
     },
     "metadata": {},
     "output_type": "display_data"
    },
    {
     "name": "stdout",
     "output_type": "stream",
     "text": [
      "#######################\n",
      "Column :  total_rev_hi_lim\n"
     ]
    },
    {
     "data": {
      "text/plain": [
       "0.0         70431\n",
       "15000.0      1392\n",
       "13500.0      1324\n",
       "10000.0      1316\n",
       "12000.0      1301\n",
       "            ...  \n",
       "69950.0         1\n",
       "24388.0         1\n",
       "39125.0         1\n",
       "195100.0        1\n",
       "17375.0         1\n",
       "Name: total_rev_hi_lim, Length: 14612, dtype: int64"
      ]
     },
     "metadata": {},
     "output_type": "display_data"
    },
    {
     "name": "stdout",
     "output_type": "stream",
     "text": [
      "#######################\n"
     ]
    }
   ],
   "source": [
    "# lets check\n",
    "columns = df.columns\n",
    "for i in columns:\n",
    "  print(\"Column : \",i)\n",
    "  display(df[i].value_counts())\n",
    "  print(\"#######################\")"
   ]
  },
  {
   "cell_type": "code",
   "execution_count": 43,
   "metadata": {
    "colab": {
     "base_uri": "https://localhost:8080/"
    },
    "id": "XlLEbrmE_EBX",
    "outputId": "28641748-10c3-43b5-ae5b-5348822c3f3a"
   },
   "outputs": [
    {
     "data": {
      "text/plain": [
       "1    414099\n",
       "0     52186\n",
       "Name: loan_status, dtype: int64"
      ]
     },
     "execution_count": 43,
     "metadata": {},
     "output_type": "execute_result"
    }
   ],
   "source": [
    "# Labels \n",
    "# maybe i haven't selected right labels\n",
    "# or maybe data is given in this way\n",
    "df[\"loan_status\"].value_counts()  "
   ]
  },
  {
   "cell_type": "code",
   "execution_count": 44,
   "metadata": {
    "colab": {
     "base_uri": "https://localhost:8080/"
    },
    "id": "f1ICA0f3BvUl",
    "outputId": "fc1e1bf4-01a0-46d5-9c1c-95aeacd92a9c"
   },
   "outputs": [
    {
     "name": "stdout",
     "output_type": "stream",
     "text": [
      "414099\n",
      "52186\n",
      "0    52186\n",
      "1    52186\n",
      "Name: loan_status, dtype: int64\n"
     ]
    }
   ],
   "source": [
    "print(len(df.loc[df['loan_status'].isin(['1'])]))\n",
    "print(len(df.loc[df['loan_status'].isin(['0'])]))\n",
    "\n",
    "df1 = df.loc[df['loan_status'].isin(['1'])][:52186] # taking labels equally\n",
    "df2 = df.loc[df['loan_status'].isin(['0'])][:52186]\n",
    "df3 = pd.concat([df1,df2], axis=0)                   # merging\n",
    "df3 = df3.sample(frac=1)                              # randomizing data\n",
    "\n",
    "print(df3[\"loan_status\"].value_counts())"
   ]
  },
  {
   "cell_type": "code",
   "execution_count": 45,
   "metadata": {
    "id": "c86K-FlrPso5"
   },
   "outputs": [],
   "source": [
    "# also converted in array\n",
    "import numpy as np\n",
    "labels = df3[\"loan_status\"].values.astype(np.float32)#.reshape(1,2)\n",
    "features = df3.drop(\"loan_status\", 1).values.astype(np.float32)"
   ]
  },
  {
   "cell_type": "code",
   "execution_count": 46,
   "metadata": {
    "id": "Zpcp5_VgEOFc"
   },
   "outputs": [],
   "source": [
    "#import tensorflow as tf\n",
    "#labels = tf.one_hot(labels, depth=2)"
   ]
  },
  {
   "cell_type": "code",
   "execution_count": 47,
   "metadata": {
    "colab": {
     "base_uri": "https://localhost:8080/"
    },
    "id": "LIiP0gstDQKy",
    "outputId": "f9f7a680-79a1-447e-c766-cf447c5da95f"
   },
   "outputs": [
    {
     "name": "stdout",
     "output_type": "stream",
     "text": [
      "(104372,)\n",
      "(104372, 49)\n"
     ]
    }
   ],
   "source": [
    "print(labels.shape)\n",
    "print(features.shape)"
   ]
  },
  {
   "cell_type": "code",
   "execution_count": 48,
   "metadata": {
    "id": "GHoyvPhzM69u"
   },
   "outputs": [],
   "source": [
    "# split in training 70%, test 30% test \n",
    "from sklearn.model_selection import train_test_split\n",
    "\n",
    "x_train, x_test, y_train, y_test = train_test_split(features, labels, test_size=0.3)#, random_state=1)"
   ]
  },
  {
   "cell_type": "code",
   "execution_count": 49,
   "metadata": {
    "id": "EA0ktwWVI6bY"
   },
   "outputs": [],
   "source": [
    "Ny_test = y_test"
   ]
  },
  {
   "cell_type": "code",
   "execution_count": 50,
   "metadata": {
    "id": "YxvsEkjLFg-h"
   },
   "outputs": [],
   "source": [
    "import tensorflow as tf\n",
    "y_train = tf.one_hot(y_train, depth=2)\n",
    "y_test = tf.one_hot(y_test, depth=2)"
   ]
  },
  {
   "cell_type": "markdown",
   "metadata": {
    "id": "q_hYQ5xpS_jX"
   },
   "source": [
    "Deep Learning"
   ]
  },
  {
   "cell_type": "code",
   "execution_count": 51,
   "metadata": {
    "colab": {
     "base_uri": "https://localhost:8080/"
    },
    "id": "c6isICAJJJ_b",
    "outputId": "83a2dcec-18a2-46e8-a78c-78f98ff6b691"
   },
   "outputs": [
    {
     "name": "stdout",
     "output_type": "stream",
     "text": [
      "(49,)\n"
     ]
    }
   ],
   "source": [
    "# Functional API\n",
    "from tensorflow.keras import layers, Model, Input, optimizers\n",
    "\n",
    "Shape = x_train.shape[1:]\n",
    "print(Shape)\n",
    "\n",
    "input_tensor = Input(shape=Shape)\n",
    "x = layers.Dense(1024, activation=\"relu\")(input_tensor)\n",
    "#y = layers.Dropout(0.001)(x)\n",
    "z = layers.Dense(512, activation=\"relu\")(x)#(y)\n",
    "output_tensor = layers.Dense(2, activation='softmax')(z)\n",
    "\n",
    "model = Model(input_tensor,output_tensor)"
   ]
  },
  {
   "cell_type": "code",
   "execution_count": 52,
   "metadata": {
    "colab": {
     "base_uri": "https://localhost:8080/"
    },
    "id": "DaWEXNaLTNZE",
    "outputId": "f197bf43-0ee0-4e6c-da68-dcfc559e8035"
   },
   "outputs": [
    {
     "name": "stdout",
     "output_type": "stream",
     "text": [
      "Model: \"model\"\n",
      "_________________________________________________________________\n",
      " Layer (type)                Output Shape              Param #   \n",
      "=================================================================\n",
      " input_1 (InputLayer)        [(None, 49)]              0         \n",
      "                                                                 \n",
      " dense (Dense)               (None, 1024)              51200     \n",
      "                                                                 \n",
      " dense_1 (Dense)             (None, 512)               524800    \n",
      "                                                                 \n",
      " dense_2 (Dense)             (None, 2)                 1026      \n",
      "                                                                 \n",
      "=================================================================\n",
      "Total params: 577,026\n",
      "Trainable params: 577,026\n",
      "Non-trainable params: 0\n",
      "_________________________________________________________________\n"
     ]
    },
    {
     "name": "stderr",
     "output_type": "stream",
     "text": [
      "/usr/local/lib/python3.7/dist-packages/keras/optimizer_v2/adam.py:105: UserWarning: The `lr` argument is deprecated, use `learning_rate` instead.\n",
      "  super(Adam, self).__init__(name, **kwargs)\n"
     ]
    }
   ],
   "source": [
    "#optimizer = #SGD #RMSprop #Adam #Adadelta #Adagrad ##Adamax ###Nadam #Ftrl\n",
    "#loss = #'binary_crossentropy,\"categorical_crossentropy\",'sparse_categorical_crossentropy'\n",
    "\n",
    "opt = optimizers.Adam(lr=0.01)\n",
    "model.compile(optimizer=opt,\n",
    "              loss=\"binary_crossentropy\", \n",
    "              metrics=[\"accuracy\"])\n",
    "\n",
    "model.summary()"
   ]
  },
  {
   "cell_type": "code",
   "execution_count": 53,
   "metadata": {
    "id": "jRX8TaQJWBzW"
   },
   "outputs": [],
   "source": [
    "###########################"
   ]
  },
  {
   "cell_type": "code",
   "execution_count": 54,
   "metadata": {
    "colab": {
     "base_uri": "https://localhost:8080/"
    },
    "id": "6Yva9ZsI_Ami",
    "outputId": "a34595be-cb03-4bc7-d01c-49a30016a9cd"
   },
   "outputs": [
    {
     "name": "stdout",
     "output_type": "stream",
     "text": [
      "(73060, 49)\n",
      "(73060, 2)\n",
      "<class 'numpy.ndarray'>\n",
      "<class 'tensorflow.python.framework.ops.EagerTensor'>\n"
     ]
    }
   ],
   "source": [
    "print(x_train.shape)\n",
    "print(y_train.shape)\n",
    "print(type(x_train))\n",
    "print(type(y_train))"
   ]
  },
  {
   "cell_type": "code",
   "execution_count": 55,
   "metadata": {
    "colab": {
     "base_uri": "https://localhost:8080/"
    },
    "id": "WcDvDBmMT0VB",
    "outputId": "fc19beed-ea19-4f66-eebe-0478a1135f55"
   },
   "outputs": [
    {
     "name": "stdout",
     "output_type": "stream",
     "text": [
      "Epoch 1/2\n",
      "257/257 [==============================] - 2s 6ms/step - loss: 991.6711 - accuracy: 0.5338 - val_loss: 0.8043 - val_accuracy: 0.5107\n",
      "Epoch 2/2\n",
      "257/257 [==============================] - 1s 5ms/step - loss: 0.7636 - accuracy: 0.5160 - val_loss: 3.5554 - val_accuracy: 0.5227\n"
     ]
    }
   ],
   "source": [
    "history = model.fit(x_train, y_train, epochs=2, batch_size=256,validation_split=0.1)"
   ]
  },
  {
   "cell_type": "code",
   "execution_count": 56,
   "metadata": {
    "colab": {
     "base_uri": "https://localhost:8080/"
    },
    "id": "5iUBQWDLHstL",
    "outputId": "364a057b-d12a-4973-8d09-ec5e96f5c659"
   },
   "outputs": [
    {
     "name": "stdout",
     "output_type": "stream",
     "text": [
      "979/979 - 2s - loss: 2.1317 - accuracy: 0.5189 - 2s/epoch - 2ms/step\n",
      "\n",
      "Test loss : 213.1718635559082 %\n",
      "Test accuracy : 51.890647411346436 %\n"
     ]
    }
   ],
   "source": [
    "# evaluation\n",
    "evaluation = model.evaluate(x_test,  y_test, verbose=2)\n",
    "print()\n",
    "print(\"Test loss :\",evaluation[0]*100,\"%\")\n",
    "print(\"Test accuracy :\",evaluation[1]*100,\"%\")"
   ]
  },
  {
   "cell_type": "code",
   "execution_count": 57,
   "metadata": {
    "colab": {
     "base_uri": "https://localhost:8080/"
    },
    "id": "SQ7ttEDRGoGo",
    "outputId": "b8db8afe-86ec-439b-c9b3-eeb7acafb6bc"
   },
   "outputs": [
    {
     "name": "stdout",
     "output_type": "stream",
     "text": [
      "(31312, 49)\n"
     ]
    }
   ],
   "source": [
    "print(x_test.shape)\n",
    "#x_test[6]\n",
    "#model.predict(x_test[6])"
   ]
  },
  {
   "cell_type": "code",
   "execution_count": 58,
   "metadata": {
    "colab": {
     "base_uri": "https://localhost:8080/"
    },
    "id": "enOFbh08KRIy",
    "outputId": "583ef65f-5745-4252-9a93-ad3798e5c307"
   },
   "outputs": [
    {
     "name": "stdout",
     "output_type": "stream",
     "text": [
      "0\n",
      "0\n"
     ]
    }
   ],
   "source": [
    "# prediction\n",
    "import numpy as np\n",
    "print(np.argmax(model.predict(x_test[6].reshape(1,49))))\n",
    "print(int(Ny_test[6]))\n",
    "#print(y_test[6].idxmax(axis=1)) # reversing ohe"
   ]
  },
  {
   "cell_type": "code",
   "execution_count": 59,
   "metadata": {
    "colab": {
     "base_uri": "https://localhost:8080/"
    },
    "id": "ruP0y4Z4939U",
    "outputId": "db31fa64-6c32-44fd-e17f-6aed86d0c376"
   },
   "outputs": [
    {
     "name": "stdout",
     "output_type": "stream",
     "text": [
      "Predicted Label : 0\n",
      "Actual Label : 0\n",
      "################\n",
      "Predicted Label : 0\n",
      "Actual Label : 0\n",
      "################\n",
      "Predicted Label : 0\n",
      "Actual Label : 0\n",
      "################\n",
      "Predicted Label : 0\n",
      "Actual Label : 0\n",
      "################\n",
      "Predicted Label : 0\n",
      "Actual Label : 1\n",
      "################\n",
      "Predicted Label : 0\n",
      "Actual Label : 0\n",
      "################\n",
      "Predicted Label : 0\n",
      "Actual Label : 0\n",
      "################\n",
      "Predicted Label : 0\n",
      "Actual Label : 0\n",
      "################\n",
      "Predicted Label : 0\n",
      "Actual Label : 0\n",
      "################\n",
      "Predicted Label : 0\n",
      "Actual Label : 0\n",
      "################\n"
     ]
    }
   ],
   "source": [
    "# predicting 10 random rows\n",
    "import random\n",
    "import numpy as np\n",
    "\n",
    "Range = len(x_test)\n",
    "for i in random.sample(range(0, Range), 10):\n",
    "  print(\"Predicted Label :\",np.argmax(model.predict(x_test[i].reshape(1,49))))\n",
    "  print(\"Actual Label :\",int(Ny_test[i]))\n",
    "  print(\"################\")"
   ]
  },
  {
   "cell_type": "markdown",
   "metadata": {
    "id": "hWqsOXTpJ_L4"
   },
   "source": [
    "Hyperperameter Tunning"
   ]
  },
  {
   "cell_type": "code",
   "execution_count": 64,
   "metadata": {
    "id": "obmOFpHgMxaM"
   },
   "outputs": [],
   "source": [
    "def fun(epochs,batch_size,lr,opt):\n",
    "  from tensorflow.keras import layers, Model, Input, optimizers\n",
    "\n",
    "  Shape = x_train.shape[1:]\n",
    "  #print(Shape)\n",
    "\n",
    "  input_tensor = Input(shape=Shape)\n",
    "  x = layers.Dense(1024, activation=\"relu\")(input_tensor)\n",
    "  #y = layers.Dropout(0.001)(x)\n",
    "  z = layers.Dense(512, activation=\"relu\")(x)#(y)\n",
    "  output_tensor = layers.Dense(2, activation='softmax')(z)\n",
    "\n",
    "  model = Model(input_tensor,output_tensor)\n",
    "\n",
    "  #optimizer = #SGD #RMSprop #Adam #Adadelta #Adagrad ##Adamax ###Nadam #Ftrl\n",
    "  #loss = #'binary_crossentropy,\"categorical_crossentropy\",'sparse_categorical_crossentropy'\n",
    "\n",
    "  opt = opt\n",
    "  model.compile(optimizer=opt,\n",
    "                loss=\"binary_crossentropy\", \n",
    "                metrics=[\"accuracy\"])\n",
    "\n",
    "  #model.summary()\n",
    "  history = model.fit(x_train, y_train, epochs=epochs,\n",
    "                      batch_size=batch_size, validation_split=0.1)\n",
    "\n",
    "  # evaluation\n",
    "  evaluation = model.evaluate(x_test,  y_test, verbose=2)\n",
    "  print()\n",
    "  print(\"Test loss :\",evaluation[0]*100,\"%\")\n",
    "  print(\"Test accuracy :\",evaluation[1]*100,\"%\")\n",
    "  print()\n",
    "  # prediction\n",
    "  #import numpy as np\n",
    "  #print(np.argmax(model.predict(x_test[6].reshape(1,49))))\n",
    "  #print(int(Ny_test[6]))\n",
    "  #print(y_test[6].idxmax(axis=1)) # reversing ohe\n",
    "  ##########\n",
    "  # predicting 10 random rows\n",
    "  import random\n",
    "  import numpy as np\n",
    "\n",
    "  Range = len(x_test)\n",
    "  for i in random.sample(range(0, Range), 10):\n",
    "    print(\"Predicted Label :\",np.argmax(model.predict(x_test[i].reshape(1,49))))\n",
    "    print(\"Actual Label :\",int(Ny_test[i]))\n",
    "    print(\"################\")"
   ]
  },
  {
   "cell_type": "code",
   "execution_count": 61,
   "metadata": {
    "colab": {
     "base_uri": "https://localhost:8080/"
    },
    "id": "aMkA6n3mHpGr",
    "outputId": "7e87aafd-f267-4f0b-926a-7007f7d4060b"
   },
   "outputs": [
    {
     "name": "stderr",
     "output_type": "stream",
     "text": [
      "/usr/local/lib/python3.7/dist-packages/keras/optimizer_v2/adam.py:105: UserWarning: The `lr` argument is deprecated, use `learning_rate` instead.\n",
      "  super(Adam, self).__init__(name, **kwargs)\n"
     ]
    },
    {
     "name": "stdout",
     "output_type": "stream",
     "text": [
      "Epoch 1/6\n",
      "257/257 [==============================] - 4s 9ms/step - loss: 1084.8525 - accuracy: 0.6917 - val_loss: 0.6694 - val_accuracy: 0.7627\n",
      "Epoch 2/6\n",
      "257/257 [==============================] - 2s 7ms/step - loss: 0.4782 - accuracy: 0.8164 - val_loss: 0.2162 - val_accuracy: 0.9090\n",
      "Epoch 3/6\n",
      "257/257 [==============================] - 2s 7ms/step - loss: 0.2332 - accuracy: 0.9157 - val_loss: 0.1512 - val_accuracy: 0.9444\n",
      "Epoch 4/6\n",
      "257/257 [==============================] - 2s 8ms/step - loss: 0.2255 - accuracy: 0.9088 - val_loss: 0.2738 - val_accuracy: 0.8527\n",
      "Epoch 5/6\n",
      "257/257 [==============================] - 2s 7ms/step - loss: 0.2320 - accuracy: 0.8832 - val_loss: 0.1457 - val_accuracy: 0.9461\n",
      "Epoch 6/6\n",
      "257/257 [==============================] - 2s 7ms/step - loss: 0.3433 - accuracy: 0.8502 - val_loss: 0.3763 - val_accuracy: 0.8509\n",
      "979/979 - 2s - loss: 0.3947 - accuracy: 0.8428 - 2s/epoch - 2ms/step\n",
      "\n",
      "Test loss : 39.467406272888184 %\n",
      "Test accuracy : 84.2839777469635 %\n",
      "\n",
      "Predicted Label : 0\n",
      "Actual Label : 0\n",
      "################\n",
      "Predicted Label : 0\n",
      "Actual Label : 0\n",
      "################\n",
      "Predicted Label : 0\n",
      "Actual Label : 0\n",
      "################\n",
      "Predicted Label : 0\n",
      "Actual Label : 0\n",
      "################\n",
      "Predicted Label : 0\n",
      "Actual Label : 0\n",
      "################\n",
      "Predicted Label : 1\n",
      "Actual Label : 1\n",
      "################\n",
      "Predicted Label : 0\n",
      "Actual Label : 0\n",
      "################\n",
      "Predicted Label : 0\n",
      "Actual Label : 1\n",
      "################\n",
      "Predicted Label : 1\n",
      "Actual Label : 1\n",
      "################\n",
      "Predicted Label : 0\n",
      "Actual Label : 1\n",
      "################\n"
     ]
    }
   ],
   "source": [
    "epochs = 6\n",
    "batch_size = 256\n",
    "lr = 0.01\n",
    "opt = optimizers.Adam(lr=lr)\n",
    "#optimizer = #SGD #RMSprop #Adam #Adadelta #Adagrad ##Adamax ###Nadam #Ftrl\n",
    "\n",
    "fun(epochs,batch_size,lr,opt)"
   ]
  },
  {
   "cell_type": "code",
   "execution_count": null,
   "metadata": {
    "id": "4z-nwXi_NyyU"
   },
   "outputs": [],
   "source": [
    "########## done ##############"
   ]
  },
  {
   "cell_type": "code",
   "execution_count": null,
   "metadata": {
    "colab": {
     "base_uri": "https://localhost:8080/"
    },
    "id": "gjnrdjL4N4q7",
    "outputId": "60f1327b-d7d6-454f-d64b-ed56f374095e"
   },
   "outputs": [
    {
     "name": "stdout",
     "output_type": "stream",
     "text": [
      "Epoch 1/10\n"
     ]
    },
    {
     "name": "stderr",
     "output_type": "stream",
     "text": [
      "/usr/local/lib/python3.7/dist-packages/keras/optimizer_v2/gradient_descent.py:102: UserWarning: The `lr` argument is deprecated, use `learning_rate` instead.\n",
      "  super(SGD, self).__init__(name, **kwargs)\n"
     ]
    },
    {
     "name": "stdout",
     "output_type": "stream",
     "text": [
      "257/257 [==============================] - 8s 29ms/step - loss: nan - accuracy: 0.5002 - val_loss: nan - val_accuracy: 0.5027\n",
      "Epoch 2/10\n",
      "257/257 [==============================] - 7s 29ms/step - loss: nan - accuracy: 0.4996 - val_loss: nan - val_accuracy: 0.5027\n",
      "Epoch 3/10\n",
      "257/257 [==============================] - 7s 28ms/step - loss: nan - accuracy: 0.4996 - val_loss: nan - val_accuracy: 0.5027\n",
      "Epoch 4/10\n",
      "257/257 [==============================] - 7s 29ms/step - loss: nan - accuracy: 0.4996 - val_loss: nan - val_accuracy: 0.5027\n",
      "Epoch 5/10\n",
      "257/257 [==============================] - 7s 29ms/step - loss: nan - accuracy: 0.4996 - val_loss: nan - val_accuracy: 0.5027\n",
      "Epoch 6/10\n",
      "257/257 [==============================] - 8s 30ms/step - loss: nan - accuracy: 0.4996 - val_loss: nan - val_accuracy: 0.5027\n",
      "Epoch 7/10\n",
      "257/257 [==============================] - 8s 32ms/step - loss: nan - accuracy: 0.4996 - val_loss: nan - val_accuracy: 0.5027\n",
      "Epoch 8/10\n",
      "257/257 [==============================] - 7s 28ms/step - loss: nan - accuracy: 0.4996 - val_loss: nan - val_accuracy: 0.5027\n",
      "Epoch 9/10\n",
      "257/257 [==============================] - 8s 30ms/step - loss: nan - accuracy: 0.4996 - val_loss: nan - val_accuracy: 0.5027\n",
      "Epoch 10/10\n",
      "257/257 [==============================] - 7s 29ms/step - loss: nan - accuracy: 0.4996 - val_loss: nan - val_accuracy: 0.5027\n",
      "979/979 - 3s - loss: nan - accuracy: 0.5002 - 3s/epoch - 3ms/step\n",
      "\n",
      "Test loss : nan %\n",
      "Test accuracy : 50.01596808433533 %\n",
      "\n"
     ]
    }
   ],
   "source": [
    "epochs = 10\n",
    "batch_size = 256\n",
    "lr = 0.01\n",
    "opt = optimizers.SGD(lr=lr)\n",
    "#optimizer = #SGD #RMSprop #Adam #Adadelta #Adagrad ##Adamax ###Nadam #Ftrl\n",
    "\n",
    "#fun(epochs,batch_size,lr,opt)"
   ]
  },
  {
   "cell_type": "code",
   "execution_count": null,
   "metadata": {
    "colab": {
     "base_uri": "https://localhost:8080/"
    },
    "id": "4AvFx8CtN4tv",
    "outputId": "be83973a-16f5-4556-fa1a-59f8541b676c"
   },
   "outputs": [
    {
     "name": "stderr",
     "output_type": "stream",
     "text": [
      "/usr/local/lib/python3.7/dist-packages/keras/optimizer_v2/rmsprop.py:130: UserWarning: The `lr` argument is deprecated, use `learning_rate` instead.\n",
      "  super(RMSprop, self).__init__(name, **kwargs)\n"
     ]
    },
    {
     "name": "stdout",
     "output_type": "stream",
     "text": [
      "Epoch 1/10\n",
      "257/257 [==============================] - 11s 40ms/step - loss: 3460.9363 - accuracy: 0.6807 - val_loss: 0.6570 - val_accuracy: 0.5550\n",
      "Epoch 2/10\n",
      "257/257 [==============================] - 8s 32ms/step - loss: 1.5320 - accuracy: 0.5168 - val_loss: 0.6932 - val_accuracy: 0.4973\n",
      "Epoch 3/10\n",
      "257/257 [==============================] - 8s 32ms/step - loss: 2.3451 - accuracy: 0.5030 - val_loss: 0.6944 - val_accuracy: 0.5026\n",
      "Epoch 4/10\n",
      "257/257 [==============================] - 8s 32ms/step - loss: 6.2882 - accuracy: 0.5077 - val_loss: 0.6931 - val_accuracy: 0.5027\n",
      "Epoch 5/10\n",
      "257/257 [==============================] - 8s 32ms/step - loss: 1.0679 - accuracy: 0.5015 - val_loss: 0.6933 - val_accuracy: 0.4973\n",
      "Epoch 6/10\n",
      "257/257 [==============================] - 8s 31ms/step - loss: 0.7450 - accuracy: 0.4989 - val_loss: 0.6931 - val_accuracy: 0.5027\n",
      "Epoch 7/10\n",
      "257/257 [==============================] - 8s 31ms/step - loss: 0.6932 - accuracy: 0.5017 - val_loss: 0.6931 - val_accuracy: 0.5027\n",
      "Epoch 8/10\n",
      "257/257 [==============================] - 8s 32ms/step - loss: 0.6932 - accuracy: 0.4984 - val_loss: 0.6937 - val_accuracy: 0.4973\n",
      "Epoch 9/10\n",
      "257/257 [==============================] - 8s 32ms/step - loss: 0.6932 - accuracy: 0.5015 - val_loss: 0.6933 - val_accuracy: 0.4973\n",
      "Epoch 10/10\n",
      "257/257 [==============================] - 8s 31ms/step - loss: 0.6932 - accuracy: 0.5000 - val_loss: 0.6931 - val_accuracy: 0.5027\n",
      "979/979 - 3s - loss: 0.6931 - accuracy: 0.5002 - 3s/epoch - 3ms/step\n",
      "\n",
      "Test loss : 69.3147599697113 %\n",
      "Test accuracy : 50.01596808433533 %\n",
      "\n"
     ]
    }
   ],
   "source": [
    "epochs = 10\n",
    "batch_size = 256\n",
    "lr = 0.01\n",
    "opt = optimizers.RMSprop(lr=lr)\n",
    "#optimizer = #SGD #RMSprop #Adam #Adadelta #Adagrad ##Adamax ###Nadam #Ftrl\n",
    "\n",
    "#fun(epochs,batch_size,lr,opt)"
   ]
  },
  {
   "cell_type": "code",
   "execution_count": null,
   "metadata": {
    "colab": {
     "base_uri": "https://localhost:8080/"
    },
    "id": "y4GQLpA1N43a",
    "outputId": "04e377c9-6d14-4cb4-9a03-6efd2c7a9029"
   },
   "outputs": [
    {
     "name": "stdout",
     "output_type": "stream",
     "text": [
      "Epoch 1/10\n"
     ]
    },
    {
     "name": "stderr",
     "output_type": "stream",
     "text": [
      "/usr/local/lib/python3.7/dist-packages/keras/optimizer_v2/adadelta.py:74: UserWarning: The `lr` argument is deprecated, use `learning_rate` instead.\n",
      "  super(Adadelta, self).__init__(name, **kwargs)\n"
     ]
    },
    {
     "name": "stdout",
     "output_type": "stream",
     "text": [
      "257/257 [==============================] - 9s 33ms/step - loss: 219.7699 - accuracy: 0.7362 - val_loss: 71.1789 - val_accuracy: 0.8531\n",
      "Epoch 2/10\n",
      "257/257 [==============================] - 8s 31ms/step - loss: 48.5138 - accuracy: 0.8620 - val_loss: 44.7501 - val_accuracy: 0.8947\n",
      "Epoch 3/10\n",
      "257/257 [==============================] - 8s 32ms/step - loss: 38.9564 - accuracy: 0.8867 - val_loss: 27.7459 - val_accuracy: 0.9145\n",
      "Epoch 4/10\n",
      "257/257 [==============================] - 8s 30ms/step - loss: 35.8011 - accuracy: 0.8994 - val_loss: 44.8566 - val_accuracy: 0.9019\n",
      "Epoch 5/10\n",
      "257/257 [==============================] - 8s 30ms/step - loss: 32.8641 - accuracy: 0.9033 - val_loss: 19.5903 - val_accuracy: 0.9172\n",
      "Epoch 6/10\n",
      "257/257 [==============================] - 8s 31ms/step - loss: 30.8913 - accuracy: 0.9073 - val_loss: 22.2660 - val_accuracy: 0.9250\n",
      "Epoch 7/10\n",
      "257/257 [==============================] - 8s 33ms/step - loss: 27.3631 - accuracy: 0.9133 - val_loss: 56.7930 - val_accuracy: 0.9103\n",
      "Epoch 8/10\n",
      "257/257 [==============================] - 8s 30ms/step - loss: 30.4359 - accuracy: 0.9136 - val_loss: 20.5314 - val_accuracy: 0.9217\n",
      "Epoch 9/10\n",
      "257/257 [==============================] - 8s 31ms/step - loss: 28.1730 - accuracy: 0.9146 - val_loss: 31.6126 - val_accuracy: 0.8890\n",
      "Epoch 10/10\n",
      "257/257 [==============================] - 8s 31ms/step - loss: 26.5775 - accuracy: 0.9109 - val_loss: 19.6349 - val_accuracy: 0.9234\n",
      "979/979 - 3s - loss: 20.4902 - accuracy: 0.9240 - 3s/epoch - 3ms/step\n",
      "\n",
      "Test loss : 2049.015235900879 %\n",
      "Test accuracy : 92.40227341651917 %\n",
      "\n"
     ]
    }
   ],
   "source": [
    "epochs = 10\n",
    "batch_size = 256\n",
    "lr = 0.01\n",
    "opt = optimizers.Adadelta(lr=lr)\n",
    "#optimizer = #SGD #RMSprop #Adam #Adadelta #Adagrad ##Adamax ###Nadam #Ftrl\n",
    "\n",
    "#fun(epochs,batch_size,lr,opt)"
   ]
  },
  {
   "cell_type": "code",
   "execution_count": null,
   "metadata": {
    "colab": {
     "base_uri": "https://localhost:8080/"
    },
    "id": "uj3yEMNNNy06",
    "outputId": "42ece859-d685-47f9-f5c5-67751d36d394"
   },
   "outputs": [
    {
     "name": "stdout",
     "output_type": "stream",
     "text": [
      "Epoch 1/10\n"
     ]
    },
    {
     "name": "stderr",
     "output_type": "stream",
     "text": [
      "/usr/local/lib/python3.7/dist-packages/keras/optimizer_v2/adagrad.py:74: UserWarning: The `lr` argument is deprecated, use `learning_rate` instead.\n",
      "  super(Adagrad, self).__init__(name, **kwargs)\n"
     ]
    },
    {
     "name": "stdout",
     "output_type": "stream",
     "text": [
      "257/257 [==============================] - 8s 30ms/step - loss: 836.1276 - accuracy: 0.8427 - val_loss: 21.1209 - val_accuracy: 0.9097\n",
      "Epoch 2/10\n",
      "257/257 [==============================] - 8s 30ms/step - loss: 26.1938 - accuracy: 0.9082 - val_loss: 18.1441 - val_accuracy: 0.9209\n",
      "Epoch 3/10\n",
      "257/257 [==============================] - 8s 31ms/step - loss: 16.4671 - accuracy: 0.9190 - val_loss: 14.0614 - val_accuracy: 0.9328\n",
      "Epoch 4/10\n",
      "257/257 [==============================] - 8s 29ms/step - loss: 12.9182 - accuracy: 0.9269 - val_loss: 5.8951 - val_accuracy: 0.9359\n",
      "Epoch 5/10\n",
      "257/257 [==============================] - 8s 32ms/step - loss: 9.5608 - accuracy: 0.9296 - val_loss: 12.1096 - val_accuracy: 0.9236\n",
      "Epoch 6/10\n",
      "257/257 [==============================] - 8s 30ms/step - loss: 8.4694 - accuracy: 0.9312 - val_loss: 6.3534 - val_accuracy: 0.9123\n",
      "Epoch 7/10\n",
      "257/257 [==============================] - 8s 30ms/step - loss: 7.3563 - accuracy: 0.9320 - val_loss: 6.3854 - val_accuracy: 0.9232\n",
      "Epoch 8/10\n",
      "257/257 [==============================] - 8s 30ms/step - loss: 5.9573 - accuracy: 0.9373 - val_loss: 6.8673 - val_accuracy: 0.9446\n",
      "Epoch 9/10\n",
      "257/257 [==============================] - 8s 30ms/step - loss: 5.9215 - accuracy: 0.9346 - val_loss: 7.6936 - val_accuracy: 0.9339\n",
      "Epoch 10/10\n",
      "257/257 [==============================] - 8s 30ms/step - loss: 5.2646 - accuracy: 0.9376 - val_loss: 5.2614 - val_accuracy: 0.9400\n",
      "979/979 - 3s - loss: 5.9192 - accuracy: 0.9369 - 3s/epoch - 3ms/step\n",
      "\n",
      "Test loss : 591.9151782989502 %\n",
      "Test accuracy : 93.68932247161865 %\n",
      "\n"
     ]
    }
   ],
   "source": [
    "epochs = 10\n",
    "batch_size = 256\n",
    "lr = 0.01\n",
    "opt = optimizers.Adagrad(lr=lr)\n",
    "#optimizer = #SGD #RMSprop #Adam #Adadelta #Adagrad ##Adamax ###Nadam #Ftrl\n",
    "\n",
    "#fun(epochs,batch_size,lr,opt)"
   ]
  },
  {
   "cell_type": "code",
   "execution_count": null,
   "metadata": {
    "colab": {
     "base_uri": "https://localhost:8080/"
    },
    "id": "w3gAEiWuLCOE",
    "outputId": "70f21c22-c510-4bcc-a2a2-092511f0256d"
   },
   "outputs": [
    {
     "name": "stdout",
     "output_type": "stream",
     "text": [
      "Epoch 1/10\n"
     ]
    },
    {
     "name": "stderr",
     "output_type": "stream",
     "text": [
      "/usr/local/lib/python3.7/dist-packages/keras/optimizer_v2/adamax.py:90: UserWarning: The `lr` argument is deprecated, use `learning_rate` instead.\n",
      "  super(Adamax, self).__init__(name, **kwargs)\n"
     ]
    },
    {
     "name": "stdout",
     "output_type": "stream",
     "text": [
      "257/257 [==============================] - 9s 32ms/step - loss: 937.8152 - accuracy: 0.8617 - val_loss: 2.7018 - val_accuracy: 0.8969\n",
      "Epoch 2/10\n",
      "257/257 [==============================] - 8s 31ms/step - loss: 2.3449 - accuracy: 0.9001 - val_loss: 1.9552 - val_accuracy: 0.9049\n",
      "Epoch 3/10\n",
      "257/257 [==============================] - 8s 32ms/step - loss: 1.6642 - accuracy: 0.9023 - val_loss: 1.5605 - val_accuracy: 0.9024\n",
      "Epoch 4/10\n",
      "257/257 [==============================] - 8s 31ms/step - loss: 1.4922 - accuracy: 0.9015 - val_loss: 0.9608 - val_accuracy: 0.8991\n",
      "Epoch 5/10\n",
      "257/257 [==============================] - 7s 29ms/step - loss: 1.1174 - accuracy: 0.8979 - val_loss: 0.9950 - val_accuracy: 0.8982\n",
      "Epoch 6/10\n",
      "257/257 [==============================] - 8s 31ms/step - loss: 0.8738 - accuracy: 0.9007 - val_loss: 0.8116 - val_accuracy: 0.9019\n",
      "Epoch 7/10\n",
      "257/257 [==============================] - 8s 31ms/step - loss: 0.9418 - accuracy: 0.9007 - val_loss: 1.0276 - val_accuracy: 0.9060\n",
      "Epoch 8/10\n",
      "257/257 [==============================] - 8s 30ms/step - loss: 0.7094 - accuracy: 0.9001 - val_loss: 1.0854 - val_accuracy: 0.8976\n",
      "Epoch 9/10\n",
      "257/257 [==============================] - 8s 31ms/step - loss: 0.6510 - accuracy: 0.8998 - val_loss: 0.8170 - val_accuracy: 0.8998\n",
      "Epoch 10/10\n",
      "257/257 [==============================] - 8s 29ms/step - loss: 0.4239 - accuracy: 0.9062 - val_loss: 0.7947 - val_accuracy: 0.9054\n",
      "979/979 - 3s - loss: 0.5163 - accuracy: 0.9060 - 3s/epoch - 3ms/step\n",
      "\n",
      "Test loss : 51.633208990097046 %\n",
      "Test accuracy : 90.60104489326477 %\n",
      "\n"
     ]
    }
   ],
   "source": [
    "epochs = 10\n",
    "batch_size = 256\n",
    "lr = 0.01\n",
    "opt = optimizers.Adamax(lr=lr)\n",
    "#optimizer = #SGD #RMSprop #Adam #Adadelta #Adagrad ##Adamax ###Nadam #Ftrl\n",
    "\n",
    "#fun(epochs,batch_size,lr,opt)"
   ]
  },
  {
   "cell_type": "code",
   "execution_count": null,
   "metadata": {
    "id": "g5ayJHnw3wHr"
   },
   "outputs": [],
   "source": [
    "epochs = 10\n",
    "batch_size = 256\n",
    "lr = 0.01\n",
    "opt = optimizers.Ftrl(lr=lr)\n",
    "#optimizer = #SGD #RMSprop #Adam #Adadelta #Adagrad ##Adamax ###Nadam #Ftrl\n",
    "\n",
    "#fun(epochs,batch_size,lr,opt)"
   ]
  },
  {
   "cell_type": "code",
   "execution_count": 65,
   "metadata": {
    "colab": {
     "base_uri": "https://localhost:8080/"
    },
    "id": "FWpgU4bTM8M0",
    "outputId": "0c9154dd-315c-4aa9-da1c-9faffe6e7da2"
   },
   "outputs": [
    {
     "name": "stderr",
     "output_type": "stream",
     "text": [
      "/usr/local/lib/python3.7/dist-packages/keras/optimizer_v2/nadam.py:73: UserWarning: The `lr` argument is deprecated, use `learning_rate` instead.\n",
      "  super(Nadam, self).__init__(name, **kwargs)\n"
     ]
    },
    {
     "name": "stdout",
     "output_type": "stream",
     "text": [
      "Epoch 1/10\n",
      "257/257 [==============================] - 3s 7ms/step - loss: 891.9516 - accuracy: 0.8444 - val_loss: 2.3800 - val_accuracy: 0.8515\n",
      "Epoch 2/10\n",
      "257/257 [==============================] - 2s 7ms/step - loss: 1.0126 - accuracy: 0.8702 - val_loss: 0.3983 - val_accuracy: 0.8868\n",
      "Epoch 3/10\n",
      "257/257 [==============================] - 2s 7ms/step - loss: 0.2780 - accuracy: 0.8985 - val_loss: 0.2899 - val_accuracy: 0.9013\n",
      "Epoch 4/10\n",
      "257/257 [==============================] - 2s 7ms/step - loss: 0.2332 - accuracy: 0.9089 - val_loss: 0.2863 - val_accuracy: 0.9054\n",
      "Epoch 5/10\n",
      "257/257 [==============================] - 2s 9ms/step - loss: 0.2046 - accuracy: 0.9137 - val_loss: 0.1827 - val_accuracy: 0.9264\n",
      "Epoch 6/10\n",
      "257/257 [==============================] - 2s 7ms/step - loss: 0.1798 - accuracy: 0.9220 - val_loss: 0.2068 - val_accuracy: 0.9246\n",
      "Epoch 7/10\n",
      "257/257 [==============================] - 2s 7ms/step - loss: 0.1759 - accuracy: 0.9245 - val_loss: 0.2015 - val_accuracy: 0.9265\n",
      "Epoch 8/10\n",
      "257/257 [==============================] - 2s 7ms/step - loss: 0.1617 - accuracy: 0.9284 - val_loss: 0.1771 - val_accuracy: 0.9305\n",
      "Epoch 9/10\n",
      "257/257 [==============================] - 2s 7ms/step - loss: 0.1601 - accuracy: 0.9307 - val_loss: 0.1952 - val_accuracy: 0.9276\n",
      "Epoch 10/10\n",
      "257/257 [==============================] - 2s 7ms/step - loss: 0.1622 - accuracy: 0.9301 - val_loss: 0.1813 - val_accuracy: 0.9355\n",
      "979/979 - 2s - loss: 0.1975 - accuracy: 0.9308 - 2s/epoch - 2ms/step\n",
      "\n",
      "Test loss : 19.745564460754395 %\n",
      "Test accuracy : 93.07613968849182 %\n",
      "\n",
      "Predicted Label : 1\n",
      "Actual Label : 1\n",
      "################\n",
      "Predicted Label : 0\n",
      "Actual Label : 0\n",
      "################\n",
      "Predicted Label : 0\n",
      "Actual Label : 0\n",
      "################\n",
      "Predicted Label : 0\n",
      "Actual Label : 0\n",
      "################\n",
      "Predicted Label : 1\n",
      "Actual Label : 1\n",
      "################\n",
      "Predicted Label : 0\n",
      "Actual Label : 1\n",
      "################\n",
      "Predicted Label : 1\n",
      "Actual Label : 1\n",
      "################\n",
      "Predicted Label : 1\n",
      "Actual Label : 1\n",
      "################\n",
      "Predicted Label : 1\n",
      "Actual Label : 0\n",
      "################\n",
      "Predicted Label : 1\n",
      "Actual Label : 1\n",
      "################\n"
     ]
    }
   ],
   "source": [
    "epochs = 10\n",
    "batch_size = 256\n",
    "lr = 0.01\n",
    "opt = optimizers.Nadam(lr=lr)\n",
    "#optimizer = #SGD #RMSprop #Adam #Adadelta #Adagrad ##Adamax ###Nadam #Ftrl\n",
    "\n",
    "fun(epochs,batch_size,lr,opt)"
   ]
  },
  {
   "cell_type": "code",
   "execution_count": null,
   "metadata": {
    "id": "hw4Ttd2MU8bG"
   },
   "outputs": [],
   "source": [
    "#############################"
   ]
  },
  {
   "cell_type": "code",
   "execution_count": 83,
   "metadata": {
    "id": "2E0rpRoN7z8C"
   },
   "outputs": [],
   "source": []
  }
 ],
 "metadata": {
  "accelerator": "GPU",
  "colab": {
   "collapsed_sections": [],
   "name": "Competition.ipynb",
   "provenance": []
  },
  "kernelspec": {
   "display_name": "Python 3",
   "language": "python",
   "name": "python3"
  },
  "language_info": {
   "codemirror_mode": {
    "name": "ipython",
    "version": 3
   },
   "file_extension": ".py",
   "mimetype": "text/x-python",
   "name": "python",
   "nbconvert_exporter": "python",
   "pygments_lexer": "ipython3",
   "version": "3.8.8"
  }
 },
 "nbformat": 4,
 "nbformat_minor": 1
}
